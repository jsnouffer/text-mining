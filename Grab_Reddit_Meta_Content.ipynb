{
 "cells": [
  {
   "cell_type": "code",
   "execution_count": 32,
   "metadata": {},
   "outputs": [],
   "source": [
    "import praw\n",
    "from elasticsearch import Elasticsearch\n",
    "\n",
    "from elasticsearch import helpers\n",
    "scan = helpers.scan\n",
    "\n",
    "from datetime import datetime"
   ]
  },
  {
   "cell_type": "markdown",
   "metadata": {},
   "source": [
    "## Setup Reddit API and ElasticSearch Connection"
   ]
  },
  {
   "cell_type": "code",
   "execution_count": 2,
   "metadata": {},
   "outputs": [
    {
     "name": "stdout",
     "output_type": "stream",
     "text": [
      "https://www.reddit.com/api/v1/authorize?client_id=Cz8OU1vxajnWDw&duration=permanent&redirect_uri=http%3A%2F%2Flocalhost%3A8080&response_type=code&scope=identity&state=...\n"
     ]
    },
    {
     "data": {
      "text/plain": [
       "<Elasticsearch([{'host': 'localhost', 'port': 9200}])>"
      ]
     },
     "execution_count": 2,
     "metadata": {},
     "output_type": "execute_result"
    }
   ],
   "source": [
    "reddit = praw.Reddit(client_id='Cz8OU1vxajnWDw',\n",
    "                     client_secret='5qax29ZPI2_Rdjc1TsXXEypFduk',\n",
    "                     redirect_uri='http://localhost:8080',\n",
    "                     user_agent='my user agent')\n",
    "\n",
    "print(reddit.auth.url(['identity'], '...', 'permanent'))\n",
    "\n",
    "es = Elasticsearch([{'host':'localhost','port':9200}])\n",
    "es"
   ]
  },
  {
   "cell_type": "markdown",
   "metadata": {},
   "source": [
    "## Grab popular subreddits from API"
   ]
  },
  {
   "cell_type": "code",
   "execution_count": 19,
   "metadata": {},
   "outputs": [
    {
     "name": "stdout",
     "output_type": "stream",
     "text": [
      "100\n"
     ]
    }
   ],
   "source": [
    "# Grab popular subreddits\n",
    "count = 0\n",
    "for subreddit in reddit.subreddits.popular():\n",
    "    count += 1\n",
    "    doc = {\n",
    "        \"id\": subreddit.display_name,\n",
    "        \"title\": subreddit.title,\n",
    "        \"description\": subreddit.public_description,\n",
    "        \"subscribers\": subreddit.subscribers,\n",
    "        \"created\": datetime.fromtimestamp(subreddit.created_utc).isoformat(),\n",
    "        \"language\": subreddit.lang,\n",
    "        \"category\": subreddit.advertiser_category\n",
    "    }\n",
    "    \n",
    "    # Ingest into Elastic\n",
    "    es.index(index = 'subreddits.popular', id = subreddit.display_name, body = doc)\n",
    "print(count)\n"
   ]
  },
  {
   "cell_type": "code",
   "execution_count": null,
   "metadata": {},
   "outputs": [],
   "source": [
    "redditors = 'redditors'\n",
    "\n",
    "try:\n",
    "    es.indices.create(index = redditors)\n",
    "except:\n",
    "    pass\n",
    "\n",
    "results = scan(es,\n",
    "    query = {\"query\": {\"match_all\" : {}}},\n",
    "    index = 'subreddits.popular'\n",
    ")\n",
    "\n",
    "count = 0\n",
    "for doc in results:\n",
    "    subreddit = reddit.subreddit(doc['_id'])\n",
    "    for comment in subreddit.comments(limit = 1000):\n",
    "        count += 1\n",
    "        doc = {}\n",
    "        \n",
    "        author = comment.author\n",
    "        \n",
    "        if (es.exists(index = redditors, id = comment.author)):\n",
    "            doc = es.get(index = redditors, id = comment.author)\n",
    "            print(doc)\n",
    "        \n",
    "        if 'name' not in doc.keys():\n",
    "            doc['name'] = author.name\n",
    "            \n",
    "        if 'object_id' not in doc.keys():\n",
    "            doc['object_id'] = author.fullname\n",
    "            \n",
    "        if 'categories' not in doc.keys(): \n",
    "            doc['categories'] = []\n",
    "        \n",
    "        if subreddit.advertiser_category not in doc['categories']:\n",
    "            doc['categories'].append(subreddit.advertiser_category)\n",
    "        \n",
    "        if 'subreddits' not in doc.keys(): \n",
    "            doc['subreddits'] = []\n",
    "        \n",
    "        if subreddit.display_name not in doc['subreddits']:\n",
    "            doc['subreddits'].append(subreddit.display_name)\n",
    "        \n",
    "        if 'trophies' not in doc.keys():\n",
    "            doc['trophies'] = []\n",
    "        \n",
    "        for trophy in author.trophies():\n",
    "            if trophy.name not in doc['trophies']:\n",
    "                doc['trophies'].append(trophy.name)\n",
    "    \n",
    "        print(count)\n",
    "    \n"
   ]
  }
 ],
 "metadata": {
  "kernelspec": {
   "display_name": "Python 3",
   "language": "python",
   "name": "python3"
  },
  "language_info": {
   "codemirror_mode": {
    "name": "ipython",
    "version": 3
   },
   "file_extension": ".py",
   "mimetype": "text/x-python",
   "name": "python",
   "nbconvert_exporter": "python",
   "pygments_lexer": "ipython3",
   "version": "3.7.4"
  }
 },
 "nbformat": 4,
 "nbformat_minor": 4
}
