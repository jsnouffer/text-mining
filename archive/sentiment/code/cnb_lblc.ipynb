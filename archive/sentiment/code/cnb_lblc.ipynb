{
 "cells": [
  {
   "cell_type": "code",
   "execution_count": 2,
   "metadata": {},
   "outputs": [],
   "source": [
    "import re\n",
    "import pandas as pd\n",
    "import numpy as np\n",
    "from sklearn.model_selection import ParameterGrid\n",
    "from sklearn.feature_extraction.text import CountVectorizer\n",
    "from sklearn.model_selection import train_test_split\n",
    "from sklearn.naive_bayes import ComplementNB\n",
    "from sklearn.metrics import accuracy_score"
   ]
  },
  {
   "cell_type": "code",
   "execution_count": 3,
   "metadata": {},
   "outputs": [],
   "source": [
    "df = pd.read_csv('/home/jason/sentiment_data/clean.txt', sep='&&&', header=None, names=['id','sentiment','text'],\n",
    "                engine='python', index_col=0)"
   ]
  },
  {
   "cell_type": "code",
   "execution_count": 4,
   "metadata": {},
   "outputs": [
    {
     "data": {
      "text/plain": [
       "80"
      ]
     },
     "execution_count": 4,
     "metadata": {},
     "output_type": "execute_result"
    }
   ],
   "source": [
    "SAMPLE_PERCENTAGE: float = 0.1\n",
    "RANDOM_SAMPLE_SEED: int = 42\n",
    "\n",
    "param_template = {\n",
    "    'alpha': np.arange(0.1, 10.0, 0.5),\n",
    "    'fit_prior': [True, False],\n",
    "    'norm': [True, False]\n",
    "}\n",
    "\n",
    "parameter_grid = ParameterGrid(param_template)\n",
    "len(parameter_grid)"
   ]
  },
  {
   "cell_type": "code",
   "execution_count": 5,
   "metadata": {},
   "outputs": [],
   "source": [
    "def preprocess(text):\n",
    "    # remove links and special characters\n",
    "    return ' '.join(re.sub(\"(@[A-Za-z0-9]+)|([^0-9A-Za-z \\t])|(\\w+:\\/\\/\\S+)\", \" \", text).split())"
   ]
  },
  {
   "cell_type": "code",
   "execution_count": 6,
   "metadata": {},
   "outputs": [
    {
     "name": "stdout",
     "output_type": "stream",
     "text": [
      "{'alpha': 0.1, 'fit_prior': True, 'norm': True, 'score': '0.727'}\n",
      "{'alpha': 0.1, 'fit_prior': True, 'norm': False, 'score': '0.72465'}\n",
      "{'alpha': 0.1, 'fit_prior': False, 'norm': True, 'score': '0.72885'}\n",
      "{'alpha': 0.1, 'fit_prior': False, 'norm': False, 'score': '0.72905'}\n",
      "{'alpha': 0.6, 'fit_prior': True, 'norm': True, 'score': '0.7345'}\n",
      "{'alpha': 0.6, 'fit_prior': True, 'norm': False, 'score': '0.743'}\n",
      "{'alpha': 0.6, 'fit_prior': False, 'norm': True, 'score': '0.7435'}\n",
      "{'alpha': 0.6, 'fit_prior': False, 'norm': False, 'score': '0.74235'}\n",
      "{'alpha': 1.1, 'fit_prior': True, 'norm': True, 'score': '0.74245'}\n",
      "{'alpha': 1.1, 'fit_prior': True, 'norm': False, 'score': '0.74535'}\n",
      "{'alpha': 1.1, 'fit_prior': False, 'norm': True, 'score': '0.74205'}\n",
      "{'alpha': 1.1, 'fit_prior': False, 'norm': False, 'score': '0.74965'}\n",
      "{'alpha': 1.6, 'fit_prior': True, 'norm': True, 'score': '0.74375'}\n",
      "{'alpha': 1.6, 'fit_prior': True, 'norm': False, 'score': '0.74685'}\n",
      "{'alpha': 1.6, 'fit_prior': False, 'norm': True, 'score': '0.7493'}\n",
      "{'alpha': 1.6, 'fit_prior': False, 'norm': False, 'score': '0.7545'}\n",
      "{'alpha': 2.1, 'fit_prior': True, 'norm': True, 'score': '0.7489'}\n",
      "{'alpha': 2.1, 'fit_prior': True, 'norm': False, 'score': '0.7499'}\n",
      "{'alpha': 2.1, 'fit_prior': False, 'norm': True, 'score': '0.7447'}\n",
      "{'alpha': 2.1, 'fit_prior': False, 'norm': False, 'score': '0.75015'}\n",
      "{'alpha': 2.6, 'fit_prior': True, 'norm': True, 'score': '0.74775'}\n",
      "{'alpha': 2.6, 'fit_prior': True, 'norm': False, 'score': '0.74995'}\n",
      "{'alpha': 2.6, 'fit_prior': False, 'norm': True, 'score': '0.7509'}\n",
      "{'alpha': 2.6, 'fit_prior': False, 'norm': False, 'score': '0.75285'}\n",
      "{'alpha': 3.1, 'fit_prior': True, 'norm': True, 'score': '0.7524'}\n",
      "{'alpha': 3.1, 'fit_prior': True, 'norm': False, 'score': '0.7489'}\n",
      "{'alpha': 3.1, 'fit_prior': False, 'norm': True, 'score': '0.75045'}\n",
      "{'alpha': 3.1, 'fit_prior': False, 'norm': False, 'score': '0.75435'}\n",
      "{'alpha': 3.6, 'fit_prior': True, 'norm': True, 'score': '0.7514'}\n",
      "{'alpha': 3.6, 'fit_prior': True, 'norm': False, 'score': '0.7524'}\n",
      "{'alpha': 3.6, 'fit_prior': False, 'norm': True, 'score': '0.7471'}\n",
      "{'alpha': 3.6, 'fit_prior': False, 'norm': False, 'score': '0.75225'}\n",
      "{'alpha': 4.1, 'fit_prior': True, 'norm': True, 'score': '0.75115'}\n",
      "{'alpha': 4.1, 'fit_prior': True, 'norm': False, 'score': '0.752'}\n",
      "{'alpha': 4.1, 'fit_prior': False, 'norm': True, 'score': '0.7498'}\n",
      "{'alpha': 4.1, 'fit_prior': False, 'norm': False, 'score': '0.75265'}\n",
      "{'alpha': 4.6, 'fit_prior': True, 'norm': True, 'score': '0.74205'}\n",
      "{'alpha': 4.6, 'fit_prior': True, 'norm': False, 'score': '0.7537'}\n",
      "{'alpha': 4.6, 'fit_prior': False, 'norm': True, 'score': '0.74315'}\n",
      "{'alpha': 4.6, 'fit_prior': False, 'norm': False, 'score': '0.75265'}\n",
      "{'alpha': 5.1, 'fit_prior': True, 'norm': True, 'score': '0.74985'}\n",
      "{'alpha': 5.1, 'fit_prior': True, 'norm': False, 'score': '0.7526'}\n",
      "{'alpha': 5.1, 'fit_prior': False, 'norm': True, 'score': '0.7455'}\n",
      "{'alpha': 5.1, 'fit_prior': False, 'norm': False, 'score': '0.7537'}\n",
      "{'alpha': 5.6, 'fit_prior': True, 'norm': True, 'score': '0.75165'}\n",
      "{'alpha': 5.6, 'fit_prior': True, 'norm': False, 'score': '0.75035'}\n",
      "{'alpha': 5.6, 'fit_prior': False, 'norm': True, 'score': '0.7492'}\n",
      "{'alpha': 5.6, 'fit_prior': False, 'norm': False, 'score': '0.7536'}\n",
      "{'alpha': 6.1, 'fit_prior': True, 'norm': True, 'score': '0.7461'}\n",
      "{'alpha': 6.1, 'fit_prior': True, 'norm': False, 'score': '0.751'}\n",
      "{'alpha': 6.1, 'fit_prior': False, 'norm': True, 'score': '0.7484'}\n",
      "{'alpha': 6.1, 'fit_prior': False, 'norm': False, 'score': '0.7532'}\n",
      "{'alpha': 6.6, 'fit_prior': True, 'norm': True, 'score': '0.7477'}\n",
      "{'alpha': 6.6, 'fit_prior': True, 'norm': False, 'score': '0.7522'}\n",
      "{'alpha': 6.6, 'fit_prior': False, 'norm': True, 'score': '0.75425'}\n",
      "{'alpha': 6.6, 'fit_prior': False, 'norm': False, 'score': '0.75605'}\n",
      "{'alpha': 7.1, 'fit_prior': True, 'norm': True, 'score': '0.74625'}\n",
      "{'alpha': 7.1, 'fit_prior': True, 'norm': False, 'score': '0.7539'}\n",
      "{'alpha': 7.1, 'fit_prior': False, 'norm': True, 'score': '0.75035'}\n",
      "{'alpha': 7.1, 'fit_prior': False, 'norm': False, 'score': '0.7505'}\n",
      "{'alpha': 7.6, 'fit_prior': True, 'norm': True, 'score': '0.75575'}\n",
      "{'alpha': 7.6, 'fit_prior': True, 'norm': False, 'score': '0.7523'}\n",
      "{'alpha': 7.6, 'fit_prior': False, 'norm': True, 'score': '0.75105'}\n",
      "{'alpha': 7.6, 'fit_prior': False, 'norm': False, 'score': '0.74985'}\n",
      "{'alpha': 8.1, 'fit_prior': True, 'norm': True, 'score': '0.7553'}\n",
      "{'alpha': 8.1, 'fit_prior': True, 'norm': False, 'score': '0.75205'}\n",
      "{'alpha': 8.1, 'fit_prior': False, 'norm': True, 'score': '0.7498'}\n",
      "{'alpha': 8.1, 'fit_prior': False, 'norm': False, 'score': '0.74925'}\n",
      "{'alpha': 8.6, 'fit_prior': True, 'norm': True, 'score': '0.75465'}\n",
      "{'alpha': 8.6, 'fit_prior': True, 'norm': False, 'score': '0.75785'}\n",
      "{'alpha': 8.6, 'fit_prior': False, 'norm': True, 'score': '0.75255'}\n",
      "{'alpha': 8.6, 'fit_prior': False, 'norm': False, 'score': '0.753'}\n",
      "{'alpha': 9.1, 'fit_prior': True, 'norm': True, 'score': '0.7476'}\n",
      "{'alpha': 9.1, 'fit_prior': True, 'norm': False, 'score': '0.7465'}\n",
      "{'alpha': 9.1, 'fit_prior': False, 'norm': True, 'score': '0.74975'}\n",
      "{'alpha': 9.1, 'fit_prior': False, 'norm': False, 'score': '0.7499'}\n",
      "{'alpha': 9.6, 'fit_prior': True, 'norm': True, 'score': '0.74915'}\n",
      "{'alpha': 9.6, 'fit_prior': True, 'norm': False, 'score': '0.7532'}\n",
      "{'alpha': 9.6, 'fit_prior': False, 'norm': True, 'score': '0.75205'}\n",
      "{'alpha': 9.6, 'fit_prior': False, 'norm': False, 'score': '0.7523'}\n"
     ]
    }
   ],
   "source": [
    "for parameters in parameter_grid:\n",
    "    df_sample = df.sample(frac=SAMPLE_PERCENTAGE, random_state=RANDOM_SAMPLE_SEED)\n",
    "    df_sample['text_processed'] = df_sample['text'].apply(preprocess)\n",
    "    \n",
    "    cv = CountVectorizer(binary=True, stop_words='english')\n",
    "    cv.fit(df_sample['text_processed'])\n",
    "    X = cv.transform(df_sample['text_processed'])\n",
    "\n",
    "\n",
    "    X_train, X_val, y_train, y_val = train_test_split(\n",
    "        X, df_sample['sentiment'], train_size = 0.8\n",
    "    )\n",
    "    \n",
    "    nb = ComplementNB(alpha=parameters['alpha'],\n",
    "                    fit_prior=parameters['fit_prior'],\n",
    "                    norm=parameters['norm'])\n",
    "                            \n",
    "    nb.fit(X_train, y_train)\n",
    "    parameters['score'] = str(accuracy_score(y_val, nb.predict(X_val)))\n",
    "    print (str(parameters))\n",
    "    "
   ]
  }
 ],
 "metadata": {
  "kernelspec": {
   "display_name": "Python 3",
   "language": "python",
   "name": "python3"
  },
  "language_info": {
   "codemirror_mode": {
    "name": "ipython",
    "version": 3
   },
   "file_extension": ".py",
   "mimetype": "text/x-python",
   "name": "python",
   "nbconvert_exporter": "python",
   "pygments_lexer": "ipython3",
   "version": "3.7.4"
  }
 },
 "nbformat": 4,
 "nbformat_minor": 4
}
