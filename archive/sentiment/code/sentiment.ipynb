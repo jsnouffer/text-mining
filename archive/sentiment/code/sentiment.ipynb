{
 "cells": [
  {
   "cell_type": "code",
   "execution_count": 1,
   "metadata": {},
   "outputs": [],
   "source": [
    "import re\n",
    "import pandas as pd\n",
    "import numpy as np\n",
    "from sklearn.model_selection import ParameterGrid\n",
    "from sklearn.naive_bayes import BernoulliNB, ComplementNB\n",
    "from sklearn.feature_extraction.text import CountVectorizer\n",
    "from sklearn.model_selection import train_test_split\n",
    "from sklearn.linear_model import LogisticRegression\n",
    "from sklearn.metrics import accuracy_score\n",
    "from sklearn.preprocessing import LabelEncoder"
   ]
  },
  {
   "cell_type": "code",
   "execution_count": 2,
   "metadata": {},
   "outputs": [
    {
     "data": {
      "text/html": [
       "<div>\n",
       "<style scoped>\n",
       "    .dataframe tbody tr th:only-of-type {\n",
       "        vertical-align: middle;\n",
       "    }\n",
       "\n",
       "    .dataframe tbody tr th {\n",
       "        vertical-align: top;\n",
       "    }\n",
       "\n",
       "    .dataframe thead th {\n",
       "        text-align: right;\n",
       "    }\n",
       "</style>\n",
       "<table border=\"1\" class=\"dataframe\">\n",
       "  <thead>\n",
       "    <tr style=\"text-align: right;\">\n",
       "      <th></th>\n",
       "      <th>sentiment</th>\n",
       "      <th>text</th>\n",
       "    </tr>\n",
       "    <tr>\n",
       "      <th>id</th>\n",
       "      <th></th>\n",
       "      <th></th>\n",
       "    </tr>\n",
       "  </thead>\n",
       "  <tbody>\n",
       "    <tr>\n",
       "      <td>399553</td>\n",
       "      <td>-</td>\n",
       "      <td>Its gonna b a lonnng day...job hunting</td>\n",
       "    </tr>\n",
       "    <tr>\n",
       "      <td>668139</td>\n",
       "      <td>+</td>\n",
       "      <td>Tired but motivated 'Til l8r twittheads lol</td>\n",
       "    </tr>\n",
       "    <tr>\n",
       "      <td>825601</td>\n",
       "      <td>+</td>\n",
       "      <td>@BethanyinFL Thank you!!! He sends his thanks...</td>\n",
       "    </tr>\n",
       "    <tr>\n",
       "      <td>369583</td>\n",
       "      <td>-</td>\n",
       "      <td>David Carradine has been found dead. Awww, gr...</td>\n",
       "    </tr>\n",
       "    <tr>\n",
       "      <td>761466</td>\n",
       "      <td>+</td>\n",
       "      <td>June 29th and 30th!!</td>\n",
       "    </tr>\n",
       "    <tr>\n",
       "      <td>...</td>\n",
       "      <td>...</td>\n",
       "      <td>...</td>\n",
       "    </tr>\n",
       "    <tr>\n",
       "      <td>114515</td>\n",
       "      <td>-</td>\n",
       "      <td>@MellyG14 @kokalola : yes they were on, I hav...</td>\n",
       "    </tr>\n",
       "    <tr>\n",
       "      <td>37249</td>\n",
       "      <td>-</td>\n",
       "      <td>no rafael nadal at wimbledon i dont know if i...</td>\n",
       "    </tr>\n",
       "    <tr>\n",
       "      <td>142521</td>\n",
       "      <td>-</td>\n",
       "      <td>If it wasn't for this exam I would be by a po...</td>\n",
       "    </tr>\n",
       "    <tr>\n",
       "      <td>486761</td>\n",
       "      <td>+</td>\n",
       "      <td>@Twisted4Jordan Good for Jon. Glad he did Sou...</td>\n",
       "    </tr>\n",
       "    <tr>\n",
       "      <td>126393</td>\n",
       "      <td>-</td>\n",
       "      <td>@rofltallman very very true. my mom wont let ...</td>\n",
       "    </tr>\n",
       "  </tbody>\n",
       "</table>\n",
       "<p>999993 rows × 2 columns</p>\n",
       "</div>"
      ],
      "text/plain": [
       "       sentiment                                               text\n",
       "id                                                                 \n",
       "399553         -             Its gonna b a lonnng day...job hunting\n",
       "668139         +        Tired but motivated 'Til l8r twittheads lol\n",
       "825601         +   @BethanyinFL Thank you!!! He sends his thanks...\n",
       "369583         -   David Carradine has been found dead. Awww, gr...\n",
       "761466         +                               June 29th and 30th!!\n",
       "...          ...                                                ...\n",
       "114515         -   @MellyG14 @kokalola : yes they were on, I hav...\n",
       "37249          -   no rafael nadal at wimbledon i dont know if i...\n",
       "142521         -   If it wasn't for this exam I would be by a po...\n",
       "486761         +   @Twisted4Jordan Good for Jon. Glad he did Sou...\n",
       "126393         -   @rofltallman very very true. my mom wont let ...\n",
       "\n",
       "[999993 rows x 2 columns]"
      ]
     },
     "execution_count": 2,
     "metadata": {},
     "output_type": "execute_result"
    }
   ],
   "source": [
    "df = pd.read_csv('/home/jason/sentiment_data/clean.txt', sep='&&&', header=None, names=['id','sentiment','text'],\n",
    "                engine='python', index_col=0)\n",
    "df"
   ]
  },
  {
   "cell_type": "code",
   "execution_count": 3,
   "metadata": {},
   "outputs": [
    {
     "data": {
      "text/plain": [
       "(999993, 2)"
      ]
     },
     "execution_count": 3,
     "metadata": {},
     "output_type": "execute_result"
    }
   ],
   "source": [
    "df_sample = df.sample(frac=1.0)\n",
    "df_sample.shape"
   ]
  },
  {
   "cell_type": "code",
   "execution_count": 4,
   "metadata": {},
   "outputs": [],
   "source": [
    "def preprocess(text):\n",
    "    # remove links and special characters\n",
    "    return ' '.join(re.sub(\"(@[A-Za-z0-9]+)|([^0-9A-Za-z \\t])|(\\w+:\\/\\/\\S+)\", \" \", text).split())"
   ]
  },
  {
   "cell_type": "code",
   "execution_count": 5,
   "metadata": {},
   "outputs": [],
   "source": [
    "df_sample['text_processed'] = df_sample['text'].apply(preprocess)"
   ]
  },
  {
   "cell_type": "code",
   "execution_count": 52,
   "metadata": {},
   "outputs": [],
   "source": [
    "cv = CountVectorizer(binary=True, stop_words='english')\n",
    "cv.fit(df_sample['text_processed'])\n",
    "X = cv.transform(df_sample['text_processed'])\n",
    "\n",
    "X_train, X_val, y_train, y_val = train_test_split(\n",
    "    X, df_sample['sentiment'], train_size = 0.9\n",
    ")"
   ]
  },
  {
   "cell_type": "code",
   "execution_count": 12,
   "metadata": {},
   "outputs": [
    {
     "name": "stdout",
     "output_type": "stream",
     "text": [
      "1min 7s ± 1.14 s per loop (mean ± std. dev. of 7 runs, 1 loop each)\n",
      "0.76965\n"
     ]
    }
   ],
   "source": [
    "lr = LogisticRegression(C=100, dual=False, intercept_scaling=100, solver='lbfgs', max_iter=100, n_jobs=-1)\n",
    "%timeit lr.fit(X_train, y_train)\n",
    "print (accuracy_score(y_val, lr.predict(X_val)))"
   ]
  },
  {
   "cell_type": "code",
   "execution_count": 66,
   "metadata": {},
   "outputs": [
    {
     "name": "stdout",
     "output_type": "stream",
     "text": [
      "4.42 s ± 141 ms per loop (mean ± std. dev. of 7 runs, 1 loop each)\n",
      "0.76906\n"
     ]
    }
   ],
   "source": [
    "cnb = ComplementNB(alpha=8.6,\n",
    "                fit_prior=True,\n",
    "                norm=False)\n",
    "%timeit cnb.fit(X_train, y_train)\n",
    "print (accuracy_score(y_val, nb.predict(X_val)))"
   ]
  },
  {
   "cell_type": "code",
   "execution_count": 67,
   "metadata": {},
   "outputs": [
    {
     "name": "stdout",
     "output_type": "stream",
     "text": [
      "4.66 s ± 307 ms per loop (mean ± std. dev. of 7 runs, 1 loop each)\n",
      "0.76906\n"
     ]
    }
   ],
   "source": [
    "bnb = BernoulliNB(alpha=6.0, fit_prior=False)\n",
    "%timeit bnb.fit(X_train, y_train)\n",
    "print (accuracy_score(y_val, nb.predict(X_val)))"
   ]
  },
  {
   "cell_type": "code",
   "execution_count": 68,
   "metadata": {},
   "outputs": [
    {
     "ename": "ValueError",
     "evalue": "Length mismatch: Expected axis has 100000 elements, new values have 99999 elements",
     "output_type": "error",
     "traceback": [
      "\u001b[0;31m---------------------------------------------------------------------------\u001b[0m",
      "\u001b[0;31mValueError\u001b[0m                                Traceback (most recent call last)",
      "\u001b[0;32m<ipython-input-68-a245652d7a78>\u001b[0m in \u001b[0;36m<module>\u001b[0;34m\u001b[0m\n\u001b[1;32m     30\u001b[0m     \u001b[0my_pred\u001b[0m \u001b[0;34m=\u001b[0m \u001b[0mlr\u001b[0m\u001b[0;34m.\u001b[0m\u001b[0mpredict\u001b[0m\u001b[0;34m(\u001b[0m\u001b[0mx_test\u001b[0m\u001b[0;34m)\u001b[0m\u001b[0;34m\u001b[0m\u001b[0;34m\u001b[0m\u001b[0m\n\u001b[1;32m     31\u001b[0m     \u001b[0mresults\u001b[0m \u001b[0;34m=\u001b[0m \u001b[0mpd\u001b[0m\u001b[0;34m.\u001b[0m\u001b[0mDataFrame\u001b[0m\u001b[0;34m(\u001b[0m\u001b[0my_pred\u001b[0m\u001b[0;34m)\u001b[0m\u001b[0;34m\u001b[0m\u001b[0;34m\u001b[0m\u001b[0m\n\u001b[0;32m---> 32\u001b[0;31m     \u001b[0mresults\u001b[0m\u001b[0;34m.\u001b[0m\u001b[0mindex\u001b[0m \u001b[0;34m=\u001b[0m \u001b[0mtest1_public\u001b[0m\u001b[0;34m[\u001b[0m\u001b[0;34m'id'\u001b[0m\u001b[0;34m]\u001b[0m\u001b[0;34m\u001b[0m\u001b[0;34m\u001b[0m\u001b[0m\n\u001b[0m\u001b[1;32m     33\u001b[0m     \u001b[0mresults\u001b[0m\u001b[0;34m.\u001b[0m\u001b[0mto_csv\u001b[0m\u001b[0;34m(\u001b[0m\u001b[0;34m\"jasonsnouffer_file2_entry1.txt\"\u001b[0m\u001b[0;34m,\u001b[0m \u001b[0msep\u001b[0m\u001b[0;34m=\u001b[0m\u001b[0;34m'\\t'\u001b[0m\u001b[0;34m,\u001b[0m \u001b[0mheader\u001b[0m\u001b[0;34m=\u001b[0m\u001b[0;32mFalse\u001b[0m\u001b[0;34m)\u001b[0m\u001b[0;34m\u001b[0m\u001b[0;34m\u001b[0m\u001b[0m\n\u001b[1;32m     34\u001b[0m \u001b[0;34m\u001b[0m\u001b[0m\n",
      "\u001b[0;32m~/.local/lib/python3.7/site-packages/pandas/core/generic.py\u001b[0m in \u001b[0;36m__setattr__\u001b[0;34m(self, name, value)\u001b[0m\n\u001b[1;32m   5190\u001b[0m         \u001b[0;32mtry\u001b[0m\u001b[0;34m:\u001b[0m\u001b[0;34m\u001b[0m\u001b[0;34m\u001b[0m\u001b[0m\n\u001b[1;32m   5191\u001b[0m             \u001b[0mobject\u001b[0m\u001b[0;34m.\u001b[0m\u001b[0m__getattribute__\u001b[0m\u001b[0;34m(\u001b[0m\u001b[0mself\u001b[0m\u001b[0;34m,\u001b[0m \u001b[0mname\u001b[0m\u001b[0;34m)\u001b[0m\u001b[0;34m\u001b[0m\u001b[0;34m\u001b[0m\u001b[0m\n\u001b[0;32m-> 5192\u001b[0;31m             \u001b[0;32mreturn\u001b[0m \u001b[0mobject\u001b[0m\u001b[0;34m.\u001b[0m\u001b[0m__setattr__\u001b[0m\u001b[0;34m(\u001b[0m\u001b[0mself\u001b[0m\u001b[0;34m,\u001b[0m \u001b[0mname\u001b[0m\u001b[0;34m,\u001b[0m \u001b[0mvalue\u001b[0m\u001b[0;34m)\u001b[0m\u001b[0;34m\u001b[0m\u001b[0;34m\u001b[0m\u001b[0m\n\u001b[0m\u001b[1;32m   5193\u001b[0m         \u001b[0;32mexcept\u001b[0m \u001b[0mAttributeError\u001b[0m\u001b[0;34m:\u001b[0m\u001b[0;34m\u001b[0m\u001b[0;34m\u001b[0m\u001b[0m\n\u001b[1;32m   5194\u001b[0m             \u001b[0;32mpass\u001b[0m\u001b[0;34m\u001b[0m\u001b[0;34m\u001b[0m\u001b[0m\n",
      "\u001b[0;32mpandas/_libs/properties.pyx\u001b[0m in \u001b[0;36mpandas._libs.properties.AxisProperty.__set__\u001b[0;34m()\u001b[0m\n",
      "\u001b[0;32m~/.local/lib/python3.7/site-packages/pandas/core/generic.py\u001b[0m in \u001b[0;36m_set_axis\u001b[0;34m(self, axis, labels)\u001b[0m\n\u001b[1;32m    688\u001b[0m \u001b[0;34m\u001b[0m\u001b[0m\n\u001b[1;32m    689\u001b[0m     \u001b[0;32mdef\u001b[0m \u001b[0m_set_axis\u001b[0m\u001b[0;34m(\u001b[0m\u001b[0mself\u001b[0m\u001b[0;34m,\u001b[0m \u001b[0maxis\u001b[0m\u001b[0;34m,\u001b[0m \u001b[0mlabels\u001b[0m\u001b[0;34m)\u001b[0m\u001b[0;34m:\u001b[0m\u001b[0;34m\u001b[0m\u001b[0;34m\u001b[0m\u001b[0m\n\u001b[0;32m--> 690\u001b[0;31m         \u001b[0mself\u001b[0m\u001b[0;34m.\u001b[0m\u001b[0m_data\u001b[0m\u001b[0;34m.\u001b[0m\u001b[0mset_axis\u001b[0m\u001b[0;34m(\u001b[0m\u001b[0maxis\u001b[0m\u001b[0;34m,\u001b[0m \u001b[0mlabels\u001b[0m\u001b[0;34m)\u001b[0m\u001b[0;34m\u001b[0m\u001b[0;34m\u001b[0m\u001b[0m\n\u001b[0m\u001b[1;32m    691\u001b[0m         \u001b[0mself\u001b[0m\u001b[0;34m.\u001b[0m\u001b[0m_clear_item_cache\u001b[0m\u001b[0;34m(\u001b[0m\u001b[0;34m)\u001b[0m\u001b[0;34m\u001b[0m\u001b[0;34m\u001b[0m\u001b[0m\n\u001b[1;32m    692\u001b[0m \u001b[0;34m\u001b[0m\u001b[0m\n",
      "\u001b[0;32m~/.local/lib/python3.7/site-packages/pandas/core/internals/managers.py\u001b[0m in \u001b[0;36mset_axis\u001b[0;34m(self, axis, new_labels)\u001b[0m\n\u001b[1;32m    181\u001b[0m             raise ValueError(\n\u001b[1;32m    182\u001b[0m                 \u001b[0;34m\"Length mismatch: Expected axis has {old} elements, new \"\u001b[0m\u001b[0;34m\u001b[0m\u001b[0;34m\u001b[0m\u001b[0m\n\u001b[0;32m--> 183\u001b[0;31m                 \u001b[0;34m\"values have {new} elements\"\u001b[0m\u001b[0;34m.\u001b[0m\u001b[0mformat\u001b[0m\u001b[0;34m(\u001b[0m\u001b[0mold\u001b[0m\u001b[0;34m=\u001b[0m\u001b[0mold_len\u001b[0m\u001b[0;34m,\u001b[0m \u001b[0mnew\u001b[0m\u001b[0;34m=\u001b[0m\u001b[0mnew_len\u001b[0m\u001b[0;34m)\u001b[0m\u001b[0;34m\u001b[0m\u001b[0;34m\u001b[0m\u001b[0m\n\u001b[0m\u001b[1;32m    184\u001b[0m             )\n\u001b[1;32m    185\u001b[0m \u001b[0;34m\u001b[0m\u001b[0m\n",
      "\u001b[0;31mValueError\u001b[0m: Length mismatch: Expected axis has 100000 elements, new values have 99999 elements"
     ]
    }
   ],
   "source": [
    "filepath = '/home/jason/test1_public.txt'\n",
    "with open(filepath, errors='surrogateescape') as f:\n",
    "    test1_public = pd.DataFrame([line.split(\"\\t\", 1) for line in f], columns=['id','text'])\n",
    "    test1_public['processed'] = test1_public['text'].apply(preprocess)\n",
    "    \n",
    "    x_test = cv.transform(test1_public['processed'])\n",
    "    \n",
    "    y_pred = lr.predict(x_test)\n",
    "    results = pd.DataFrame(y_pred)\n",
    "    results.index = test1_public['id']\n",
    "    results.to_csv(\"jasonsnouffer_file1_entry1.txt\", sep='\\t', header=False)\n",
    "    \n",
    "    y_pred = bnb.predict(x_test)\n",
    "    results = pd.DataFrame(y_pred)\n",
    "    results.index = test1_public['id']\n",
    "    results.to_csv(\"jasonsnouffer_file1_entry2.txt\", sep='\\t', header=False)\n",
    "    \n",
    "    y_pred = cnb.predict(x_test)\n",
    "    results = pd.DataFrame(y_pred)\n",
    "    results.index = test1_public['id']\n",
    "    results.to_csv(\"jasonsnouffer_file1_entry3.txt\", sep='\\t', header=False)\n",
    "    \n",
    "filepath = '/home/jason/test2_public.txt'\n",
    "with open(filepath, errors='surrogateescape') as f:\n",
    "    test2_public = pd.DataFrame([line.split(\"\\t\", 1) for line in f], columns=['id','text'])\n",
    "    test2_public['processed'] = test2_public['text'].apply(preprocess)\n",
    "    \n",
    "    x_test = cv.transform(test2_public['processed'])\n",
    "    \n",
    "    y_pred = lr.predict(x_test)\n",
    "    results = pd.DataFrame(y_pred)\n",
    "    results.index = test1_public['id']\n",
    "    results.to_csv(\"jasonsnouffer_file2_entry1.txt\", sep='\\t', header=False)\n",
    "    \n",
    "    y_pred = bnb.predict(x_test)\n",
    "    results = pd.DataFrame(y_pred)\n",
    "    results.index = test1_public['id']\n",
    "    results.to_csv(\"jasonsnouffer_file2_entry2.txt\", sep='\\t', header=False)\n",
    "    \n",
    "    y_pred = cnb.predict(x_test)\n",
    "    results = pd.DataFrame(y_pred)\n",
    "    results.index = test1_public['id']\n",
    "    results.to_csv(\"jasonsnouffer_file2_entry3.txt\", sep='\\t', header=False)\n"
   ]
  }
 ],
 "metadata": {
  "kernelspec": {
   "display_name": "Python 3",
   "language": "python",
   "name": "python3"
  },
  "language_info": {
   "codemirror_mode": {
    "name": "ipython",
    "version": 3
   },
   "file_extension": ".py",
   "mimetype": "text/x-python",
   "name": "python",
   "nbconvert_exporter": "python",
   "pygments_lexer": "ipython3",
   "version": "3.7.4"
  }
 },
 "nbformat": 4,
 "nbformat_minor": 4
}
