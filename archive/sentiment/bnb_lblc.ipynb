{
 "cells": [
  {
   "cell_type": "code",
   "execution_count": 20,
   "metadata": {},
   "outputs": [],
   "source": [
    "import re\n",
    "import pandas as pd\n",
    "import numpy as np\n",
    "from sklearn.model_selection import ParameterGrid\n",
    "from sklearn.feature_extraction.text import CountVectorizer, TfidfVectorizer\n",
    "from sklearn.model_selection import train_test_split\n",
    "from sklearn.naive_bayes import BernoulliNB\n",
    "from sklearn.metrics import accuracy_score"
   ]
  },
  {
   "cell_type": "code",
   "execution_count": 21,
   "metadata": {},
   "outputs": [],
   "source": [
    "df = pd.read_csv('/home/jason/sentiment_data/clean.txt', sep='&&&', header=None, names=['id','sentiment','text'],\n",
    "                engine='python', index_col=0)"
   ]
  },
  {
   "cell_type": "code",
   "execution_count": 22,
   "metadata": {},
   "outputs": [
    {
     "data": {
      "text/plain": [
       "40"
      ]
     },
     "execution_count": 22,
     "metadata": {},
     "output_type": "execute_result"
    }
   ],
   "source": [
    "SAMPLE_PERCENTAGE: float = 0.1\n",
    "RANDOM_SAMPLE_SEED: int = 42\n",
    "\n",
    "param_template = {\n",
    "    'alpha': np.arange(0.1, 10.0, 0.5),\n",
    "    'fit_prior': [True, False]\n",
    "}\n",
    "\n",
    "parameter_grid = ParameterGrid(param_template)\n",
    "len(parameter_grid)"
   ]
  },
  {
   "cell_type": "code",
   "execution_count": 23,
   "metadata": {},
   "outputs": [],
   "source": [
    "def preprocess(text):\n",
    "    # remove links and special characters\n",
    "    return ' '.join(re.sub(\"(@[A-Za-z0-9]+)|([^0-9A-Za-z \\t])|(\\w+:\\/\\/\\S+)\", \" \", text).split())"
   ]
  },
  {
   "cell_type": "code",
   "execution_count": 24,
   "metadata": {},
   "outputs": [
    {
     "name": "stdout",
     "output_type": "stream",
     "text": [
      "{'alpha': 0.1, 'fit_prior': True, 'score': '0.7253'}\n",
      "{'alpha': 0.1, 'fit_prior': False, 'score': '0.7278'}\n",
      "{'alpha': 0.6, 'fit_prior': True, 'score': '0.7465'}\n",
      "{'alpha': 0.6, 'fit_prior': False, 'score': '0.7434'}\n",
      "{'alpha': 1.1, 'fit_prior': True, 'score': '0.7496'}\n",
      "{'alpha': 1.1, 'fit_prior': False, 'score': '0.7421'}\n",
      "{'alpha': 1.6, 'fit_prior': True, 'score': '0.75135'}\n",
      "{'alpha': 1.6, 'fit_prior': False, 'score': '0.75345'}\n",
      "{'alpha': 2.1, 'fit_prior': True, 'score': '0.7466'}\n",
      "{'alpha': 2.1, 'fit_prior': False, 'score': '0.7356'}\n",
      "{'alpha': 2.6, 'fit_prior': True, 'score': '0.7325'}\n",
      "{'alpha': 2.6, 'fit_prior': False, 'score': '0.7302'}\n",
      "{'alpha': 3.1, 'fit_prior': True, 'score': '0.7354'}\n",
      "{'alpha': 3.1, 'fit_prior': False, 'score': '0.74725'}\n",
      "{'alpha': 3.6, 'fit_prior': True, 'score': '0.7357'}\n",
      "{'alpha': 3.6, 'fit_prior': False, 'score': '0.73465'}\n",
      "{'alpha': 4.1, 'fit_prior': True, 'score': '0.70865'}\n",
      "{'alpha': 4.1, 'fit_prior': False, 'score': '0.74145'}\n",
      "{'alpha': 4.6, 'fit_prior': True, 'score': '0.71475'}\n",
      "{'alpha': 4.6, 'fit_prior': False, 'score': '0.7021'}\n",
      "{'alpha': 5.1, 'fit_prior': True, 'score': '0.7403'}\n",
      "{'alpha': 5.1, 'fit_prior': False, 'score': '0.739'}\n",
      "{'alpha': 5.6, 'fit_prior': True, 'score': '0.7119'}\n",
      "{'alpha': 5.6, 'fit_prior': False, 'score': '0.73395'}\n",
      "{'alpha': 6.1, 'fit_prior': True, 'score': '0.7046'}\n",
      "{'alpha': 6.1, 'fit_prior': False, 'score': '0.72225'}\n",
      "{'alpha': 6.6, 'fit_prior': True, 'score': '0.69165'}\n",
      "{'alpha': 6.6, 'fit_prior': False, 'score': '0.70095'}\n",
      "{'alpha': 7.1, 'fit_prior': True, 'score': '0.68225'}\n",
      "{'alpha': 7.1, 'fit_prior': False, 'score': '0.70155'}\n",
      "{'alpha': 7.6, 'fit_prior': True, 'score': '0.6735'}\n",
      "{'alpha': 7.6, 'fit_prior': False, 'score': '0.72695'}\n",
      "{'alpha': 8.1, 'fit_prior': True, 'score': '0.65975'}\n",
      "{'alpha': 8.1, 'fit_prior': False, 'score': '0.74465'}\n",
      "{'alpha': 8.6, 'fit_prior': True, 'score': '0.75495'}\n",
      "{'alpha': 8.6, 'fit_prior': False, 'score': '0.6631'}\n",
      "{'alpha': 9.1, 'fit_prior': True, 'score': '0.6699'}\n",
      "{'alpha': 9.1, 'fit_prior': False, 'score': '0.6843'}\n",
      "{'alpha': 9.6, 'fit_prior': True, 'score': '0.6141'}\n",
      "{'alpha': 9.6, 'fit_prior': False, 'score': '0.6671'}\n"
     ]
    }
   ],
   "source": [
    "for parameters in parameter_grid:\n",
    "    df_sample = df.sample(frac=SAMPLE_PERCENTAGE, random_state=RANDOM_SAMPLE_SEED)\n",
    "    df_sample['text_processed'] = df_sample['text'].apply(preprocess)\n",
    "    \n",
    "#     cv = CountVectorizer(binary=True, stop_words='english')\n",
    "#     cv.fit(df_sample['text_processed'])\n",
    "#     X = cv.transform(df_sample['text_processed'])\n",
    "    \n",
    "    tfidf = TfidfVectorizer(ngram_range=[1,3],\n",
    "                           stop_words='english')\n",
    "    tfidf.fit(df_sample['text_processed'])\n",
    "    X = tfidf.transform(df_sample['text_processed'])\n",
    "\n",
    "    X_train, X_val, y_train, y_val = train_test_split(\n",
    "        X, df_sample['sentiment'], train_size = 0.8\n",
    "    )\n",
    "    \n",
    "    nb = BernoulliNB(alpha=parameters['alpha'],\n",
    "                    fit_prior=parameters['fit_prior'])\n",
    "                            \n",
    "    nb.fit(X_train, y_train)\n",
    "    parameters['score'] = str(accuracy_score(y_val, nb.predict(X_val)))\n",
    "    print (str(parameters))\n",
    "    "
   ]
  }
 ],
 "metadata": {
  "kernelspec": {
   "display_name": "Python 3",
   "language": "python",
   "name": "python3"
  },
  "language_info": {
   "codemirror_mode": {
    "name": "ipython",
    "version": 3
   },
   "file_extension": ".py",
   "mimetype": "text/x-python",
   "name": "python",
   "nbconvert_exporter": "python",
   "pygments_lexer": "ipython3",
   "version": "3.7.4"
  }
 },
 "nbformat": 4,
 "nbformat_minor": 4
}
