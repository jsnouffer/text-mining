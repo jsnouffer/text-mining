{
 "cells": [
  {
   "cell_type": "code",
   "execution_count": 62,
   "metadata": {},
   "outputs": [
    {
     "data": {
      "text/plain": [
       "<Elasticsearch([{'host': 'localhost', 'port': 9200}])>"
      ]
     },
     "execution_count": 62,
     "metadata": {},
     "output_type": "execute_result"
    }
   ],
   "source": [
    "import json\n",
    "from elasticsearch import Elasticsearch\n",
    "from elasticsearch import helpers\n",
    "scan = helpers.scan\n",
    "\n",
    "es = Elasticsearch([{'host':'localhost','port':9200}])\n",
    "es"
   ]
  },
  {
   "cell_type": "code",
   "execution_count": 56,
   "metadata": {},
   "outputs": [
    {
     "name": "stdout",
     "output_type": "stream",
     "text": [
      "5000\n",
      "10000\n",
      "15000\n",
      "20000\n"
     ]
    }
   ],
   "source": [
    "results = scan(es, query = \n",
    "{\n",
    "  \"query\": {\n",
    "    \"bool\": {\n",
    "      \"must\": [\n",
    "        {\n",
    "          \"exists\": {\n",
    "            \"field\": \"bm.overall\"\n",
    "          }\n",
    "        }\n",
    "      ]\n",
    "    }\n",
    "  }\n",
    "}, index = 'redditors')\n",
    "\n",
    "all_keys = set()\n",
    "summary = {}\n",
    "count = 0\n",
    "for result in results:\n",
    "    count = count + 1\n",
    "    if count % 5000 == 0:\n",
    "        print(count)\n",
    "    \n",
    "    doc = result['_source']\n",
    "    mbti = doc['bm']['overall']\n",
    "    \n",
    "    for subreddit in doc['subreddits']:\n",
    "        if subreddit not in summary.keys():\n",
    "            summary[subreddit] = {\n",
    "                \"count\": 0\n",
    "            }\n",
    "            \n",
    "        summary[subreddit]['count'] = summary[subreddit]['count'] + 1\n",
    "    \n",
    "        for key in mbti.keys():\n",
    "            if key == 'type':\n",
    "                key = mbti['type']\n",
    "            \n",
    "            all_keys.add(key)\n",
    "            if key in summary[subreddit]:\n",
    "                summary[subreddit][key]['count'] = summary[subreddit][key]['count'] + 1\n",
    "            else:\n",
    "                summary[subreddit][key] = { \"count\": 0 }"
   ]
  },
  {
   "cell_type": "code",
   "execution_count": 57,
   "metadata": {},
   "outputs": [
    {
     "data": {
      "text/plain": [
       "{'EIFJ',\n",
       " 'EIFP',\n",
       " 'EITJ',\n",
       " 'EITP',\n",
       " 'ESFJ',\n",
       " 'ESFP',\n",
       " 'ESTJ',\n",
       " 'ESTP',\n",
       " 'Extrovert',\n",
       " 'Feeling',\n",
       " 'IIFJ',\n",
       " 'IIFP',\n",
       " 'IITJ',\n",
       " 'IITP',\n",
       " 'ISFJ',\n",
       " 'ISFP',\n",
       " 'ISTJ',\n",
       " 'ISTP',\n",
       " 'Introvert',\n",
       " 'Intuitive',\n",
       " 'Judging',\n",
       " 'Perceiving',\n",
       " 'Sensing',\n",
       " 'Thinking'}"
      ]
     },
     "execution_count": 57,
     "metadata": {},
     "output_type": "execute_result"
    }
   ],
   "source": [
    "all_keys"
   ]
  },
  {
   "cell_type": "code",
   "execution_count": 60,
   "metadata": {},
   "outputs": [],
   "source": [
    "for name in summary:\n",
    "    subreddit = summary[name]\n",
    "    \n",
    "    for key in subreddit:\n",
    "        if isinstance(subreddit[key], dict):\n",
    "            subreddit[key][\"percent\"] = (subreddit[key][\"count\"] / subreddit[\"count\"]) * 100.0\n",
    "    \n",
    "    for key in all_keys:\n",
    "        if key not in subreddit.keys():\n",
    "            subreddit[key] = { \"count\": 0, \"percent\": 0.0}"
   ]
  },
  {
   "cell_type": "code",
   "execution_count": 70,
   "metadata": {},
   "outputs": [],
   "source": [
    "l = list()\n",
    "\n",
    "for name in summary:\n",
    "    summary[name]['name'] = name\n",
    "    l.append(summary[name])\n",
    "    \n",
    "with open('subreddit-summary.json', 'w') as fp:\n",
    "    json.dump(l, fp)"
   ]
  },
  {
   "cell_type": "code",
   "execution_count": 69,
   "metadata": {},
   "outputs": [
    {
     "data": {
      "text/plain": [
       "{'count': 1965,\n",
       " 'Extrovert': {'count': 954, 'percent': 48.54961832061069},\n",
       " 'Feeling': {'count': 225, 'percent': 11.450381679389313},\n",
       " 'Intuitive': {'count': 733, 'percent': 37.30279898218829},\n",
       " 'Perceiving': {'count': 1705, 'percent': 86.76844783715013},\n",
       " 'EIFP': {'count': 38, 'percent': 1.9338422391857506},\n",
       " 'Sensing': {'count': 1230, 'percent': 62.59541984732825},\n",
       " 'ISFP': {'count': 33, 'percent': 1.6793893129770994},\n",
       " 'Introvert': {'count': 1009, 'percent': 51.348600508905854},\n",
       " 'IIFP': {'count': 56, 'percent': 2.849872773536896},\n",
       " 'Thinking': {'count': 1738, 'percent': 88.44783715012723},\n",
       " 'ESTP': {'count': 634, 'percent': 32.264631043257},\n",
       " 'EITP': {'count': 185, 'percent': 9.414758269720101},\n",
       " 'ISTP': {'count': 419, 'percent': 21.323155216284988},\n",
       " 'Judging': {'count': 258, 'percent': 13.129770992366414},\n",
       " 'IITJ': {'count': 105, 'percent': 5.343511450381679},\n",
       " 'IITP': {'count': 291, 'percent': 14.80916030534351},\n",
       " 'ISTJ': {'count': 58, 'percent': 2.9516539440203564},\n",
       " 'ESFP': {'count': 42, 'percent': 2.1374045801526718},\n",
       " 'IIFJ': {'count': 31, 'percent': 1.5776081424936386},\n",
       " 'ESTJ': {'count': 24, 'percent': 1.2213740458015268},\n",
       " 'ISFJ': {'count': 9, 'percent': 0.45801526717557256},\n",
       " 'EITJ': {'count': 15, 'percent': 0.7633587786259541},\n",
       " 'EIFJ': {'count': 5, 'percent': 0.2544529262086514},\n",
       " 'ESFJ': {'count': 4, 'percent': 0.2035623409669211},\n",
       " 'name': 'blursedimages'}"
      ]
     },
     "execution_count": 69,
     "metadata": {},
     "output_type": "execute_result"
    }
   ],
   "source": [
    "l[0]"
   ]
  }
 ],
 "metadata": {
  "kernelspec": {
   "display_name": "Python 3",
   "language": "python",
   "name": "python3"
  },
  "language_info": {
   "codemirror_mode": {
    "name": "ipython",
    "version": 3
   },
   "file_extension": ".py",
   "mimetype": "text/x-python",
   "name": "python",
   "nbconvert_exporter": "python",
   "pygments_lexer": "ipython3",
   "version": "3.7.4"
  }
 },
 "nbformat": 4,
 "nbformat_minor": 4
}
