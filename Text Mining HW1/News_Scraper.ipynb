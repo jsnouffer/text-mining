{
 "cells": [
  {
   "cell_type": "code",
   "execution_count": 1,
   "metadata": {},
   "outputs": [],
   "source": [
    "import tweepy\n",
    "import time\n",
    "from datetime import datetime\n",
    "from newsapi import NewsApiClient\n",
    "from geopy.geocoders import Nominatim\n",
    "import pandas as pd\n",
    "\n",
    "# Format of config.py:\n",
    "# twitter_public_key = \"XXXXXXXXXXXXXXXXXXXXXXXX\"\n",
    "# twitter_private_key = \"XXXXXXXXXXXXXXXXXXXXXXXX\"\n",
    "# twitter_public_token = \"XXXXXXXXXXXXXXXXXXXXXXXX\"\n",
    "# twitter_private_token = \"XXXXXXXXXXXXXXXXXXXXXXXX\"\n",
    "# google_news_key = \"XXXXXXXXXXXXXXXXXXXXXXXX\"\n",
    "\n",
    "exec(open(\"config.py\").read())\n",
    "newsapi = NewsApiClient(api_key = google_news_key)"
   ]
  },
  {
   "cell_type": "markdown",
   "metadata": {},
   "source": [
    "## Twitter Authentication"
   ]
  },
  {
   "cell_type": "code",
   "execution_count": 2,
   "metadata": {},
   "outputs": [
    {
     "name": "stdout",
     "output_type": "stream",
     "text": [
      "Trends Remaining:  75\n",
      "Tweets Remaining:  1800\n",
      "Will reset at:  2019-09-15 13:08:47\n"
     ]
    }
   ],
   "source": [
    "def authenticate(api_key, secret_key, access_token, secret_token):\n",
    "\n",
    "    auth = tweepy.OAuthHandler(api_key, secret_key)\n",
    "    auth.set_access_token(access_token, secret_token)\n",
    "    twitter = tweepy.API(auth, \n",
    "                     wait_on_rate_limit=True, \n",
    "                     wait_on_rate_limit_notify=True)\n",
    "  \n",
    "    return twitter\n",
    "\n",
    "twitter = authenticate(twitter_public_key, twitter_private_key, twitter_public_token, twitter_private_token)\n",
    "\n",
    "rateLimitStatus = twitter.rate_limit_status()\n",
    "print(\"Trends Remaining: \", rateLimitStatus['resources']['trends']['/trends/place']['remaining'])\n",
    "print(\"Tweets Remaining: \", rateLimitStatus['resources']['tweets']['/tweets/search/:product/:label']['remaining'])\n",
    "timestamp = rateLimitStatus['resources']['tweets']['/tweets/search/:product/:label']['reset']\n",
    "print(\"Will reset at: \", datetime.fromtimestamp(timestamp).strftime('%Y-%m-%d %H:%M:%S'))"
   ]
  },
  {
   "cell_type": "code",
   "execution_count": 3,
   "metadata": {},
   "outputs": [],
   "source": [
    "def limit_handled(cursor):\n",
    "    \n",
    "    while True:\n",
    "        try:\n",
    "            yield cursor.next()\n",
    "        except tweepy.RateLimitError:\n",
    "            time.sleep(2)\n",
    "            continue"
   ]
  },
  {
   "cell_type": "markdown",
   "metadata": {},
   "source": [
    "## Lookup Yahoo WOEID for Desired Location"
   ]
  },
  {
   "cell_type": "code",
   "execution_count": 4,
   "metadata": {},
   "outputs": [
    {
     "name": "stdout",
     "output_type": "stream",
     "text": [
      "{'name': 'Philadelphia', 'placeType': {'code': 7, 'name': 'Town'}, 'url': 'http://where.yahooapis.com/v1/place/2471217', 'parentid': 23424977, 'country': 'United States', 'woeid': 2471217, 'countryCode': 'US'}\n"
     ]
    }
   ],
   "source": [
    "LOC = \"Philadephia, Pa\"\n",
    "geolocator = Nominatim(user_agent=\"my-application\")\n",
    "coordinates = geolocator.geocode(LOC)\n",
    "trend_node = twitter.trends_closest(coordinates.latitude, coordinates.longitude)[0]\n",
    "woeid = trend_node['woeid']\n",
    "print(trend_node)"
   ]
  },
  {
   "cell_type": "markdown",
   "metadata": {},
   "source": [
    "## Compile a list of hashtags from trending tweets"
   ]
  },
  {
   "cell_type": "code",
   "execution_count": 5,
   "metadata": {},
   "outputs": [
    {
     "name": "stdout",
     "output_type": "stream",
     "text": [
      "{'lufc', 'swfclive', 'finsup', 'sunday', 'tb12', 'mom', 'tysonfury', 'maxparole', 'newsnight', 'cowboysnation', 'fightforolddc', 'toonami', 'cheerleaders', 'motogp', 'pontida2019', 'sundaymotivation', 'defensewingames', 'trump', 'bolivia', 'vamosargentina', 'restaurant', 'redskinsnation', 'saturdaythoughts', 'thereturnofdashberlin', 'naturelovers', 'introvertlessons101', 'gameday', 'wehatedallas', 'thankyouday', 'leadright', 'fleece', 'アニポケ', 'squishthefish', 'hacklearning', 'garrymonksbarmyarmy', 'kavanaughlied', 'doyourjob', 'twinning', 'thehelpmovie', 'templetuff', 'cheer', 'videogame', 'seductivesunday', 'metoo', 'gaming', 'youwillneverhearme', '𝑺𝒆𝒅𝒖𝒄𝒕𝒊𝒗𝒆𝑺𝒖𝒏𝒅𝒂𝒚', 'democracyday', 'watars', 'beatdallas', 'cornercam', 'lupinthe3rd', 'food', 'rock', 'people', 'njdest', 'photoediting', 'boliviagmaer', 'insteadofbirthdaycards', 'lymphomaawarenessday', 'pontida19', 'corruptgop', 'scotus', 'argesp', 'hogfarmers', 'sanmarinogp', '4littlegirls', 'pontida', 'cheerleading', 'shakespearesunday', 'zombie', 'amazing', 'cheesetoastday', 'impeachkavanaugh', 'selfcare', 'pokemon', 'vegan', 'ashketchum', 'botanist', 'nature', 'patriotsnation', 'dallascowboys', 'njpwworld', 'onewordanswers', 'amber', 'repost', 'sundaybrunch', 'keanureeves', 'googledoodle', 'サトシ', 'glitter', 'thingsthatmakemesigh', 'sundaymorning', 'travel', 'sosnicaragua', 'buenviernes', 'gardener', 'fullstopchallenge', 'apps', 'naturephotography', 'goowls', 'templemade', 'allforup', 'swfcstats', 'unsigned', 'askmozzy', 'リーグ優勝', 'classroom', 'eagles', '𝑺𝒔', 'wwe', 'natural', 'latina', 'lfg', 'greatness', 'furywallin', 'anipoke', 'ultrajapan', 'buendomingo', 'business_card', 'kavanaughresign', 'saturdaymotivation', 'documentediting', 'sundaythoughts', 'unbelievablenetflix', 'emmy', 'ultralive', 'homeopener', 'dalvswas', 'gameequipment', 'ryeartsfestival', 'minerals', 'swfc', 'htafc', 'gopats', 'engagement', 'redskins', 'dadjokes', 'aew', 'weekendvibes', 'spa', 'wawaw', 'gamer', 'upfight', 'cowgirls', 'ss', 'rentlive', 'gorsuch', 'httr', 'professional', 'patriots', 'mexico', 'nevsmia', 'brexitshambles', 'custom', 'indianarmy', 'climatechange', 'wattpad', 'vss365', 'unsignedrapper', 'njpw', 'manlyfashionchoices', 'redskinstweetteam', 'gfuel', 'felizdomingo', 'furyvswallin', 'rockies', 'cricket', 'maroonpride', 'supremecourt', 'fiverr', 'salon', 'kavanaugh', 'meghanmarkle', 'サトシ優勝', 'motherdaughte', 'brexit', 'mundialdebasquet', 'pokemonsunmoon', 'ufcvancouver', 'female', 'wifeappreciationday', 'noconversion', 'seductivesundae', 'metooindia'}\n"
     ]
    }
   ],
   "source": [
    "trends = twitter.trends_place(woeid)\n",
    "tags = set()\n",
    "for trend in trends[0]['trends']:\n",
    "    tweets = twitter.search(trend['query'], lang=\"en\", rpp=10)\n",
    "    for tweet in tweets:\n",
    "        for tag in tweet._json['entities']['hashtags']:\n",
    "            tags.add(tag['text'].lower())\n",
    "print (tags)"
   ]
  },
  {
   "cell_type": "markdown",
   "metadata": {},
   "source": [
    "## Search Google News with compiled tags; then dump results in a dataframe"
   ]
  },
  {
   "cell_type": "code",
   "execution_count": null,
   "metadata": {},
   "outputs": [],
   "source": [
    "df = pd.DataFrame(columns = ['date', 'source', 'author', 'title', 'description', 'url'])\n",
    "for tag in tags:\n",
    "    results = newsapi.get_everything(q = tag, language = 'en', sort_by = 'relevancy')\n",
    "    for result in results['articles']:\n",
    "        df = df.append(pd.Series(\n",
    "            [result['publishedAt'], result['source']['name'], result['author'], result['title'], result['description'], result['url']],\n",
    "            index = df.columns ), ignore_index=True)"
   ]
  },
  {
   "cell_type": "markdown",
   "metadata": {},
   "source": [
    "## Remove duplicate search results from dataframe and export to CSV"
   ]
  },
  {
   "cell_type": "code",
   "execution_count": 43,
   "metadata": {},
   "outputs": [
    {
     "data": {
      "text/html": [
       "<div>\n",
       "<style scoped>\n",
       "    .dataframe tbody tr th:only-of-type {\n",
       "        vertical-align: middle;\n",
       "    }\n",
       "\n",
       "    .dataframe tbody tr th {\n",
       "        vertical-align: top;\n",
       "    }\n",
       "\n",
       "    .dataframe thead th {\n",
       "        text-align: right;\n",
       "    }\n",
       "</style>\n",
       "<table border=\"1\" class=\"dataframe\">\n",
       "  <thead>\n",
       "    <tr style=\"text-align: right;\">\n",
       "      <th></th>\n",
       "      <th>date</th>\n",
       "      <th>source</th>\n",
       "      <th>author</th>\n",
       "      <th>title</th>\n",
       "      <th>description</th>\n",
       "      <th>url</th>\n",
       "    </tr>\n",
       "  </thead>\n",
       "  <tbody>\n",
       "    <tr>\n",
       "      <td>0</td>\n",
       "      <td>2019-08-21T22:24:41Z</td>\n",
       "      <td>Arseblog.news</td>\n",
       "      <td>Andrew Allen</td>\n",
       "      <td>VIDEO: Nketiah scores off the bench to send Wr...</td>\n",
       "      <td>Eddie Nketiah came off the bench to score the ...</td>\n",
       "      <td>https://arseblog.news/2019/08/video-nketiah-sc...</td>\n",
       "    </tr>\n",
       "    <tr>\n",
       "      <td>1</td>\n",
       "      <td>2019-09-07T13:09:12Z</td>\n",
       "      <td>101greatgoals.com</td>\n",
       "      <td>Conor Laird</td>\n",
       "      <td>Eddie Nketiah confirms Unai Emery wanted him t...</td>\n",
       "      <td>Arsenal youngster Eddie Nketiah has revealed t...</td>\n",
       "      <td>https://www.101greatgoals.com/news/eddie-nketi...</td>\n",
       "    </tr>\n",
       "    <tr>\n",
       "      <td>2</td>\n",
       "      <td>2019-09-13T10:39:57Z</td>\n",
       "      <td>Indiatoday.in</td>\n",
       "      <td>Sopan Joshi</td>\n",
       "      <td>Documentary | Waiting for a miracle</td>\n",
       "      <td>A new documentary details what happens when a ...</td>\n",
       "      <td>https://www.indiatoday.in/magazine/leisure/sto...</td>\n",
       "    </tr>\n",
       "    <tr>\n",
       "      <td>3</td>\n",
       "      <td>2019-08-27T12:00:00Z</td>\n",
       "      <td>Sbnation.com</td>\n",
       "      <td>Jocelyn Taub</td>\n",
       "      <td>Putting Arsenal’s loss to Liverpool in perspec...</td>\n",
       "      <td>Despite the dropped points, there are still ma...</td>\n",
       "      <td>https://theshortfuse.sbnation.com/2019/8/27/20...</td>\n",
       "    </tr>\n",
       "    <tr>\n",
       "      <td>4</td>\n",
       "      <td>2019-08-26T11:00:00Z</td>\n",
       "      <td>Sbnation.com</td>\n",
       "      <td>davemc_exile</td>\n",
       "      <td>Huddersfield Town 0-2 Reading: The Alternative...</td>\n",
       "      <td>Hang on, we’ve had an away win...</td>\n",
       "      <td>https://thetilehurstend.sbnation.com/2019/8/26...</td>\n",
       "    </tr>\n",
       "    <tr>\n",
       "      <td>...</td>\n",
       "      <td>...</td>\n",
       "      <td>...</td>\n",
       "      <td>...</td>\n",
       "      <td>...</td>\n",
       "      <td>...</td>\n",
       "      <td>...</td>\n",
       "    </tr>\n",
       "    <tr>\n",
       "      <td>970</td>\n",
       "      <td>2019-09-08T17:11:20Z</td>\n",
       "      <td>Rawstory.com</td>\n",
       "      <td>David Edwards</td>\n",
       "      <td>‘Whiteness is a helluva drug’: NFL team hammer...</td>\n",
       "      <td>An NFL team came under fire over the weekend a...</td>\n",
       "      <td>https://www.rawstory.com/2019/09/whiteness-is-...</td>\n",
       "    </tr>\n",
       "    <tr>\n",
       "      <td>971</td>\n",
       "      <td>2019-08-26T06:28:26Z</td>\n",
       "      <td>Daily Mail</td>\n",
       "      <td>By Dailymail.com Reporter</td>\n",
       "      <td>Tom Arnold seen with kids following report his...</td>\n",
       "      <td>The Ottumwa, Iowa-born actor and comedian wore...</td>\n",
       "      <td>https://www.dailymail.co.uk/tvshowbiz/article-...</td>\n",
       "    </tr>\n",
       "    <tr>\n",
       "      <td>972</td>\n",
       "      <td>2019-09-08T20:50:35Z</td>\n",
       "      <td>Alternet.org</td>\n",
       "      <td>David Edwards</td>\n",
       "      <td>NFL team slammed for giving black kid lawnmowe...</td>\n",
       "      <td>An NFL team came under fire over the weekend a...</td>\n",
       "      <td>https://www.alternet.org/2019/09/nfl-team-slam...</td>\n",
       "    </tr>\n",
       "    <tr>\n",
       "      <td>974</td>\n",
       "      <td>2019-09-09T02:43:30Z</td>\n",
       "      <td>Propublica.org</td>\n",
       "      <td>Derek Willis</td>\n",
       "      <td>@JoshForNY -- Deleted after 3 minutes 11 minut...</td>\n",
       "      <td>If you were given a choice between a society t...</td>\n",
       "      <td>https://projects.propublica.org/politwoops/twe...</td>\n",
       "    </tr>\n",
       "    <tr>\n",
       "      <td>975</td>\n",
       "      <td>2019-09-12T13:30:02Z</td>\n",
       "      <td>Tvguide.com</td>\n",
       "      <td>Tim Surette</td>\n",
       "      <td>Best New Shows and Movies on Netflix This Week...</td>\n",
       "      <td>Looking for something new to watch on Netflix?...</td>\n",
       "      <td>https://www.tvguide.com/news/best-new-shows-an...</td>\n",
       "    </tr>\n",
       "  </tbody>\n",
       "</table>\n",
       "<p>941 rows × 6 columns</p>\n",
       "</div>"
      ],
      "text/plain": [
       "                     date             source                     author  \\\n",
       "0    2019-08-21T22:24:41Z      Arseblog.news               Andrew Allen   \n",
       "1    2019-09-07T13:09:12Z  101greatgoals.com                Conor Laird   \n",
       "2    2019-09-13T10:39:57Z      Indiatoday.in                Sopan Joshi   \n",
       "3    2019-08-27T12:00:00Z       Sbnation.com               Jocelyn Taub   \n",
       "4    2019-08-26T11:00:00Z       Sbnation.com               davemc_exile   \n",
       "..                    ...                ...                        ...   \n",
       "970  2019-09-08T17:11:20Z       Rawstory.com              David Edwards   \n",
       "971  2019-08-26T06:28:26Z         Daily Mail  By Dailymail.com Reporter   \n",
       "972  2019-09-08T20:50:35Z       Alternet.org              David Edwards   \n",
       "974  2019-09-09T02:43:30Z     Propublica.org               Derek Willis   \n",
       "975  2019-09-12T13:30:02Z        Tvguide.com                Tim Surette   \n",
       "\n",
       "                                                 title  \\\n",
       "0    VIDEO: Nketiah scores off the bench to send Wr...   \n",
       "1    Eddie Nketiah confirms Unai Emery wanted him t...   \n",
       "2                  Documentary | Waiting for a miracle   \n",
       "3    Putting Arsenal’s loss to Liverpool in perspec...   \n",
       "4    Huddersfield Town 0-2 Reading: The Alternative...   \n",
       "..                                                 ...   \n",
       "970  ‘Whiteness is a helluva drug’: NFL team hammer...   \n",
       "971  Tom Arnold seen with kids following report his...   \n",
       "972  NFL team slammed for giving black kid lawnmowe...   \n",
       "974  @JoshForNY -- Deleted after 3 minutes 11 minut...   \n",
       "975  Best New Shows and Movies on Netflix This Week...   \n",
       "\n",
       "                                           description  \\\n",
       "0    Eddie Nketiah came off the bench to score the ...   \n",
       "1    Arsenal youngster Eddie Nketiah has revealed t...   \n",
       "2    A new documentary details what happens when a ...   \n",
       "3    Despite the dropped points, there are still ma...   \n",
       "4                    Hang on, we’ve had an away win...   \n",
       "..                                                 ...   \n",
       "970  An NFL team came under fire over the weekend a...   \n",
       "971  The Ottumwa, Iowa-born actor and comedian wore...   \n",
       "972  An NFL team came under fire over the weekend a...   \n",
       "974  If you were given a choice between a society t...   \n",
       "975  Looking for something new to watch on Netflix?...   \n",
       "\n",
       "                                                   url  \n",
       "0    https://arseblog.news/2019/08/video-nketiah-sc...  \n",
       "1    https://www.101greatgoals.com/news/eddie-nketi...  \n",
       "2    https://www.indiatoday.in/magazine/leisure/sto...  \n",
       "3    https://theshortfuse.sbnation.com/2019/8/27/20...  \n",
       "4    https://thetilehurstend.sbnation.com/2019/8/26...  \n",
       "..                                                 ...  \n",
       "970  https://www.rawstory.com/2019/09/whiteness-is-...  \n",
       "971  https://www.dailymail.co.uk/tvshowbiz/article-...  \n",
       "972  https://www.alternet.org/2019/09/nfl-team-slam...  \n",
       "974  https://projects.propublica.org/politwoops/twe...  \n",
       "975  https://www.tvguide.com/news/best-new-shows-an...  \n",
       "\n",
       "[941 rows x 6 columns]"
      ]
     },
     "execution_count": 43,
     "metadata": {},
     "output_type": "execute_result"
    }
   ],
   "source": [
    "wdir = '/home/jason/documents/'\n",
    "date = datetime.now().strftime(\"%Y%m%d_%H%M%S\")\n",
    "\n",
    "df.drop_duplicates(subset = \"url\", keep = False, inplace = True)\n",
    "df.to_csv(wdir + '/' + 'news_' + date + '.csv')\n",
    "df"
   ]
  }
 ],
 "metadata": {
  "kernelspec": {
   "display_name": "vanilla_py3",
   "language": "python",
   "name": "vanilla_py3"
  },
  "language_info": {
   "codemirror_mode": {
    "name": "ipython",
    "version": 3
   },
   "file_extension": ".py",
   "mimetype": "text/x-python",
   "name": "python",
   "nbconvert_exporter": "python",
   "pygments_lexer": "ipython3",
   "version": "3.7.4"
  }
 },
 "nbformat": 4,
 "nbformat_minor": 4
}
