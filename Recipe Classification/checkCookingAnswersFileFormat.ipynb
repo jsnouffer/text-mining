{
 "cells": [
  {
   "cell_type": "code",
   "execution_count": 1,
   "metadata": {},
   "outputs": [
    {
     "name": "stdout",
     "output_type": "stream",
     "text": [
      "3.7.4 (default, Aug 13 2019, 20:35:49) \n",
      "[GCC 7.3.0]\n"
     ]
    }
   ],
   "source": [
    "#what are we running?\n",
    "import sys\n",
    "print(sys.version)"
   ]
  },
  {
   "cell_type": "code",
   "execution_count": 2,
   "metadata": {},
   "outputs": [],
   "source": [
    "path = r'E:\\Rowan\\Classes\\TextMining\\Grad\\Spring2019\\whatsCooking\\results'\n",
    "f = 'submission.csv'"
   ]
  },
  {
   "cell_type": "code",
   "execution_count": 21,
   "metadata": {},
   "outputs": [],
   "source": [
    "# import os\n",
    "# os.chdir(path)"
   ]
  },
  {
   "cell_type": "code",
   "execution_count": 4,
   "metadata": {},
   "outputs": [],
   "source": [
    "def left(s, amount):\n",
    "    return s[:amount]\n",
    "\n",
    "def right(s, amount):\n",
    "    return s[-amount:]"
   ]
  },
  {
   "cell_type": "code",
   "execution_count": 5,
   "metadata": {},
   "outputs": [
    {
     "name": "stdout",
     "output_type": "stream",
     "text": [
      "good job, your submission is in the right format\n"
     ]
    }
   ],
   "source": [
    "import csv\n",
    "i = 0\n",
    "if right(f,4)=='.csv':    \n",
    "  with open(f) as csv_file:\n",
    "      csv_reader = csv.reader(csv_file, delimiter=',')\n",
    "      header = next(csv_reader)\n",
    "      for row in csv_reader:\n",
    "        i += 1\n",
    "if (header[0]!='id'):\n",
    "    print('id expected')\n",
    "else:\n",
    "   if (header[1]!='cuisine'):\n",
    "     print('cuisine expected')\n",
    "   else:\n",
    "     if i < 7900:\n",
    "       print('expecting about 7955 rows')\n",
    "     else:\n",
    "        print('good job, your submission is in the right format')\n"
   ]
  },
  {
   "cell_type": "code",
   "execution_count": null,
   "metadata": {},
   "outputs": [],
   "source": []
  }
 ],
 "metadata": {
  "kernelspec": {
   "display_name": "Python 3",
   "language": "python",
   "name": "python3"
  },
  "language_info": {
   "codemirror_mode": {
    "name": "ipython",
    "version": 3
   },
   "file_extension": ".py",
   "mimetype": "text/x-python",
   "name": "python",
   "nbconvert_exporter": "python",
   "pygments_lexer": "ipython3",
   "version": "3.7.4"
  }
 },
 "nbformat": 4,
 "nbformat_minor": 4
}
