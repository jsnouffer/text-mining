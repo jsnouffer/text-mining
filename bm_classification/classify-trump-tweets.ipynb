{
 "cells": [
  {
   "cell_type": "code",
   "execution_count": 1,
   "metadata": {},
   "outputs": [
    {
     "name": "stdout",
     "output_type": "stream",
     "text": [
      "loading E\n",
      "loading S\n",
      "loading T\n",
      "loading J\n"
     ]
    }
   ],
   "source": [
    "%run classifier.py"
   ]
  },
  {
   "cell_type": "code",
   "execution_count": null,
   "metadata": {},
   "outputs": [
    {
     "name": "stdout",
     "output_type": "stream",
     "text": [
      "Loaded 1000 lines so far\n",
      "Loaded 2000 lines so far\n",
      "Loaded 3000 lines so far\n",
      "Loaded 4000 lines so far\n",
      "Loaded 5000 lines so far\n"
     ]
    }
   ],
   "source": [
    "classifier = Classifier()\n",
    "with open('/home/jason/git/trumptweets/data/clean.txt') as f:\n",
    "    count = 0\n",
    "    for line in f:\n",
    "        count = count + 1\n",
    "        classifier.preprocess(line, web=False)\n",
    "        \n",
    "        if count % 1000 == 0:\n",
    "            print(\"Loaded \" + str(count) + \" lines so far\")\n",
    "    print(\"Loaded all \" + str(count) + \" lines\")\n",
    "    print(\"Starting prediction\")\n",
    "    res = more_magic(classifier)\n",
    "    res['type'] = ''.join([key[0] for key in res.keys()])\n",
    "    print(res)"
   ]
  }
 ],
 "metadata": {
  "kernelspec": {
   "display_name": "Python 3",
   "language": "python",
   "name": "python3"
  },
  "language_info": {
   "codemirror_mode": {
    "name": "ipython",
    "version": 3
   },
   "file_extension": ".py",
   "mimetype": "text/x-python",
   "name": "python",
   "nbconvert_exporter": "python",
   "pygments_lexer": "ipython3",
   "version": "3.7.4"
  }
 },
 "nbformat": 4,
 "nbformat_minor": 4
}
