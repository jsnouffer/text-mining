{
 "cells": [
  {
   "cell_type": "code",
   "execution_count": 12,
   "metadata": {},
   "outputs": [],
   "source": [
    "import re\n",
    "import pandas as pd\n",
    "import numpy as np\n",
    "from sklearn.model_selection import ParameterGrid\n",
    "from sklearn.feature_extraction.text import CountVectorizer\n",
    "from sklearn.model_selection import train_test_split\n",
    "from sklearn.linear_model import LogisticRegression\n",
    "from sklearn.metrics import accuracy_score"
   ]
  },
  {
   "cell_type": "code",
   "execution_count": 4,
   "metadata": {},
   "outputs": [],
   "source": [
    "df = pd.read_csv('/home/jason/sentiment_data/clean.txt', sep='&&&', header=None, names=['id','sentiment','text'],\n",
    "                engine='python', index_col=0)"
   ]
  },
  {
   "cell_type": "code",
   "execution_count": 29,
   "metadata": {},
   "outputs": [
    {
     "data": {
      "text/plain": [
       "2352"
      ]
     },
     "execution_count": 29,
     "metadata": {},
     "output_type": "execute_result"
    }
   ],
   "source": [
    "SAMPLE_PERCENTAGE: float = 0.01\n",
    "RANDOM_SAMPLE_SEED: int = 42\n",
    "\n",
    "param_template = {\n",
    "    'C': [0.01, 0.05, 0.25, 0.5, 1, 2, 3, 5, 8, 13, 20, 40, 80, 100],\n",
    "    'dual': [True, False],\n",
    "    'tol':  [0.05], #np.arange(0.001, 0.01, 0.0002),\n",
    "    'fit_intercept': [True, False],\n",
    "    'intercept_scaling': [0.01, 0.05, 0.25, 0.5, 1, 2, 3, 5, 8, 13, 20, 40, 80, 100],\n",
    "    'solver': ['liblinear'],\n",
    "    'multi_class': ['ovr', 'multinomial', 'auto'],\n",
    "}\n",
    "\n",
    "parameter_grid = ParameterGrid(param_template)\n",
    "len(parameter_grid)"
   ]
  },
  {
   "cell_type": "code",
   "execution_count": null,
   "metadata": {},
   "outputs": [],
   "source": [
    "def preprocess(text):\n",
    "    # remove links and special characters\n",
    "    return ' '.join(re.sub(\"(@[A-Za-z0-9]+)|([^0-9A-Za-z \\t])|(\\w+:\\/\\/\\S+)\", \" \", text).split())"
   ]
  },
  {
   "cell_type": "code",
   "execution_count": 26,
   "metadata": {},
   "outputs": [
    {
     "name": "stdout",
     "output_type": "stream",
     "text": [
      "{'C': 0.01, 'dual': False, 'fit_intercept': True, 'intercept_scaling': 0.01, 'multi_class': 'ovr', 'seed': 42, 'solver': 'newton-cg', 'tol': 0.001}: 0.6955\n",
      "{'C': 0.01, 'dual': False, 'fit_intercept': True, 'intercept_scaling': 0.01, 'multi_class': 'ovr', 'seed': 42, 'solver': 'newton-cg', 'tol': 0.0012000000000000001}: 0.705\n",
      "{'C': 0.01, 'dual': False, 'fit_intercept': True, 'intercept_scaling': 0.01, 'multi_class': 'ovr', 'seed': 42, 'solver': 'newton-cg', 'tol': 0.0014000000000000002}: 0.7095\n",
      "{'C': 0.01, 'dual': False, 'fit_intercept': True, 'intercept_scaling': 0.01, 'multi_class': 'ovr', 'seed': 42, 'solver': 'newton-cg', 'tol': 0.0016000000000000003}: 0.688\n",
      "{'C': 0.01, 'dual': False, 'fit_intercept': True, 'intercept_scaling': 0.01, 'multi_class': 'ovr', 'seed': 42, 'solver': 'newton-cg', 'tol': 0.0018000000000000004}: 0.7225\n",
      "{'C': 0.01, 'dual': False, 'fit_intercept': True, 'intercept_scaling': 0.01, 'multi_class': 'ovr', 'seed': 42, 'solver': 'newton-cg', 'tol': 0.0020000000000000005}: 0.6865\n",
      "{'C': 0.01, 'dual': False, 'fit_intercept': True, 'intercept_scaling': 0.01, 'multi_class': 'ovr', 'seed': 42, 'solver': 'newton-cg', 'tol': 0.0022000000000000006}: 0.6875\n",
      "{'C': 0.01, 'dual': False, 'fit_intercept': True, 'intercept_scaling': 0.01, 'multi_class': 'ovr', 'seed': 42, 'solver': 'newton-cg', 'tol': 0.0024000000000000007}: 0.737\n",
      "{'C': 0.01, 'dual': False, 'fit_intercept': True, 'intercept_scaling': 0.01, 'multi_class': 'ovr', 'seed': 42, 'solver': 'newton-cg', 'tol': 0.0026000000000000007}: 0.7135\n",
      "{'C': 0.01, 'dual': False, 'fit_intercept': True, 'intercept_scaling': 0.01, 'multi_class': 'ovr', 'seed': 42, 'solver': 'newton-cg', 'tol': 0.002800000000000001}: 0.712\n",
      "{'C': 0.01, 'dual': False, 'fit_intercept': True, 'intercept_scaling': 0.01, 'multi_class': 'ovr', 'seed': 42, 'solver': 'newton-cg', 'tol': 0.003000000000000001}: 0.707\n",
      "{'C': 0.01, 'dual': False, 'fit_intercept': True, 'intercept_scaling': 0.01, 'multi_class': 'ovr', 'seed': 42, 'solver': 'newton-cg', 'tol': 0.003200000000000001}: 0.697\n",
      "{'C': 0.01, 'dual': False, 'fit_intercept': True, 'intercept_scaling': 0.01, 'multi_class': 'ovr', 'seed': 42, 'solver': 'newton-cg', 'tol': 0.003400000000000001}: 0.7135\n",
      "{'C': 0.01, 'dual': False, 'fit_intercept': True, 'intercept_scaling': 0.01, 'multi_class': 'ovr', 'seed': 42, 'solver': 'newton-cg', 'tol': 0.003600000000000001}: 0.7025\n",
      "{'C': 0.01, 'dual': False, 'fit_intercept': True, 'intercept_scaling': 0.01, 'multi_class': 'ovr', 'seed': 42, 'solver': 'newton-cg', 'tol': 0.0038000000000000013}: 0.6915\n",
      "{'C': 0.01, 'dual': False, 'fit_intercept': True, 'intercept_scaling': 0.01, 'multi_class': 'ovr', 'seed': 42, 'solver': 'newton-cg', 'tol': 0.004000000000000002}: 0.7035\n",
      "{'C': 0.01, 'dual': False, 'fit_intercept': True, 'intercept_scaling': 0.01, 'multi_class': 'ovr', 'seed': 42, 'solver': 'newton-cg', 'tol': 0.0042000000000000015}: 0.703\n",
      "{'C': 0.01, 'dual': False, 'fit_intercept': True, 'intercept_scaling': 0.01, 'multi_class': 'ovr', 'seed': 42, 'solver': 'newton-cg', 'tol': 0.004400000000000001}: 0.7115\n",
      "{'C': 0.01, 'dual': False, 'fit_intercept': True, 'intercept_scaling': 0.01, 'multi_class': 'ovr', 'seed': 42, 'solver': 'newton-cg', 'tol': 0.004600000000000002}: 0.6975\n",
      "{'C': 0.01, 'dual': False, 'fit_intercept': True, 'intercept_scaling': 0.01, 'multi_class': 'ovr', 'seed': 42, 'solver': 'newton-cg', 'tol': 0.004800000000000002}: 0.716\n",
      "{'C': 0.01, 'dual': False, 'fit_intercept': True, 'intercept_scaling': 0.01, 'multi_class': 'ovr', 'seed': 42, 'solver': 'newton-cg', 'tol': 0.005000000000000002}: 0.7055\n",
      "{'C': 0.01, 'dual': False, 'fit_intercept': True, 'intercept_scaling': 0.01, 'multi_class': 'ovr', 'seed': 42, 'solver': 'newton-cg', 'tol': 0.005200000000000002}: 0.693\n",
      "{'C': 0.01, 'dual': False, 'fit_intercept': True, 'intercept_scaling': 0.01, 'multi_class': 'ovr', 'seed': 42, 'solver': 'newton-cg', 'tol': 0.005400000000000002}: 0.71\n",
      "{'C': 0.01, 'dual': False, 'fit_intercept': True, 'intercept_scaling': 0.01, 'multi_class': 'ovr', 'seed': 42, 'solver': 'newton-cg', 'tol': 0.005600000000000002}: 0.704\n",
      "{'C': 0.01, 'dual': False, 'fit_intercept': True, 'intercept_scaling': 0.01, 'multi_class': 'ovr', 'seed': 42, 'solver': 'newton-cg', 'tol': 0.005800000000000002}: 0.7035\n",
      "{'C': 0.01, 'dual': False, 'fit_intercept': True, 'intercept_scaling': 0.01, 'multi_class': 'ovr', 'seed': 42, 'solver': 'newton-cg', 'tol': 0.006000000000000003}: 0.7105\n",
      "{'C': 0.01, 'dual': False, 'fit_intercept': True, 'intercept_scaling': 0.01, 'multi_class': 'ovr', 'seed': 42, 'solver': 'newton-cg', 'tol': 0.006200000000000002}: 0.7015\n",
      "{'C': 0.01, 'dual': False, 'fit_intercept': True, 'intercept_scaling': 0.01, 'multi_class': 'ovr', 'seed': 42, 'solver': 'newton-cg', 'tol': 0.006400000000000002}: 0.713\n",
      "{'C': 0.01, 'dual': False, 'fit_intercept': True, 'intercept_scaling': 0.01, 'multi_class': 'ovr', 'seed': 42, 'solver': 'newton-cg', 'tol': 0.0066000000000000026}: 0.6755\n",
      "{'C': 0.01, 'dual': False, 'fit_intercept': True, 'intercept_scaling': 0.01, 'multi_class': 'ovr', 'seed': 42, 'solver': 'newton-cg', 'tol': 0.006800000000000003}: 0.7115\n",
      "{'C': 0.01, 'dual': False, 'fit_intercept': True, 'intercept_scaling': 0.01, 'multi_class': 'ovr', 'seed': 42, 'solver': 'newton-cg', 'tol': 0.007000000000000003}: 0.7185\n",
      "{'C': 0.01, 'dual': False, 'fit_intercept': True, 'intercept_scaling': 0.01, 'multi_class': 'ovr', 'seed': 42, 'solver': 'newton-cg', 'tol': 0.007200000000000002}: 0.724\n",
      "{'C': 0.01, 'dual': False, 'fit_intercept': True, 'intercept_scaling': 0.01, 'multi_class': 'ovr', 'seed': 42, 'solver': 'newton-cg', 'tol': 0.007400000000000003}: 0.705\n",
      "{'C': 0.01, 'dual': False, 'fit_intercept': True, 'intercept_scaling': 0.01, 'multi_class': 'ovr', 'seed': 42, 'solver': 'newton-cg', 'tol': 0.0076000000000000035}: 0.6975\n",
      "{'C': 0.01, 'dual': False, 'fit_intercept': True, 'intercept_scaling': 0.01, 'multi_class': 'ovr', 'seed': 42, 'solver': 'newton-cg', 'tol': 0.007800000000000003}: 0.701\n",
      "{'C': 0.01, 'dual': False, 'fit_intercept': True, 'intercept_scaling': 0.01, 'multi_class': 'ovr', 'seed': 42, 'solver': 'newton-cg', 'tol': 0.008000000000000004}: 0.7055\n",
      "{'C': 0.01, 'dual': False, 'fit_intercept': True, 'intercept_scaling': 0.01, 'multi_class': 'ovr', 'seed': 42, 'solver': 'newton-cg', 'tol': 0.008200000000000002}: 0.7085\n",
      "{'C': 0.01, 'dual': False, 'fit_intercept': True, 'intercept_scaling': 0.01, 'multi_class': 'ovr', 'seed': 42, 'solver': 'newton-cg', 'tol': 0.008400000000000005}: 0.706\n",
      "{'C': 0.01, 'dual': False, 'fit_intercept': True, 'intercept_scaling': 0.01, 'multi_class': 'ovr', 'seed': 42, 'solver': 'newton-cg', 'tol': 0.008600000000000003}: 0.685\n",
      "{'C': 0.01, 'dual': False, 'fit_intercept': True, 'intercept_scaling': 0.01, 'multi_class': 'ovr', 'seed': 42, 'solver': 'newton-cg', 'tol': 0.008800000000000002}: 0.686\n",
      "{'C': 0.01, 'dual': False, 'fit_intercept': True, 'intercept_scaling': 0.01, 'multi_class': 'ovr', 'seed': 42, 'solver': 'newton-cg', 'tol': 0.009000000000000005}: 0.72\n",
      "{'C': 0.01, 'dual': False, 'fit_intercept': True, 'intercept_scaling': 0.01, 'multi_class': 'ovr', 'seed': 42, 'solver': 'newton-cg', 'tol': 0.009200000000000003}: 0.692\n",
      "{'C': 0.01, 'dual': False, 'fit_intercept': True, 'intercept_scaling': 0.01, 'multi_class': 'ovr', 'seed': 42, 'solver': 'newton-cg', 'tol': 0.009400000000000006}: 0.7025\n",
      "{'C': 0.01, 'dual': False, 'fit_intercept': True, 'intercept_scaling': 0.01, 'multi_class': 'ovr', 'seed': 42, 'solver': 'newton-cg', 'tol': 0.009600000000000004}: 0.673\n",
      "{'C': 0.01, 'dual': False, 'fit_intercept': True, 'intercept_scaling': 0.01, 'multi_class': 'ovr', 'seed': 42, 'solver': 'newton-cg', 'tol': 0.009800000000000003}: 0.71\n",
      "{'C': 0.01, 'dual': False, 'fit_intercept': True, 'intercept_scaling': 0.01, 'multi_class': 'ovr', 'seed': 42, 'solver': 'lbfgs', 'tol': 0.001}: 0.7015\n",
      "{'C': 0.01, 'dual': False, 'fit_intercept': True, 'intercept_scaling': 0.01, 'multi_class': 'ovr', 'seed': 42, 'solver': 'lbfgs', 'tol': 0.0012000000000000001}: 0.7215\n",
      "{'C': 0.01, 'dual': False, 'fit_intercept': True, 'intercept_scaling': 0.01, 'multi_class': 'ovr', 'seed': 42, 'solver': 'lbfgs', 'tol': 0.0014000000000000002}: 0.6945\n",
      "{'C': 0.01, 'dual': False, 'fit_intercept': True, 'intercept_scaling': 0.01, 'multi_class': 'ovr', 'seed': 42, 'solver': 'lbfgs', 'tol': 0.0016000000000000003}: 0.7235\n",
      "{'C': 0.01, 'dual': False, 'fit_intercept': True, 'intercept_scaling': 0.01, 'multi_class': 'ovr', 'seed': 42, 'solver': 'lbfgs', 'tol': 0.0018000000000000004}: 0.71\n",
      "{'C': 0.01, 'dual': False, 'fit_intercept': True, 'intercept_scaling': 0.01, 'multi_class': 'ovr', 'seed': 42, 'solver': 'lbfgs', 'tol': 0.0020000000000000005}: 0.7085\n",
      "{'C': 0.01, 'dual': False, 'fit_intercept': True, 'intercept_scaling': 0.01, 'multi_class': 'ovr', 'seed': 42, 'solver': 'lbfgs', 'tol': 0.0022000000000000006}: 0.679\n",
      "{'C': 0.01, 'dual': False, 'fit_intercept': True, 'intercept_scaling': 0.01, 'multi_class': 'ovr', 'seed': 42, 'solver': 'lbfgs', 'tol': 0.0024000000000000007}: 0.706\n",
      "{'C': 0.01, 'dual': False, 'fit_intercept': True, 'intercept_scaling': 0.01, 'multi_class': 'ovr', 'seed': 42, 'solver': 'lbfgs', 'tol': 0.0026000000000000007}: 0.689\n",
      "{'C': 0.01, 'dual': False, 'fit_intercept': True, 'intercept_scaling': 0.01, 'multi_class': 'ovr', 'seed': 42, 'solver': 'lbfgs', 'tol': 0.002800000000000001}: 0.7015\n",
      "{'C': 0.01, 'dual': False, 'fit_intercept': True, 'intercept_scaling': 0.01, 'multi_class': 'ovr', 'seed': 42, 'solver': 'lbfgs', 'tol': 0.003000000000000001}: 0.6935\n",
      "{'C': 0.01, 'dual': False, 'fit_intercept': True, 'intercept_scaling': 0.01, 'multi_class': 'ovr', 'seed': 42, 'solver': 'lbfgs', 'tol': 0.003200000000000001}: 0.7045\n",
      "{'C': 0.01, 'dual': False, 'fit_intercept': True, 'intercept_scaling': 0.01, 'multi_class': 'ovr', 'seed': 42, 'solver': 'lbfgs', 'tol': 0.003400000000000001}: 0.7105\n",
      "{'C': 0.01, 'dual': False, 'fit_intercept': True, 'intercept_scaling': 0.01, 'multi_class': 'ovr', 'seed': 42, 'solver': 'lbfgs', 'tol': 0.003600000000000001}: 0.7235\n",
      "{'C': 0.01, 'dual': False, 'fit_intercept': True, 'intercept_scaling': 0.01, 'multi_class': 'ovr', 'seed': 42, 'solver': 'lbfgs', 'tol': 0.0038000000000000013}: 0.688\n",
      "{'C': 0.01, 'dual': False, 'fit_intercept': True, 'intercept_scaling': 0.01, 'multi_class': 'ovr', 'seed': 42, 'solver': 'lbfgs', 'tol': 0.004000000000000002}: 0.6925\n",
      "{'C': 0.01, 'dual': False, 'fit_intercept': True, 'intercept_scaling': 0.01, 'multi_class': 'ovr', 'seed': 42, 'solver': 'lbfgs', 'tol': 0.0042000000000000015}: 0.7075\n",
      "{'C': 0.01, 'dual': False, 'fit_intercept': True, 'intercept_scaling': 0.01, 'multi_class': 'ovr', 'seed': 42, 'solver': 'lbfgs', 'tol': 0.004400000000000001}: 0.691\n",
      "{'C': 0.01, 'dual': False, 'fit_intercept': True, 'intercept_scaling': 0.01, 'multi_class': 'ovr', 'seed': 42, 'solver': 'lbfgs', 'tol': 0.004600000000000002}: 0.706\n",
      "{'C': 0.01, 'dual': False, 'fit_intercept': True, 'intercept_scaling': 0.01, 'multi_class': 'ovr', 'seed': 42, 'solver': 'lbfgs', 'tol': 0.004800000000000002}: 0.7095\n",
      "{'C': 0.01, 'dual': False, 'fit_intercept': True, 'intercept_scaling': 0.01, 'multi_class': 'ovr', 'seed': 42, 'solver': 'lbfgs', 'tol': 0.005000000000000002}: 0.721\n",
      "{'C': 0.01, 'dual': False, 'fit_intercept': True, 'intercept_scaling': 0.01, 'multi_class': 'ovr', 'seed': 42, 'solver': 'lbfgs', 'tol': 0.005200000000000002}: 0.7035\n",
      "{'C': 0.01, 'dual': False, 'fit_intercept': True, 'intercept_scaling': 0.01, 'multi_class': 'ovr', 'seed': 42, 'solver': 'lbfgs', 'tol': 0.005400000000000002}: 0.7095\n",
      "{'C': 0.01, 'dual': False, 'fit_intercept': True, 'intercept_scaling': 0.01, 'multi_class': 'ovr', 'seed': 42, 'solver': 'lbfgs', 'tol': 0.005600000000000002}: 0.6835\n",
      "{'C': 0.01, 'dual': False, 'fit_intercept': True, 'intercept_scaling': 0.01, 'multi_class': 'ovr', 'seed': 42, 'solver': 'lbfgs', 'tol': 0.005800000000000002}: 0.6915\n",
      "{'C': 0.01, 'dual': False, 'fit_intercept': True, 'intercept_scaling': 0.01, 'multi_class': 'ovr', 'seed': 42, 'solver': 'lbfgs', 'tol': 0.006000000000000003}: 0.7115\n",
      "{'C': 0.01, 'dual': False, 'fit_intercept': True, 'intercept_scaling': 0.01, 'multi_class': 'ovr', 'seed': 42, 'solver': 'lbfgs', 'tol': 0.006200000000000002}: 0.7155\n",
      "{'C': 0.01, 'dual': False, 'fit_intercept': True, 'intercept_scaling': 0.01, 'multi_class': 'ovr', 'seed': 42, 'solver': 'lbfgs', 'tol': 0.006400000000000002}: 0.698\n",
      "{'C': 0.01, 'dual': False, 'fit_intercept': True, 'intercept_scaling': 0.01, 'multi_class': 'ovr', 'seed': 42, 'solver': 'lbfgs', 'tol': 0.0066000000000000026}: 0.6885\n",
      "{'C': 0.01, 'dual': False, 'fit_intercept': True, 'intercept_scaling': 0.01, 'multi_class': 'ovr', 'seed': 42, 'solver': 'lbfgs', 'tol': 0.006800000000000003}: 0.6815\n"
     ]
    },
    {
     "ename": "KeyboardInterrupt",
     "evalue": "",
     "output_type": "error",
     "traceback": [
      "\u001b[0;31m---------------------------------------------------------------------------\u001b[0m",
      "\u001b[0;31mKeyboardInterrupt\u001b[0m                         Traceback (most recent call last)",
      "\u001b[0;32m<ipython-input-26-e6f03ff809fd>\u001b[0m in \u001b[0;36m<module>\u001b[0;34m\u001b[0m\n\u001b[1;32m      1\u001b[0m \u001b[0;32mfor\u001b[0m \u001b[0mparameters\u001b[0m \u001b[0;32min\u001b[0m \u001b[0mparameter_grid\u001b[0m\u001b[0;34m:\u001b[0m\u001b[0;34m\u001b[0m\u001b[0;34m\u001b[0m\u001b[0m\n\u001b[0;32m----> 2\u001b[0;31m     \u001b[0mdf_sample\u001b[0m \u001b[0;34m=\u001b[0m \u001b[0mdf\u001b[0m\u001b[0;34m.\u001b[0m\u001b[0msample\u001b[0m\u001b[0;34m(\u001b[0m\u001b[0mfrac\u001b[0m\u001b[0;34m=\u001b[0m\u001b[0mSAMPLE_PERCENTAGE\u001b[0m\u001b[0;34m,\u001b[0m \u001b[0mrandom_state\u001b[0m\u001b[0;34m=\u001b[0m\u001b[0mparameters\u001b[0m\u001b[0;34m[\u001b[0m\u001b[0;34m'seed'\u001b[0m\u001b[0;34m]\u001b[0m\u001b[0;34m)\u001b[0m\u001b[0;34m\u001b[0m\u001b[0;34m\u001b[0m\u001b[0m\n\u001b[0m\u001b[1;32m      3\u001b[0m     \u001b[0mdf_sample\u001b[0m\u001b[0;34m[\u001b[0m\u001b[0;34m'text_processed'\u001b[0m\u001b[0;34m]\u001b[0m \u001b[0;34m=\u001b[0m \u001b[0mdf_sample\u001b[0m\u001b[0;34m[\u001b[0m\u001b[0;34m'text'\u001b[0m\u001b[0;34m]\u001b[0m\u001b[0;34m.\u001b[0m\u001b[0mapply\u001b[0m\u001b[0;34m(\u001b[0m\u001b[0mpreprocess\u001b[0m\u001b[0;34m)\u001b[0m\u001b[0;34m\u001b[0m\u001b[0;34m\u001b[0m\u001b[0m\n\u001b[1;32m      4\u001b[0m \u001b[0;34m\u001b[0m\u001b[0m\n\u001b[1;32m      5\u001b[0m     \u001b[0mcv\u001b[0m \u001b[0;34m=\u001b[0m \u001b[0mCountVectorizer\u001b[0m\u001b[0;34m(\u001b[0m\u001b[0mbinary\u001b[0m\u001b[0;34m=\u001b[0m\u001b[0;32mTrue\u001b[0m\u001b[0;34m,\u001b[0m \u001b[0mstop_words\u001b[0m\u001b[0;34m=\u001b[0m\u001b[0;34m'english'\u001b[0m\u001b[0;34m)\u001b[0m\u001b[0;34m\u001b[0m\u001b[0;34m\u001b[0m\u001b[0m\n",
      "\u001b[0;32m~/.local/lib/python3.7/site-packages/pandas/core/generic.py\u001b[0m in \u001b[0;36msample\u001b[0;34m(self, n, frac, replace, weights, random_state, axis)\u001b[0m\n\u001b[1;32m   4969\u001b[0m \u001b[0;34m\u001b[0m\u001b[0m\n\u001b[1;32m   4970\u001b[0m         \u001b[0mlocs\u001b[0m \u001b[0;34m=\u001b[0m \u001b[0mrs\u001b[0m\u001b[0;34m.\u001b[0m\u001b[0mchoice\u001b[0m\u001b[0;34m(\u001b[0m\u001b[0maxis_length\u001b[0m\u001b[0;34m,\u001b[0m \u001b[0msize\u001b[0m\u001b[0;34m=\u001b[0m\u001b[0mn\u001b[0m\u001b[0;34m,\u001b[0m \u001b[0mreplace\u001b[0m\u001b[0;34m=\u001b[0m\u001b[0mreplace\u001b[0m\u001b[0;34m,\u001b[0m \u001b[0mp\u001b[0m\u001b[0;34m=\u001b[0m\u001b[0mweights\u001b[0m\u001b[0;34m)\u001b[0m\u001b[0;34m\u001b[0m\u001b[0;34m\u001b[0m\u001b[0m\n\u001b[0;32m-> 4971\u001b[0;31m         \u001b[0;32mreturn\u001b[0m \u001b[0mself\u001b[0m\u001b[0;34m.\u001b[0m\u001b[0mtake\u001b[0m\u001b[0;34m(\u001b[0m\u001b[0mlocs\u001b[0m\u001b[0;34m,\u001b[0m \u001b[0maxis\u001b[0m\u001b[0;34m=\u001b[0m\u001b[0maxis\u001b[0m\u001b[0;34m,\u001b[0m \u001b[0mis_copy\u001b[0m\u001b[0;34m=\u001b[0m\u001b[0;32mFalse\u001b[0m\u001b[0;34m)\u001b[0m\u001b[0;34m\u001b[0m\u001b[0;34m\u001b[0m\u001b[0m\n\u001b[0m\u001b[1;32m   4972\u001b[0m \u001b[0;34m\u001b[0m\u001b[0m\n\u001b[1;32m   4973\u001b[0m     _shared_docs[\n",
      "\u001b[0;32m~/.local/lib/python3.7/site-packages/pandas/core/generic.py\u001b[0m in \u001b[0;36mtake\u001b[0;34m(self, indices, axis, is_copy, **kwargs)\u001b[0m\n\u001b[1;32m   3602\u001b[0m \u001b[0;34m\u001b[0m\u001b[0m\n\u001b[1;32m   3603\u001b[0m         new_data = self._data.take(\n\u001b[0;32m-> 3604\u001b[0;31m             \u001b[0mindices\u001b[0m\u001b[0;34m,\u001b[0m \u001b[0maxis\u001b[0m\u001b[0;34m=\u001b[0m\u001b[0mself\u001b[0m\u001b[0;34m.\u001b[0m\u001b[0m_get_block_manager_axis\u001b[0m\u001b[0;34m(\u001b[0m\u001b[0maxis\u001b[0m\u001b[0;34m)\u001b[0m\u001b[0;34m,\u001b[0m \u001b[0mverify\u001b[0m\u001b[0;34m=\u001b[0m\u001b[0;32mTrue\u001b[0m\u001b[0;34m\u001b[0m\u001b[0;34m\u001b[0m\u001b[0m\n\u001b[0m\u001b[1;32m   3605\u001b[0m         )\n\u001b[1;32m   3606\u001b[0m         \u001b[0mresult\u001b[0m \u001b[0;34m=\u001b[0m \u001b[0mself\u001b[0m\u001b[0;34m.\u001b[0m\u001b[0m_constructor\u001b[0m\u001b[0;34m(\u001b[0m\u001b[0mnew_data\u001b[0m\u001b[0;34m)\u001b[0m\u001b[0;34m.\u001b[0m\u001b[0m__finalize__\u001b[0m\u001b[0;34m(\u001b[0m\u001b[0mself\u001b[0m\u001b[0;34m)\u001b[0m\u001b[0;34m\u001b[0m\u001b[0;34m\u001b[0m\u001b[0m\n",
      "\u001b[0;32m~/.local/lib/python3.7/site-packages/pandas/core/internals/managers.py\u001b[0m in \u001b[0;36mtake\u001b[0;34m(self, indexer, axis, verify, convert)\u001b[0m\n\u001b[1;32m   1393\u001b[0m                 \u001b[0;32mraise\u001b[0m \u001b[0mException\u001b[0m\u001b[0;34m(\u001b[0m\u001b[0;34m\"Indices must be nonzero and less than the axis length\"\u001b[0m\u001b[0;34m)\u001b[0m\u001b[0;34m\u001b[0m\u001b[0;34m\u001b[0m\u001b[0m\n\u001b[1;32m   1394\u001b[0m \u001b[0;34m\u001b[0m\u001b[0m\n\u001b[0;32m-> 1395\u001b[0;31m         \u001b[0mnew_labels\u001b[0m \u001b[0;34m=\u001b[0m \u001b[0mself\u001b[0m\u001b[0;34m.\u001b[0m\u001b[0maxes\u001b[0m\u001b[0;34m[\u001b[0m\u001b[0maxis\u001b[0m\u001b[0;34m]\u001b[0m\u001b[0;34m.\u001b[0m\u001b[0mtake\u001b[0m\u001b[0;34m(\u001b[0m\u001b[0mindexer\u001b[0m\u001b[0;34m)\u001b[0m\u001b[0;34m\u001b[0m\u001b[0;34m\u001b[0m\u001b[0m\n\u001b[0m\u001b[1;32m   1396\u001b[0m         return self.reindex_indexer(\n\u001b[1;32m   1397\u001b[0m             \u001b[0mnew_axis\u001b[0m\u001b[0;34m=\u001b[0m\u001b[0mnew_labels\u001b[0m\u001b[0;34m,\u001b[0m \u001b[0mindexer\u001b[0m\u001b[0;34m=\u001b[0m\u001b[0mindexer\u001b[0m\u001b[0;34m,\u001b[0m \u001b[0maxis\u001b[0m\u001b[0;34m=\u001b[0m\u001b[0maxis\u001b[0m\u001b[0;34m,\u001b[0m \u001b[0mallow_dups\u001b[0m\u001b[0;34m=\u001b[0m\u001b[0;32mTrue\u001b[0m\u001b[0;34m\u001b[0m\u001b[0;34m\u001b[0m\u001b[0m\n",
      "\u001b[0;32m~/.local/lib/python3.7/site-packages/pandas/core/indexes/base.py\u001b[0m in \u001b[0;36mtake\u001b[0;34m(self, indices, axis, allow_fill, fill_value, **kwargs)\u001b[0m\n\u001b[1;32m    894\u001b[0m                 \u001b[0mallow_fill\u001b[0m\u001b[0;34m=\u001b[0m\u001b[0mallow_fill\u001b[0m\u001b[0;34m,\u001b[0m\u001b[0;34m\u001b[0m\u001b[0;34m\u001b[0m\u001b[0m\n\u001b[1;32m    895\u001b[0m                 \u001b[0mfill_value\u001b[0m\u001b[0;34m=\u001b[0m\u001b[0mfill_value\u001b[0m\u001b[0;34m,\u001b[0m\u001b[0;34m\u001b[0m\u001b[0;34m\u001b[0m\u001b[0m\n\u001b[0;32m--> 896\u001b[0;31m                 \u001b[0mna_value\u001b[0m\u001b[0;34m=\u001b[0m\u001b[0mself\u001b[0m\u001b[0;34m.\u001b[0m\u001b[0m_na_value\u001b[0m\u001b[0;34m,\u001b[0m\u001b[0;34m\u001b[0m\u001b[0;34m\u001b[0m\u001b[0m\n\u001b[0m\u001b[1;32m    897\u001b[0m             )\n\u001b[1;32m    898\u001b[0m         \u001b[0;32melse\u001b[0m\u001b[0;34m:\u001b[0m\u001b[0;34m\u001b[0m\u001b[0;34m\u001b[0m\u001b[0m\n",
      "\u001b[0;32m~/.local/lib/python3.7/site-packages/pandas/core/indexes/base.py\u001b[0m in \u001b[0;36m_assert_take_fillable\u001b[0;34m(self, values, indices, allow_fill, fill_value, na_value)\u001b[0m\n\u001b[1;32m    923\u001b[0m             )\n\u001b[1;32m    924\u001b[0m         \u001b[0;32melse\u001b[0m\u001b[0;34m:\u001b[0m\u001b[0;34m\u001b[0m\u001b[0;34m\u001b[0m\u001b[0m\n\u001b[0;32m--> 925\u001b[0;31m             \u001b[0mtaken\u001b[0m \u001b[0;34m=\u001b[0m \u001b[0mvalues\u001b[0m\u001b[0;34m.\u001b[0m\u001b[0mtake\u001b[0m\u001b[0;34m(\u001b[0m\u001b[0mindices\u001b[0m\u001b[0;34m)\u001b[0m\u001b[0;34m\u001b[0m\u001b[0;34m\u001b[0m\u001b[0m\n\u001b[0m\u001b[1;32m    926\u001b[0m         \u001b[0;32mreturn\u001b[0m \u001b[0mtaken\u001b[0m\u001b[0;34m\u001b[0m\u001b[0;34m\u001b[0m\u001b[0m\n\u001b[1;32m    927\u001b[0m \u001b[0;34m\u001b[0m\u001b[0m\n",
      "\u001b[0;31mKeyboardInterrupt\u001b[0m: "
     ]
    }
   ],
   "source": [
    "for parameters in parameter_grid:\n",
    "    df_sample = df.sample(frac=SAMPLE_PERCENTAGE, random_state=RANDOM_SAMPLE_SEED)\n",
    "    df_sample['text_processed'] = df_sample['text'].apply(preprocess)\n",
    "    \n",
    "    cv = CountVectorizer(binary=True, stop_words='english')\n",
    "    cv.fit(df_sample['text_processed'])\n",
    "    X = cv.transform(df_sample['text_processed'])\n",
    "\n",
    "\n",
    "    X_train, X_val, y_train, y_val = train_test_split(\n",
    "        X, df_sample['sentiment'], train_size = 0.8\n",
    "    )\n",
    "    \n",
    "    lr = LogisticRegression(C=parameters['C'],\n",
    "                            dual=parameters['dual'],\n",
    "                            tol=parameters['tol'],\n",
    "                            fit_intercept=parameters['fit_intercept'],\n",
    "                            intercept_scaling=parameters['intercept_scaling'],\n",
    "                            solver=parameters['solver'],\n",
    "                            multi_class=parameters['multi_class'],\n",
    "                            n_jobs=-1)\n",
    "                            \n",
    "    lr.fit(X_train, y_train)\n",
    "    parameters['score'] = str(accuracy_score(y_val, lr.predict(X_val)))\n",
    "    print (str(parameters))\n",
    "    "
   ]
  },
  {
   "cell_type": "code",
   "execution_count": 5,
   "metadata": {},
   "outputs": [],
   "source": []
  },
  {
   "cell_type": "code",
   "execution_count": null,
   "metadata": {},
   "outputs": [],
   "source": []
  }
 ],
 "metadata": {
  "kernelspec": {
   "display_name": "Python 3",
   "language": "python",
   "name": "python3"
  },
  "language_info": {
   "codemirror_mode": {
    "name": "ipython",
    "version": 3
   },
   "file_extension": ".py",
   "mimetype": "text/x-python",
   "name": "python",
   "nbconvert_exporter": "python",
   "pygments_lexer": "ipython3",
   "version": "3.7.4"
  }
 },
 "nbformat": 4,
 "nbformat_minor": 4
}
