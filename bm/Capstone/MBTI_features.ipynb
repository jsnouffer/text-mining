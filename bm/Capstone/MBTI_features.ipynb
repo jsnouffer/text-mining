{
 "cells": [
  {
   "cell_type": "code",
   "execution_count": 1,
   "metadata": {},
   "outputs": [],
   "source": [
    "import pandas as pd\n",
    "import numpy as np\n",
    "import matplotlib\n",
    "import matplotlib.pyplot as plt\n",
    "import seaborn as sns\n",
    "import re\n",
    "import scipy.stats as stats\n",
    "import datetime as dt\n",
    "import urllib\n",
    "import requests as req\n",
    "from bs4 import BeautifulSoup\n",
    "import json\n",
    "\n",
    "sns.set_style('darkgrid')\n",
    "%config InlineBackend.figure_format = 'retina'\n",
    "%matplotlib inline"
   ]
  },
  {
   "cell_type": "markdown",
   "metadata": {},
   "source": [
    "### Main dataset viewing"
   ]
  },
  {
   "cell_type": "code",
   "execution_count": 2,
   "metadata": {},
   "outputs": [
    {
     "data": {
      "text/html": [
       "<div>\n",
       "<style scoped>\n",
       "    .dataframe tbody tr th:only-of-type {\n",
       "        vertical-align: middle;\n",
       "    }\n",
       "\n",
       "    .dataframe tbody tr th {\n",
       "        vertical-align: top;\n",
       "    }\n",
       "\n",
       "    .dataframe thead th {\n",
       "        text-align: right;\n",
       "    }\n",
       "</style>\n",
       "<table border=\"1\" class=\"dataframe\">\n",
       "  <thead>\n",
       "    <tr style=\"text-align: right;\">\n",
       "      <th></th>\n",
       "      <th>type</th>\n",
       "      <th>posts</th>\n",
       "    </tr>\n",
       "  </thead>\n",
       "  <tbody>\n",
       "    <tr>\n",
       "      <td>0</td>\n",
       "      <td>INFJ</td>\n",
       "      <td>'http://www.youtube.com/watch?v=qsXHcwe3krw|||...</td>\n",
       "    </tr>\n",
       "    <tr>\n",
       "      <td>1</td>\n",
       "      <td>ENTP</td>\n",
       "      <td>'I'm finding the lack of me in these posts ver...</td>\n",
       "    </tr>\n",
       "    <tr>\n",
       "      <td>2</td>\n",
       "      <td>INTP</td>\n",
       "      <td>'Good one  _____   https://www.youtube.com/wat...</td>\n",
       "    </tr>\n",
       "    <tr>\n",
       "      <td>3</td>\n",
       "      <td>INTJ</td>\n",
       "      <td>'Dear INTP,   I enjoyed our conversation the o...</td>\n",
       "    </tr>\n",
       "    <tr>\n",
       "      <td>4</td>\n",
       "      <td>ENTJ</td>\n",
       "      <td>'You're fired.|||That's another silly misconce...</td>\n",
       "    </tr>\n",
       "  </tbody>\n",
       "</table>\n",
       "</div>"
      ],
      "text/plain": [
       "   type                                              posts\n",
       "0  INFJ  'http://www.youtube.com/watch?v=qsXHcwe3krw|||...\n",
       "1  ENTP  'I'm finding the lack of me in these posts ver...\n",
       "2  INTP  'Good one  _____   https://www.youtube.com/wat...\n",
       "3  INTJ  'Dear INTP,   I enjoyed our conversation the o...\n",
       "4  ENTJ  'You're fired.|||That's another silly misconce..."
      ]
     },
     "execution_count": 2,
     "metadata": {},
     "output_type": "execute_result"
    }
   ],
   "source": [
    "mbti = pd.read_csv('mbti_1.csv')\n",
    "mbti.head()"
   ]
  },
  {
   "cell_type": "code",
   "execution_count": 3,
   "metadata": {},
   "outputs": [
    {
     "data": {
      "text/plain": [
       "type     0\n",
       "posts    0\n",
       "dtype: int64"
      ]
     },
     "execution_count": 3,
     "metadata": {},
     "output_type": "execute_result"
    }
   ],
   "source": [
    "mbti.isnull().sum()"
   ]
  },
  {
   "cell_type": "code",
   "execution_count": 4,
   "metadata": {},
   "outputs": [
    {
     "data": {
      "text/plain": [
       "(8675, 2)"
      ]
     },
     "execution_count": 4,
     "metadata": {},
     "output_type": "execute_result"
    }
   ],
   "source": [
    "mbti.shape"
   ]
  },
  {
   "cell_type": "code",
   "execution_count": 6,
   "metadata": {},
   "outputs": [
    {
     "data": {
      "text/html": [
       "<div>\n",
       "<style scoped>\n",
       "    .dataframe tbody tr th:only-of-type {\n",
       "        vertical-align: middle;\n",
       "    }\n",
       "\n",
       "    .dataframe tbody tr th {\n",
       "        vertical-align: top;\n",
       "    }\n",
       "\n",
       "    .dataframe thead th {\n",
       "        text-align: right;\n",
       "    }\n",
       "</style>\n",
       "<table border=\"1\" class=\"dataframe\">\n",
       "  <thead>\n",
       "    <tr style=\"text-align: right;\">\n",
       "      <th></th>\n",
       "      <th>type</th>\n",
       "      <th>posts</th>\n",
       "      <th>post_list</th>\n",
       "    </tr>\n",
       "  </thead>\n",
       "  <tbody>\n",
       "    <tr>\n",
       "      <td>0</td>\n",
       "      <td>INFJ</td>\n",
       "      <td>'http://www.youtube.com/watch?v=qsXHcwe3krw|||...</td>\n",
       "      <td>['http://www.youtube.com/watch?v=qsXHcwe3krw, ...</td>\n",
       "    </tr>\n",
       "    <tr>\n",
       "      <td>1</td>\n",
       "      <td>ENTP</td>\n",
       "      <td>'I'm finding the lack of me in these posts ver...</td>\n",
       "      <td>['I'm finding the lack of me in these posts ve...</td>\n",
       "    </tr>\n",
       "    <tr>\n",
       "      <td>2</td>\n",
       "      <td>INTP</td>\n",
       "      <td>'Good one  _____   https://www.youtube.com/wat...</td>\n",
       "      <td>['Good one  _____   https://www.youtube.com/wa...</td>\n",
       "    </tr>\n",
       "    <tr>\n",
       "      <td>3</td>\n",
       "      <td>INTJ</td>\n",
       "      <td>'Dear INTP,   I enjoyed our conversation the o...</td>\n",
       "      <td>['Dear INTP,   I enjoyed our conversation the ...</td>\n",
       "    </tr>\n",
       "    <tr>\n",
       "      <td>4</td>\n",
       "      <td>ENTJ</td>\n",
       "      <td>'You're fired.|||That's another silly misconce...</td>\n",
       "      <td>['You're fired., That's another silly misconce...</td>\n",
       "    </tr>\n",
       "  </tbody>\n",
       "</table>\n",
       "</div>"
      ],
      "text/plain": [
       "   type                                              posts  \\\n",
       "0  INFJ  'http://www.youtube.com/watch?v=qsXHcwe3krw|||...   \n",
       "1  ENTP  'I'm finding the lack of me in these posts ver...   \n",
       "2  INTP  'Good one  _____   https://www.youtube.com/wat...   \n",
       "3  INTJ  'Dear INTP,   I enjoyed our conversation the o...   \n",
       "4  ENTJ  'You're fired.|||That's another silly misconce...   \n",
       "\n",
       "                                           post_list  \n",
       "0  ['http://www.youtube.com/watch?v=qsXHcwe3krw, ...  \n",
       "1  ['I'm finding the lack of me in these posts ve...  \n",
       "2  ['Good one  _____   https://www.youtube.com/wa...  \n",
       "3  ['Dear INTP,   I enjoyed our conversation the ...  \n",
       "4  ['You're fired., That's another silly misconce...  "
      ]
     },
     "execution_count": 6,
     "metadata": {},
     "output_type": "execute_result"
    }
   ],
   "source": [
    "mbti['post_list'] = mbti.posts.apply(lambda x: x.split('|||'))\n",
    "mbti.head()"
   ]
  },
  {
   "cell_type": "code",
   "execution_count": 7,
   "metadata": {},
   "outputs": [
    {
     "data": {
      "text/plain": [
       "0       None\n",
       "1       None\n",
       "2       None\n",
       "3       None\n",
       "4       None\n",
       "        ... \n",
       "8670    None\n",
       "8671    None\n",
       "8672    None\n",
       "8673    None\n",
       "8674    None\n",
       "Name: post_list, Length: 8675, dtype: object"
      ]
     },
     "execution_count": 7,
     "metadata": {},
     "output_type": "execute_result"
    }
   ],
   "source": [
    "def funkfunk(x):\n",
    "    \"\"\"\n",
    "    RUN ONLY ONCE\n",
    "    Removes the pesky single quote sign that somehow still remains after splitting them into a list.\n",
    "    It technically returns nothing.\n",
    "    \"\"\"\n",
    "    if re.match(\"'\",x[0]):\n",
    "        x[0] = x[0][1:]\n",
    "    if re.match(\"'\",x[-1][::-1]):\n",
    "        x[-1] = x[-1][:-1]\n",
    "    \n",
    "\n",
    "mbti['post_list'].apply(funkfunk)"
   ]
  },
  {
   "cell_type": "code",
   "execution_count": 8,
   "metadata": {},
   "outputs": [
    {
     "data": {
      "text/plain": [
       "type         0\n",
       "posts        0\n",
       "post_list    0\n",
       "dtype: int64"
      ]
     },
     "execution_count": 8,
     "metadata": {},
     "output_type": "execute_result"
    }
   ],
   "source": [
    "mbti.isnull().sum()"
   ]
  },
  {
   "cell_type": "code",
   "execution_count": 9,
   "metadata": {},
   "outputs": [
    {
     "data": {
      "text/plain": [
       "type         object\n",
       "posts        object\n",
       "post_list    object\n",
       "dtype: object"
      ]
     },
     "execution_count": 9,
     "metadata": {},
     "output_type": "execute_result"
    }
   ],
   "source": [
    "mbti.dtypes"
   ]
  },
  {
   "cell_type": "code",
   "execution_count": 10,
   "metadata": {},
   "outputs": [
    {
     "data": {
      "text/html": [
       "<div>\n",
       "<style scoped>\n",
       "    .dataframe tbody tr th:only-of-type {\n",
       "        vertical-align: middle;\n",
       "    }\n",
       "\n",
       "    .dataframe tbody tr th {\n",
       "        vertical-align: top;\n",
       "    }\n",
       "\n",
       "    .dataframe thead th {\n",
       "        text-align: right;\n",
       "    }\n",
       "</style>\n",
       "<table border=\"1\" class=\"dataframe\">\n",
       "  <thead>\n",
       "    <tr style=\"text-align: right;\">\n",
       "      <th></th>\n",
       "      <th>post_list</th>\n",
       "    </tr>\n",
       "  </thead>\n",
       "  <tbody>\n",
       "    <tr>\n",
       "      <td>0</td>\n",
       "      <td>[http://www.youtube.com/watch?v=qsXHcwe3krw, h...</td>\n",
       "    </tr>\n",
       "    <tr>\n",
       "      <td>1</td>\n",
       "      <td>[I'm finding the lack of me in these posts ver...</td>\n",
       "    </tr>\n",
       "    <tr>\n",
       "      <td>2</td>\n",
       "      <td>[Good one  _____   https://www.youtube.com/wat...</td>\n",
       "    </tr>\n",
       "    <tr>\n",
       "      <td>3</td>\n",
       "      <td>[Dear INTP,   I enjoyed our conversation the o...</td>\n",
       "    </tr>\n",
       "    <tr>\n",
       "      <td>4</td>\n",
       "      <td>[You're fired., That's another silly misconcep...</td>\n",
       "    </tr>\n",
       "  </tbody>\n",
       "</table>\n",
       "</div>"
      ],
      "text/plain": [
       "                                           post_list\n",
       "0  [http://www.youtube.com/watch?v=qsXHcwe3krw, h...\n",
       "1  [I'm finding the lack of me in these posts ver...\n",
       "2  [Good one  _____   https://www.youtube.com/wat...\n",
       "3  [Dear INTP,   I enjoyed our conversation the o...\n",
       "4  [You're fired., That's another silly misconcep..."
      ]
     },
     "execution_count": 10,
     "metadata": {},
     "output_type": "execute_result"
    }
   ],
   "source": [
    "#Create new dataframe to keep and generate features\n",
    "mbtilist = pd.DataFrame(mbti['post_list'])\n",
    "mbtilist.head()"
   ]
  },
  {
   "cell_type": "code",
   "execution_count": 11,
   "metadata": {},
   "outputs": [
    {
     "data": {
      "text/html": [
       "<div>\n",
       "<style scoped>\n",
       "    .dataframe tbody tr th:only-of-type {\n",
       "        vertical-align: middle;\n",
       "    }\n",
       "\n",
       "    .dataframe tbody tr th {\n",
       "        vertical-align: top;\n",
       "    }\n",
       "\n",
       "    .dataframe thead th {\n",
       "        text-align: right;\n",
       "    }\n",
       "</style>\n",
       "<table border=\"1\" class=\"dataframe\">\n",
       "  <thead>\n",
       "    <tr style=\"text-align: right;\">\n",
       "      <th></th>\n",
       "      <th>post_list</th>\n",
       "    </tr>\n",
       "  </thead>\n",
       "  <tbody>\n",
       "    <tr>\n",
       "      <td>0</td>\n",
       "      <td>[http://www.youtube.com/watch?v=qsXHcwe3krw, h...</td>\n",
       "    </tr>\n",
       "    <tr>\n",
       "      <td>1</td>\n",
       "      <td>[I'm finding the lack of me in these posts ver...</td>\n",
       "    </tr>\n",
       "    <tr>\n",
       "      <td>2</td>\n",
       "      <td>[Good one  _____   https://www.youtube.com/wat...</td>\n",
       "    </tr>\n",
       "    <tr>\n",
       "      <td>3</td>\n",
       "      <td>[Dear INTP,   I enjoyed our conversation the o...</td>\n",
       "    </tr>\n",
       "    <tr>\n",
       "      <td>4</td>\n",
       "      <td>[You're fired., That's another silly misconcep...</td>\n",
       "    </tr>\n",
       "  </tbody>\n",
       "</table>\n",
       "</div>"
      ],
      "text/plain": [
       "                                           post_list\n",
       "0  [http://www.youtube.com/watch?v=qsXHcwe3krw, h...\n",
       "1  [I'm finding the lack of me in these posts ver...\n",
       "2  [Good one  _____   https://www.youtube.com/wat...\n",
       "3  [Dear INTP,   I enjoyed our conversation the o...\n",
       "4  [You're fired., That's another silly misconcep..."
      ]
     },
     "execution_count": 11,
     "metadata": {},
     "output_type": "execute_result"
    }
   ],
   "source": [
    "#test data using part\n",
    "part = mbtilist.iloc[0:5,:]\n",
    "part.head()"
   ]
  },
  {
   "cell_type": "markdown",
   "metadata": {},
   "source": [
    "### 1st iteration - Perform link extraction"
   ]
  },
  {
   "cell_type": "code",
   "execution_count": 12,
   "metadata": {},
   "outputs": [],
   "source": [
    "def extractions(x, string):\n",
    "    \"\"\"\n",
    "    Input:\n",
    "    x = A list containing sentences\n",
    "    string = regular expression that will match each word\n",
    "    \n",
    "    Output:\n",
    "    lis = List of weblinks\n",
    "    lis2 = List of 'words only' posts\n",
    "\n",
    "    How the function works:\n",
    "\n",
    "    While iterating per item (containing a sentence) in a list, the sentence is split into individual words separated by spaces.\n",
    "    An input string containing a regular expression will be passed inside as part of the function.\n",
    "    Iterating through each word, if the word matches the regular expression, it will be added into the new list.\n",
    "    The new list will hence be collecting all the re matched words that came from the input list with the chunk of sentences.\n",
    "    This function returns the new list.\n",
    "    \n",
    "    2nd update: I also needed a 'words only' list, and since getting the words only is just the 'else' process of getting\n",
    "    links...\n",
    "    \"\"\"\n",
    "    lis=[]\n",
    "    lis2 = []\n",
    "    for line in x[0]:\n",
    "        lin = line.split()\n",
    "        sstring = re.compile(string, flags=re.M)\n",
    "        lis_temp =[]\n",
    "        for l in lin:\n",
    "            if sstring.search(l):\n",
    "                lis.append(sstring.search(l).group(0))\n",
    "            else:\n",
    "                lis_temp.append(l)\n",
    "        lis_string = ' '.join(lis_temp)\n",
    "        lis2.append(lis_string)\n",
    "    return lis, lis2"
   ]
  },
  {
   "cell_type": "code",
   "execution_count": 109,
   "metadata": {
    "collapsed": true,
    "jupyter": {
     "outputs_hidden": true
    },
    "scrolled": true
   },
   "outputs": [
    {
     "name": "stderr",
     "output_type": "stream",
     "text": [
      "C:\\Users\\User\\Anaconda2\\lib\\site-packages\\ipykernel_launcher.py:2: SettingWithCopyWarning: \n",
      "A value is trying to be set on a copy of a slice from a DataFrame.\n",
      "Try using .loc[row_indexer,col_indexer] = value instead\n",
      "\n",
      "See the caveats in the documentation: http://pandas.pydata.org/pandas-docs/stable/indexing.html#indexing-view-versus-copy\n",
      "  \n",
      "C:\\Users\\User\\Anaconda2\\lib\\site-packages\\ipykernel_launcher.py:3: SettingWithCopyWarning: \n",
      "A value is trying to be set on a copy of a slice from a DataFrame.\n",
      "Try using .loc[row_indexer,col_indexer] = value instead\n",
      "\n",
      "See the caveats in the documentation: http://pandas.pydata.org/pandas-docs/stable/indexing.html#indexing-view-versus-copy\n",
      "  This is separate from the ipykernel package so we can avoid doing imports until\n"
     ]
    }
   ],
   "source": [
    "# item_x = part.apply(extractions, string='http.*',axis=1)\n",
    "# part['weblink'] = [x[0] for x in item_x]\n",
    "# part['words_only'] = [x[1] for x in item_x]"
   ]
  },
  {
   "cell_type": "code",
   "execution_count": 13,
   "metadata": {},
   "outputs": [],
   "source": [
    "#Compile list of links into main MBTI dataframe from successful code run\n",
    "#When functions have failed me in multiple assignments I have to take things into my own hands (via list compre)\n",
    "item_x = mbtilist.apply(extractions, string='http.*',axis=1)\n",
    "mbtilist['weblink'] = [x[0] for x in item_x]\n",
    "mbtilist['words_only'] = [x[1] for x in item_x]"
   ]
  },
  {
   "cell_type": "code",
   "execution_count": 14,
   "metadata": {},
   "outputs": [],
   "source": [
    "def onelvl_extract(x, string):\n",
    "    \"\"\"\n",
    "    Input:\n",
    "    x = A list of words\n",
    "    string = regular expression in string form\n",
    "\n",
    "    How the function works:\n",
    "\n",
    "    Iterating through each word, if the word matches the regular expression, it will be added into the new list.\n",
    "    The new list will hence be collecting all the re matched words that came from the input list with the chunk of sentences.\n",
    "    This function returns the new list.\n",
    "    \"\"\"\n",
    "\n",
    "    lis=[]\n",
    "    sstring = re.compile(string, flags=re.M)\n",
    "    for line in x:\n",
    "        if sstring.search(line):\n",
    "            lis.append(sstring.search(line).group(0))\n",
    "    return lis"
   ]
  },
  {
   "cell_type": "code",
   "execution_count": 17,
   "metadata": {
    "collapsed": true,
    "jupyter": {
     "outputs_hidden": true
    }
   },
   "outputs": [],
   "source": [
    "# #reinitialize part\n",
    "# part = mbtilist.iloc[0:5,:]\n",
    "# part.head()"
   ]
  },
  {
   "cell_type": "code",
   "execution_count": 18,
   "metadata": {
    "collapsed": true,
    "jupyter": {
     "outputs_hidden": true
    }
   },
   "outputs": [],
   "source": [
    "# partchunk1 = ''.join(part.weblink.apply(onelvl_extract, string='http.*(?=https?:)')[1])"
   ]
  },
  {
   "cell_type": "code",
   "execution_count": 20,
   "metadata": {
    "collapsed": true,
    "jupyter": {
     "outputs_hidden": true
    }
   },
   "outputs": [],
   "source": [
    "# wholechunk1 = part.weblink[1]"
   ]
  },
  {
   "cell_type": "code",
   "execution_count": 22,
   "metadata": {
    "collapsed": true,
    "jupyter": {
     "outputs_hidden": true
    }
   },
   "outputs": [],
   "source": [
    "# littlechunk1 = ''.join([i for i in wholechunk1 if partchunk1 in i])"
   ]
  },
  {
   "cell_type": "code",
   "execution_count": 24,
   "metadata": {
    "collapsed": true,
    "jupyter": {
     "outputs_hidden": true
    }
   },
   "outputs": [],
   "source": [
    "# littlechunk1[len(partchunk1):]"
   ]
  },
  {
   "cell_type": "code",
   "execution_count": 15,
   "metadata": {},
   "outputs": [],
   "source": [
    "def eliminate_httpdup(x):\n",
    "    \n",
    "    \"\"\"\n",
    "    Input = A list containing URLs\n",
    "\n",
    "    How this function works:\n",
    "    \n",
    "    Some URLs that have been extracted happen to be concatenated successively without any separator in between.\n",
    "    For example, a URL containing the following 'https://www.youtu.be/blahblahhttp://neninenipoopoo...'\n",
    "    The function iterates through the URLs, identify the URL of the above kind then separates them.\n",
    "    After separation, the concatenated string is then removed and the two separated URLs are added into the list.\n",
    "    \n",
    "    End result: 'https://www.youtu.be/blahblah' 'http://neninenipoopoo...'\n",
    "    \n",
    "    Additionally, there are also URLs which are incomplete i.e. 'http://',\n",
    "    we will check both of the processed ones and drop them accordingly.\n",
    "    \n",
    "    This function returns the new list after the processing.\n",
    "    Unfortunately there may exist multiple (more than 2) concatenated URLs and I still do not yet have the brain to process\n",
    "    how to do that in one go, so this particular function got to be run multiple times.\n",
    "    \"\"\"\n",
    "    \n",
    "    wholechunk = list(x) #Must indicate as list, otherwise whatever happens to wholechunk will also happen to x :X\n",
    "    for line in x:\n",
    "        if re.match('http.*(?=https?:)', line):\n",
    "            partchunk = re.match('http.*(?=https?:)', line).group(0)\n",
    "            secondchunk = line[len(partchunk):]\n",
    "            wholechunk.remove(line)\n",
    "            if re.match('https?://.*\\.[\\w\\d].*', partchunk):\n",
    "                wholechunk.append(partchunk)\n",
    "            if re.match('https?://.*\\.[\\w\\d].*', secondchunk):\n",
    "                wholechunk.append(secondchunk)\n",
    "    return wholechunk\n",
    "            "
   ]
  },
  {
   "cell_type": "code",
   "execution_count": 16,
   "metadata": {},
   "outputs": [],
   "source": [
    "def sumall(x):\n",
    "    return sum(x.apply(len))"
   ]
  },
  {
   "cell_type": "code",
   "execution_count": 27,
   "metadata": {
    "collapsed": true,
    "jupyter": {
     "outputs_hidden": true
    }
   },
   "outputs": [],
   "source": [
    "# part['weblink'].apply(eliminate_httpdup)"
   ]
  },
  {
   "cell_type": "code",
   "execution_count": 28,
   "metadata": {
    "collapsed": true,
    "jupyter": {
     "outputs_hidden": true
    }
   },
   "outputs": [],
   "source": [
    "# part['weblink1'] = part['weblink'].apply(eliminate_httpdup)"
   ]
  },
  {
   "cell_type": "code",
   "execution_count": 29,
   "metadata": {
    "collapsed": true,
    "jupyter": {
     "outputs_hidden": true
    }
   },
   "outputs": [],
   "source": [
    "# #They are similar because its inplace and I don't know how!!!\n",
    "# #Update: I think I fixed it!\n",
    "# sumall(part['weblink'])"
   ]
  },
  {
   "cell_type": "code",
   "execution_count": 30,
   "metadata": {
    "collapsed": true,
    "jupyter": {
     "outputs_hidden": true
    }
   },
   "outputs": [],
   "source": [
    "# sumall(part['weblink1'])"
   ]
  },
  {
   "cell_type": "code",
   "execution_count": 31,
   "metadata": {
    "collapsed": true,
    "jupyter": {
     "outputs_hidden": true
    }
   },
   "outputs": [],
   "source": [
    "# sumall(mbtilist['weblink'])"
   ]
  },
  {
   "cell_type": "code",
   "execution_count": 19,
   "metadata": {},
   "outputs": [
    {
     "name": "stdout",
     "output_type": "stream",
     "text": [
      "No. links:\n",
      "No. links:\n",
      "No. links:\n",
      "No. links:\n",
      "No. links:\n"
     ]
    },
    {
     "data": {
      "text/plain": [
       "5"
      ]
     },
     "execution_count": 19,
     "metadata": {},
     "output_type": "execute_result"
    }
   ],
   "source": [
    "#Its inplace by default, damnit\n",
    "#Update: not anymore!\n",
    "\n",
    "mbtilist['weblink1'] = mbtilist['weblink'].apply(eliminate_httpdup)\n",
    "a = 0\n",
    "count = 0\n",
    "while a != sumall(mbtilist['weblink1']):\n",
    "    a = sumall(mbtilist['weblink1'])\n",
    "    print(\"No. links:\"), a\n",
    "    mbtilist['weblink1'] = mbtilist['weblink1'].apply(eliminate_httpdup)\n",
    "    count += 1\n",
    "count"
   ]
  },
  {
   "cell_type": "markdown",
   "metadata": {},
   "source": [
    "### Extract website type"
   ]
  },
  {
   "cell_type": "code",
   "execution_count": 34,
   "metadata": {
    "collapsed": true,
    "jupyter": {
     "outputs_hidden": true
    }
   },
   "outputs": [],
   "source": [
    "# #reinitialize part\n",
    "# part = mbtilist.iloc[0:50,:]\n",
    "# part.head()"
   ]
  },
  {
   "cell_type": "code",
   "execution_count": 35,
   "metadata": {
    "collapsed": true,
    "jupyter": {
     "outputs_hidden": true
    }
   },
   "outputs": [],
   "source": [
    "# part['image'] = part['weblink1'].apply(onelvl_extract, string=r'.*\\.(jpg|png|jpeg|gif).*|.*img.*|.*image.*')\n",
    "# for partie in part['image']:\n",
    "#     print \"_________________________________________________________________________\"\n",
    "#     for i in partie:\n",
    "#         print i\n",
    "        "
   ]
  },
  {
   "cell_type": "code",
   "execution_count": 36,
   "metadata": {
    "collapsed": true,
    "jupyter": {
     "outputs_hidden": true
    }
   },
   "outputs": [],
   "source": [
    "# for partie in part['weblink1']:\n",
    "#     print \"_________________________________________________________________________\"\n",
    "#     for i in partie:\n",
    "#         print i"
   ]
  },
  {
   "cell_type": "code",
   "execution_count": 37,
   "metadata": {
    "collapsed": true,
    "jupyter": {
     "outputs_hidden": true
    }
   },
   "outputs": [],
   "source": [
    "# #Try getting only the base url\n",
    "# for partie in part['weblink1'].apply(onelvl_extract, string=r'(?=https?://)(.*)(?=/.*)')[0]:\n",
    "#     print partie"
   ]
  },
  {
   "cell_type": "code",
   "execution_count": 38,
   "metadata": {
    "collapsed": true,
    "jupyter": {
     "outputs_hidden": true
    },
    "scrolled": true
   },
   "outputs": [],
   "source": [
    "# #Get videos\n",
    "# part['video_link'] = part['weblink1'].apply(onelvl_extract, string=r'https?://.*youtu.*|http.*vimeo.*')"
   ]
  },
  {
   "cell_type": "code",
   "execution_count": 20,
   "metadata": {},
   "outputs": [
    {
     "data": {
      "text/html": [
       "<div>\n",
       "<style scoped>\n",
       "    .dataframe tbody tr th:only-of-type {\n",
       "        vertical-align: middle;\n",
       "    }\n",
       "\n",
       "    .dataframe tbody tr th {\n",
       "        vertical-align: top;\n",
       "    }\n",
       "\n",
       "    .dataframe thead th {\n",
       "        text-align: right;\n",
       "    }\n",
       "</style>\n",
       "<table border=\"1\" class=\"dataframe\">\n",
       "  <thead>\n",
       "    <tr style=\"text-align: right;\">\n",
       "      <th></th>\n",
       "      <th>post_list</th>\n",
       "      <th>weblink</th>\n",
       "      <th>words_only</th>\n",
       "      <th>weblink1</th>\n",
       "    </tr>\n",
       "  </thead>\n",
       "  <tbody>\n",
       "    <tr>\n",
       "      <td>0</td>\n",
       "      <td>[http://www.youtube.com/watch?v=qsXHcwe3krw, h...</td>\n",
       "      <td>[http://www.youtube.com/watch?v=qsXHcwe3krw, h...</td>\n",
       "      <td>[, , enfp and intj moments sportscenter not to...</td>\n",
       "      <td>[http://www.youtube.com/watch?v=qsXHcwe3krw, h...</td>\n",
       "    </tr>\n",
       "    <tr>\n",
       "      <td>1</td>\n",
       "      <td>[I'm finding the lack of me in these posts ver...</td>\n",
       "      <td>[http://img188.imageshack.us/img188/6422/6020d...</td>\n",
       "      <td>[I'm finding the lack of me in these posts ver...</td>\n",
       "      <td>[http://img188.imageshack.us/img188/6422/6020d...</td>\n",
       "    </tr>\n",
       "    <tr>\n",
       "      <td>2</td>\n",
       "      <td>[Good one  _____   https://www.youtube.com/wat...</td>\n",
       "      <td>[https://www.youtube.com/watch?v=fHiGbolFFGw, ...</td>\n",
       "      <td>[Good one _____, Of course, to which I say I k...</td>\n",
       "      <td>[https://www.youtube.com/watch?v=fHiGbolFFGw, ...</td>\n",
       "    </tr>\n",
       "    <tr>\n",
       "      <td>3</td>\n",
       "      <td>[Dear INTP,   I enjoyed our conversation the o...</td>\n",
       "      <td>[https://www.youtube.com/watch?v=uelHwf8o7_U, ...</td>\n",
       "      <td>[Dear INTP, I enjoyed our conversation the oth...</td>\n",
       "      <td>[https://www.youtube.com/watch?v=uelHwf8o7_U, ...</td>\n",
       "    </tr>\n",
       "    <tr>\n",
       "      <td>4</td>\n",
       "      <td>[You're fired., That's another silly misconcep...</td>\n",
       "      <td>[https://www.youtube.com/watch?v=Xh0vA6_8mv8, ...</td>\n",
       "      <td>[You're fired., That's another silly misconcep...</td>\n",
       "      <td>[https://www.youtube.com/watch?v=Xh0vA6_8mv8, ...</td>\n",
       "    </tr>\n",
       "  </tbody>\n",
       "</table>\n",
       "</div>"
      ],
      "text/plain": [
       "                                           post_list  \\\n",
       "0  [http://www.youtube.com/watch?v=qsXHcwe3krw, h...   \n",
       "1  [I'm finding the lack of me in these posts ver...   \n",
       "2  [Good one  _____   https://www.youtube.com/wat...   \n",
       "3  [Dear INTP,   I enjoyed our conversation the o...   \n",
       "4  [You're fired., That's another silly misconcep...   \n",
       "\n",
       "                                             weblink  \\\n",
       "0  [http://www.youtube.com/watch?v=qsXHcwe3krw, h...   \n",
       "1  [http://img188.imageshack.us/img188/6422/6020d...   \n",
       "2  [https://www.youtube.com/watch?v=fHiGbolFFGw, ...   \n",
       "3  [https://www.youtube.com/watch?v=uelHwf8o7_U, ...   \n",
       "4  [https://www.youtube.com/watch?v=Xh0vA6_8mv8, ...   \n",
       "\n",
       "                                          words_only  \\\n",
       "0  [, , enfp and intj moments sportscenter not to...   \n",
       "1  [I'm finding the lack of me in these posts ver...   \n",
       "2  [Good one _____, Of course, to which I say I k...   \n",
       "3  [Dear INTP, I enjoyed our conversation the oth...   \n",
       "4  [You're fired., That's another silly misconcep...   \n",
       "\n",
       "                                            weblink1  \n",
       "0  [http://www.youtube.com/watch?v=qsXHcwe3krw, h...  \n",
       "1  [http://img188.imageshack.us/img188/6422/6020d...  \n",
       "2  [https://www.youtube.com/watch?v=fHiGbolFFGw, ...  \n",
       "3  [https://www.youtube.com/watch?v=uelHwf8o7_U, ...  \n",
       "4  [https://www.youtube.com/watch?v=Xh0vA6_8mv8, ...  "
      ]
     },
     "execution_count": 20,
     "metadata": {},
     "output_type": "execute_result"
    }
   ],
   "source": [
    "mbtilist.head()"
   ]
  },
  {
   "cell_type": "code",
   "execution_count": null,
   "metadata": {},
   "outputs": [],
   "source": [
    "#Get rest of the links\n",
    "def happyfunc(x):\n",
    "    \"\"\"\n",
    "    x: DataFrame row containing the total weblink plus the video and image link list\n",
    "    This function removes the video and image urls from the weblink list and returns a new list.    \n",
    "    \"\"\"\n",
    "    \n",
    "    newlist = list(x[3])\n",
    "    if x[4]:\n",
    "        for img in x[4]:\n",
    "            try:\n",
    "                newlist.remove(img)\n",
    "            except:\n",
    "                print (img)\n",
    "                continue\n",
    "    if x[5]:\n",
    "        for you in x[5]:\n",
    "            try:\n",
    "                newlist.remove(you)\n",
    "            except:\n",
    "                print (you)\n",
    "                continue\n",
    "    return newlist"
   ]
  },
  {
   "cell_type": "code",
   "execution_count": 25,
   "metadata": {},
   "outputs": [],
   "source": [
    "#Get youtube titles\n",
    "def get_title(url):\n",
    "    \"\"\"\n",
    "    url: URL of course!\n",
    "    Fun times ahead!\n",
    "    \n",
    "    This function will specially take in the video URLs and return the title\n",
    "    \n",
    "    \"\"\"\n",
    "    try:\n",
    "        html = req.get(url, timeout=1).text\n",
    "        soup = BeautifulSoup(html, 'html.parser')\n",
    "    except:\n",
    "        return None\n",
    "    title=None\n",
    "    if \"youtu\" in url:\n",
    "        title = re.match(r'<.+>(.*) - YouTube.*<.+>', str(soup.title))\n",
    "    elif \"vimeo\" in url:\n",
    "        title = re.match(r'<.+>(.*)<.+>', str(soup.h1))\n",
    "    if title:\n",
    "        return title.group(1)\n",
    "    else:\n",
    "        return None\n",
    "    \n",
    "\n",
    "def insertlist(x):\n",
    "    \"\"\"\n",
    "    Ok this function simply iterates through a list and applies the function to each link, then append to a new list\n",
    "    if not None.\n",
    "    \"\"\"\n",
    "    newlist=[]\n",
    "    for url in x:\n",
    "        y = get_title(url)\n",
    "        if y is not None:\n",
    "            newlist.append(y)\n",
    "    return newlist"
   ]
  },
  {
   "cell_type": "code",
   "execution_count": 45,
   "metadata": {
    "collapsed": true,
    "jupyter": {
     "outputs_hidden": true
    }
   },
   "outputs": [],
   "source": [
    "# part['video_title'] = part['video_link'].apply(insertlist)"
   ]
  },
  {
   "cell_type": "code",
   "execution_count": 46,
   "metadata": {
    "collapsed": true,
    "jupyter": {
     "outputs_hidden": true
    }
   },
   "outputs": [],
   "source": [
    "#Classify other websites\n",
    "# webclassifier = pd.read_csv('webcat.csv', header=None, names=['number','webpage','category'])\n",
    "# webclassifier.head()"
   ]
  },
  {
   "cell_type": "code",
   "execution_count": 47,
   "metadata": {
    "collapsed": true,
    "jupyter": {
     "outputs_hidden": true
    }
   },
   "outputs": [],
   "source": [
    "#webclassifier.shape"
   ]
  },
  {
   "cell_type": "code",
   "execution_count": 48,
   "metadata": {
    "collapsed": true,
    "jupyter": {
     "outputs_hidden": true
    }
   },
   "outputs": [],
   "source": [
    "#webclassifier.isnull().sum()"
   ]
  },
  {
   "cell_type": "code",
   "execution_count": 49,
   "metadata": {
    "collapsed": true,
    "jupyter": {
     "outputs_hidden": true
    }
   },
   "outputs": [],
   "source": [
    "#webclassifier.dropna(inplace=True)"
   ]
  },
  {
   "cell_type": "code",
   "execution_count": 50,
   "metadata": {
    "collapsed": true,
    "jupyter": {
     "outputs_hidden": true
    }
   },
   "outputs": [],
   "source": [
    "#webclassifier.isnull().sum()"
   ]
  },
  {
   "cell_type": "code",
   "execution_count": 51,
   "metadata": {
    "collapsed": true,
    "jupyter": {
     "outputs_hidden": true
    }
   },
   "outputs": [],
   "source": [
    "#webclassifier['category'].value_counts()"
   ]
  },
  {
   "cell_type": "code",
   "execution_count": 52,
   "metadata": {
    "collapsed": true,
    "jupyter": {
     "outputs_hidden": true
    }
   },
   "outputs": [],
   "source": [
    "# def matchkeyword(x):\n",
    "#     try:\n",
    "#         worde =  re.match(r'.*www.facebook.*',str(x))\n",
    "#     except:\n",
    "#         return None\n",
    "#     if worde:\n",
    "#         print worde.group(0)\n",
    "#     else:\n",
    "#         return None"
   ]
  },
  {
   "cell_type": "markdown",
   "metadata": {},
   "source": [
    "I'll try that another time."
   ]
  },
  {
   "cell_type": "code",
   "execution_count": 53,
   "metadata": {
    "collapsed": true,
    "jupyter": {
     "outputs_hidden": true
    }
   },
   "outputs": [],
   "source": [
    "#Other features to come soon"
   ]
  },
  {
   "cell_type": "markdown",
   "metadata": {},
   "source": [
    "###### Images"
   ]
  },
  {
   "cell_type": "code",
   "execution_count": 54,
   "metadata": {
    "collapsed": true,
    "jupyter": {
     "outputs_hidden": true
    }
   },
   "outputs": [],
   "source": [
    "#Still figuring out the google part, stay tuned!"
   ]
  },
  {
   "cell_type": "markdown",
   "metadata": {},
   "source": [
    "##### Run webpage code in mbtilist"
   ]
  },
  {
   "cell_type": "code",
   "execution_count": 26,
   "metadata": {},
   "outputs": [],
   "source": [
    "mbtilist['image'] = mbtilist['weblink1'].apply(onelvl_extract, string=r'.*\\.(jpg|png|jpeg|gif).*|.*img.*|.*image.*')"
   ]
  },
  {
   "cell_type": "code",
   "execution_count": 27,
   "metadata": {},
   "outputs": [],
   "source": [
    "mbtilist['video_link'] = mbtilist['weblink1'].apply(onelvl_extract, string=r'https?://.*youtu.*|http.*vimeo.*')"
   ]
  },
  {
   "cell_type": "code",
   "execution_count": 28,
   "metadata": {},
   "outputs": [
    {
     "name": "stdout",
     "output_type": "stream",
     "text": [
      "http://b.vimeocdn.com/ps/187/573/1875738_300.jpg\n",
      "https://www.youtube.com/watch?v=eimgRedLkkU\n"
     ]
    }
   ],
   "source": [
    "mbtilist['otherlink'] = mbtilist.apply(happyfunc, axis=1)"
   ]
  },
  {
   "cell_type": "code",
   "execution_count": 29,
   "metadata": {},
   "outputs": [],
   "source": [
    "mbtilist['n_video'] = mbtilist['video_link'].apply(len)\n",
    "mbtilist['n_links'] = mbtilist['weblink1'].apply(len)\n",
    "mbtilist['n_image'] = mbtilist['image'].apply(len)\n",
    "mbtilist['n_otherlink'] = mbtilist['n_links']-mbtilist['n_image']-mbtilist['n_video']"
   ]
  },
  {
   "cell_type": "code",
   "execution_count": null,
   "metadata": {},
   "outputs": [],
   "source": [
    "#This code will take a LOOOOOOOOONGGGG while\n",
    "mbtilist['video_title'] = mbtilist['video_link'].apply(insertlist)"
   ]
  },
  {
   "cell_type": "code",
   "execution_count": null,
   "metadata": {},
   "outputs": [],
   "source": [
    "for line in mbtilist['video_title']:\n",
    "    print (line)\n",
    "    break"
   ]
  },
  {
   "cell_type": "code",
   "execution_count": 134,
   "metadata": {
    "collapsed": true,
    "jupyter": {
     "outputs_hidden": true
    }
   },
   "outputs": [],
   "source": [
    "from sklearn.feature_extraction.text import CountVectorizer, TfidfVectorizer\n",
    "cv = CountVectorizer(decode_error='replace',stop_words='english')\n"
   ]
  },
  {
   "cell_type": "code",
   "execution_count": 135,
   "metadata": {
    "collapsed": true,
    "jupyter": {
     "outputs_hidden": true
    }
   },
   "outputs": [],
   "source": [
    "wordystring = ' '.join(mbtilist['words_only'][0])\n",
    "wordylist = mbtilist['words_only'][0]\n",
    "dude = cv.fit_transform(wordylist)"
   ]
  },
  {
   "cell_type": "markdown",
   "metadata": {},
   "source": [
    "I suaku see see first"
   ]
  },
  {
   "cell_type": "code",
   "execution_count": 144,
   "metadata": {},
   "outputs": [
    {
     "data": {
      "text/plain": [
       "<50x233 sparse matrix of type '<type 'numpy.int64'>'\n",
       "\twith 265 stored elements in Compressed Sparse Row format>"
      ]
     },
     "execution_count": 144,
     "metadata": {},
     "output_type": "execute_result"
    }
   ],
   "source": [
    "dude"
   ]
  },
  {
   "cell_type": "code",
   "execution_count": 145,
   "metadata": {},
   "outputs": [
    {
     "name": "stdout",
     "output_type": "stream",
     "text": [
      "  (2, 152)\t1\n",
      "  (2, 148)\t1\n",
      "  (2, 189)\t1\n",
      "  (2, 129)\t1\n",
      "  (2, 102)\t1\n",
      "  (2, 62)\t1\n",
      "  (3, 67)\t1\n",
      "  (3, 26)\t1\n",
      "  (3, 114)\t2\n",
      "  (4, 206)\t1\n",
      "  (4, 163)\t1\n",
      "  (5, 98)\t1\n",
      "  (5, 144)\t1\n",
      "  (5, 67)\t1\n",
      "  (6, 141)\t1\n",
      "  (6, 165)\t1\n",
      "  (6, 44)\t1\n",
      "  (6, 194)\t1\n",
      "  (6, 32)\t1\n",
      "  (6, 68)\t1\n",
      "  (6, 151)\t1\n",
      "  (6, 76)\t1\n",
      "  (6, 99)\t1\n",
      "  (6, 197)\t1\n",
      "  (7, 84)\t1\n",
      "  :\t:\n",
      "  (47, 70)\t1\n",
      "  (47, 21)\t1\n",
      "  (47, 150)\t1\n",
      "  (47, 20)\t1\n",
      "  (47, 111)\t1\n",
      "  (47, 187)\t1\n",
      "  (47, 6)\t1\n",
      "  (47, 230)\t1\n",
      "  (47, 188)\t1\n",
      "  (47, 157)\t1\n",
      "  (47, 69)\t1\n",
      "  (47, 28)\t1\n",
      "  (47, 104)\t1\n",
      "  (47, 212)\t1\n",
      "  (48, 219)\t1\n",
      "  (48, 36)\t1\n",
      "  (48, 124)\t1\n",
      "  (48, 146)\t1\n",
      "  (48, 115)\t1\n",
      "  (48, 102)\t1\n",
      "  (49, 135)\t1\n",
      "  (49, 190)\t1\n",
      "  (49, 10)\t1\n",
      "  (49, 48)\t1\n",
      "  (49, 114)\t1\n"
     ]
    }
   ],
   "source": [
    "print dude"
   ]
  },
  {
   "cell_type": "code",
   "execution_count": 140,
   "metadata": {},
   "outputs": [
    {
     "name": "stdout",
     "output_type": "stream",
     "text": [
      "{u'sims': 180, u'peace': 141, u'just': 104, u'sentence': 175, u'moments': 129, u'whatnot': 223, u'rest': 165, u'years': 230, u'world': 226, u'existence': 66, u'chair': 25, u'84389': 3, u'avid': 13, u'suicide': 194, u'cuz': 43, u'denver': 48, u'eat': 59, u'late': 108, u'reasons': 161, u'promoting': 154, u'sorry': 186, u'main': 118, u'enfj7': 61, u'match': 121, u'personality': 147, u'good': 81, u'workin': 225, u'yo': 232, u'watching': 218, u'ya': 229, u'conversations': 37, u'banned': 16, u'designated': 49, u'whichever': 224, u'facebook': 68, u'perfection': 145, u'desk': 50, u'using': 211, u'enfp': 62, u'roaches': 168, u'day': 44, u'cool': 39, u'diary': 52, u'school': 173, u'grumbling': 85, u'immerse': 98, u'artist': 11, u'kisses': 106, u'dig': 53, u'50': 2, u'xbox': 228, u'try': 207, u'stuff': 192, u'roast': 169, u'mean': 123, u'enjoy': 63, u'set': 176, u'old': 137, u'people': 143, u'hard': 87, u'idea': 97, u'cognitive': 30, u'revel': 166, u'likely': 116, u'growth': 84, u'video': 214, u'corner': 40, u'dear': 45, u'edibles': 60, u'really': 160, u'plays': 148, u'current': 42, u'determined': 51, u'health': 89, u'verbally': 213, u'new': 135, u'learned': 111, u'public': 157, u'welcome': 221, u'moment': 128, u'munching': 132, u'left': 112, u'optimist': 138, u'use': 210, u'like': 115, u'pressure': 153, u'completely': 33, u'death': 46, u'peer': 142, u'sitting': 181, u'come': 31, u'appears': 9, u'wait': 215, u'changing': 26, u'sportscenter': 189, u'items': 103, u'taking': 195, u'favorite': 72, u'host': 96, u'experience': 67, u'times': 205, u'thing': 197, u'healthier': 90, u'games': 79, u'signature': 178, u'moving': 131, u'complimentary': 34, u'think': 199, u'ladies': 107, u'followed': 74, u'distress': 54, u'wall': 216, u'ahh': 7, u'solitude': 184, u'intellectual': 101, u'intj': 102, u'right': 167, u'esteem': 65, u'artists': 12, u'counts': 41, u'pokemon': 149, u'perc': 144, u'better': 20, u'confidence': 35, u'prozac': 156, u'yep': 231, u'area': 10, u'downed': 56, u'hey': 94, u'quickly': 158, u'conversing': 38, u'live': 117, u'music': 133, u'inner': 100, u'dunces': 58, u'legs': 113, u'type': 208, u'start': 190, u'friend': 76, u'wellbrutin': 222, u'life': 114, u'storm': 191, u'relationship': 162, u'share': 177, u'mentality': 124, u'sort': 187, u'subjective': 193, u'overloading': 140, u'moderation': 127, u'hear': 91, u'basically': 17, u'somewhat': 185, u'baby': 14, u'don': 55, u'given': 80, u'haven': 88, u'posted': 151, u'alternative': 8, u'kind': 105, u'thirty': 200, u'entp': 64, u'gotta': 82, u'bed': 18, u'middle': 125, u'movies': 130, u'game': 78, u'taught': 196, u'today': 206, u'learn': 110, u'growing': 83, u'marshmellows': 119, u'49142': 1, u'social': 182, u'happenings': 86, u've': 212, u'figure': 73, u'minutes': 126, u'beetle': 19, u'ages': 5, u'sad': 172, u'high': 95, u'heard': 92, u'way': 219, u'room': 171, u'want': 217, u'infj': 99, u'clearly': 29, u'worry': 227, u'failed': 69, u'functions': 77, u'speaking': 188, u'cavemen': 24, u'46': 0, u'things': 198, u'self': 174, u'cave': 23, u'note': 136, u'forming': 75, u'thundering': 203, u'pranks': 152, u'sim': 179, u'draw': 57, u'repeat': 163, u'committing': 32, u'cherish': 27, u'confirmed': 36, u'weed': 220, u'84390': 4, u'thread': 202, u'fatigue': 71, u'blood': 22, u'society': 183, u'backyard': 15, u'class': 28, u'types': 209, u'ago': 6, u'massages': 120, u'natural': 134, u'failure': 70, u'ranks': 159, u'maybe': 122, u'proud': 155, u'big': 21, u'robot': 170, u'deer': 47, u'thought': 201, u'person': 146, u'time': 204, u'position': 150, u'latest': 109, u'requires': 164, u'hello': 93, u'outlet': 139}\n"
     ]
    }
   ],
   "source": [
    "print cv.vocabulary_\n",
    "#Woohoo"
   ]
  },
  {
   "cell_type": "code",
   "execution_count": null,
   "metadata": {
    "collapsed": true,
    "jupyter": {
     "outputs_hidden": true
    }
   },
   "outputs": [],
   "source": [
    "#I'll deal with countvectorizer on another day."
   ]
  },
  {
   "cell_type": "code",
   "execution_count": null,
   "metadata": {
    "collapsed": true,
    "jupyter": {
     "outputs_hidden": true
    }
   },
   "outputs": [],
   "source": []
  },
  {
   "cell_type": "markdown",
   "metadata": {},
   "source": [
    "### From here on I will be extracting more simple features, first try with part then if successful do it on the main thing"
   ]
  },
  {
   "cell_type": "code",
   "execution_count": null,
   "metadata": {
    "collapsed": true,
    "jupyter": {
     "outputs_hidden": true
    }
   },
   "outputs": [],
   "source": [
    "# #Get emoticons (denoted by :some expression here:)\n",
    "# part['post_list'].apply(onelvl_extract, string=r':\\w*:')\n"
   ]
  },
  {
   "cell_type": "code",
   "execution_count": 146,
   "metadata": {
    "collapsed": true,
    "jupyter": {
     "outputs_hidden": true
    }
   },
   "outputs": [],
   "source": [
    "#Run it in mbtilist when part is successful\n",
    "mbtilist['emoticons']=mbtilist['post_list'].apply(onelvl_extract, string=r':\\w*:')"
   ]
  },
  {
   "cell_type": "code",
   "execution_count": 147,
   "metadata": {
    "collapsed": true,
    "jupyter": {
     "outputs_hidden": true
    }
   },
   "outputs": [],
   "source": [
    "#Get counts\n",
    "mbtilist['emoticon_count'] = mbtilist['emoticons'].apply(len)"
   ]
  },
  {
   "cell_type": "code",
   "execution_count": null,
   "metadata": {
    "collapsed": true,
    "jupyter": {
     "outputs_hidden": true
    }
   },
   "outputs": [],
   "source": [
    "# #Get mentions\n",
    "# part['post_list'].apply(onelvl_extract, string=r'@\\w*')"
   ]
  },
  {
   "cell_type": "code",
   "execution_count": 148,
   "metadata": {
    "collapsed": true,
    "jupyter": {
     "outputs_hidden": true
    }
   },
   "outputs": [],
   "source": [
    "mbtilist['mention']=mbtilist['post_list'].apply(onelvl_extract, string=r'@\\w*')\n",
    "mbtilist['mention_count'] = mbtilist['mention'].apply(len)"
   ]
  },
  {
   "cell_type": "code",
   "execution_count": 149,
   "metadata": {
    "collapsed": true,
    "jupyter": {
     "outputs_hidden": true
    }
   },
   "outputs": [],
   "source": [
    "#Get hashtags\n",
    "#Interesting\n",
    "#See which type like to use hashtags more\n",
    "# part['post_list'].apply(onelvl_extract,string=r'#[\\w\\d]*')"
   ]
  },
  {
   "cell_type": "code",
   "execution_count": 150,
   "metadata": {
    "collapsed": true,
    "jupyter": {
     "outputs_hidden": true
    }
   },
   "outputs": [],
   "source": [
    "mbtilist['hashtag']=mbtilist['post_list'].apply(onelvl_extract, string=r'#\\w[\\w\\d]*')\n",
    "mbtilist['hashtag_count'] = mbtilist['hashtag'].apply(len)"
   ]
  },
  {
   "cell_type": "code",
   "execution_count": 151,
   "metadata": {
    "collapsed": true,
    "jupyter": {
     "outputs_hidden": true
    }
   },
   "outputs": [],
   "source": [
    "# #MBTI reference\n",
    "# part['post_list'].apply(onelvl_extract, string=r'[eiEI][snSN][tfTF][jpJP]').apply(lambda x:[i.upper() for i in x])\n",
    "    \n",
    "# #Perhaps I can use this to find out if I can predict the type based on the number of mentions\n",
    "# #I.e. some people like to reference themselves a lot"
   ]
  },
  {
   "cell_type": "code",
   "execution_count": 152,
   "metadata": {
    "collapsed": true,
    "jupyter": {
     "outputs_hidden": true
    }
   },
   "outputs": [],
   "source": [
    "mbtilist['mbti_ref']=mbtilist['post_list'].apply(onelvl_extract, string=r'[eiEI][snSN][tfTF][jpJP]').apply(lambda x:[i.upper() for i in x])\n",
    "mbtilist['mbti_ref_count'] = mbtilist['mbti_ref'].apply(len)"
   ]
  },
  {
   "cell_type": "code",
   "execution_count": 202,
   "metadata": {
    "collapsed": true,
    "jupyter": {
     "outputs_hidden": true
    }
   },
   "outputs": [],
   "source": [
    "#Lets try this out\n",
    "action = mbtilist['words_only'].apply(onelvl_extract, string=r'\\*\\w.*\\*')\n",
    "#The result looks good, add it in\n",
    "mbtilist['action'] = action\n",
    "mbtilist['n_action'] = mbtilist['action'].apply(len)"
   ]
  },
  {
   "cell_type": "code",
   "execution_count": 210,
   "metadata": {
    "collapsed": true,
    "jupyter": {
     "outputs_hidden": true
    }
   },
   "outputs": [],
   "source": [
    "#Lets try this as well\n",
    "#Could either mean\n",
    "mbtilist['caps'] = mbtilist['words_only'].apply(onelvl_extract, string=r'(?!([eiEI]?[snSN][tfTF][jpJP]|MBTI))[A-Z]{3,}')\n",
    "mbtilist['n_caps'] = mbtilist['caps'].apply(len)\n",
    "mbtilist['n_caps_char'] = mbtilist['caps'].apply(lambda x: 0 if x == [] else np.sum([len(y) for y in x]))"
   ]
  },
  {
   "cell_type": "code",
   "execution_count": 153,
   "metadata": {
    "collapsed": true,
    "jupyter": {
     "outputs_hidden": true
    }
   },
   "outputs": [],
   "source": [
    "#Enneagram reference\n",
    "#For future project use\n",
    "# part['post_list'].apply(onelvl_extract, string=r'\\dw\\d')"
   ]
  },
  {
   "cell_type": "code",
   "execution_count": 154,
   "metadata": {
    "collapsed": true,
    "jupyter": {
     "outputs_hidden": true
    }
   },
   "outputs": [],
   "source": [
    "mbtilist['ennea']=mbtilist['post_list'].apply(onelvl_extract, string=r'\\dw\\d')\n",
    "mbtilist['ennea_count'] = mbtilist['ennea'].apply(len)"
   ]
  },
  {
   "cell_type": "code",
   "execution_count": 155,
   "metadata": {
    "collapsed": true,
    "jupyter": {
     "outputs_hidden": true
    }
   },
   "outputs": [],
   "source": [
    "#Use of forum url tags '[]'\n",
    "# part['post_list'].apply(onelvl_extract, string=r'\\[.*\\]')"
   ]
  },
  {
   "cell_type": "code",
   "execution_count": 156,
   "metadata": {
    "collapsed": true,
    "jupyter": {
     "outputs_hidden": true
    }
   },
   "outputs": [],
   "source": [
    "mbtilist['bracket']=mbtilist['post_list'].apply(onelvl_extract, string=r'\\[.*?\\]')\n",
    "mbtilist['bracket_count'] = mbtilist['bracket'].apply(len)"
   ]
  },
  {
   "cell_type": "code",
   "execution_count": 157,
   "metadata": {
    "collapsed": true,
    "jupyter": {
     "outputs_hidden": true
    }
   },
   "outputs": [],
   "source": [
    "#... count (lol)\n",
    "# part['post_list'].apply(onelvl_extract, string=r'\\.\\.\\.').apply(len)"
   ]
  },
  {
   "cell_type": "code",
   "execution_count": 158,
   "metadata": {
    "collapsed": true,
    "jupyter": {
     "outputs_hidden": true
    }
   },
   "outputs": [],
   "source": [
    "mbtilist['dots']=mbtilist['post_list'].apply(onelvl_extract, string=r'\\.\\.\\.')\n",
    "mbtilist['dots_count'] = mbtilist['dots'].apply(len)"
   ]
  },
  {
   "cell_type": "code",
   "execution_count": 159,
   "metadata": {
    "collapsed": true,
    "jupyter": {
     "outputs_hidden": true
    }
   },
   "outputs": [],
   "source": [
    "mbtilist = mbtilist.drop('dots', axis=1)"
   ]
  },
  {
   "cell_type": "code",
   "execution_count": 192,
   "metadata": {
    "collapsed": true,
    "jupyter": {
     "outputs_hidden": true
    }
   },
   "outputs": [],
   "source": [
    "mbtilist['mbti_ref_most'] = mbtilist['mbti_ref'].apply(lambda x: 'NA' if x == [] else max(x, key=x.count))"
   ]
  },
  {
   "cell_type": "code",
   "execution_count": 175,
   "metadata": {
    "collapsed": true,
    "jupyter": {
     "outputs_hidden": true
    }
   },
   "outputs": [],
   "source": [
    "mbtilist['n_char'] = mbtilist['words_only'].apply(lambda x: np.sum([len(y) for y in x]))\n",
    "mbtilist['n_word'] = mbtilist['words_only'].apply(lambda x: np.sum([len(y.split()) for y in x]))"
   ]
  },
  {
   "cell_type": "code",
   "execution_count": 177,
   "metadata": {},
   "outputs": [
    {
     "data": {
      "text/plain": [
       "Index([u'post_list', u'weblink', u'words_only', u'weblink1', u'image',\n",
       "       u'video_link', u'otherlink', u'n_video', u'n_links', u'n_image',\n",
       "       u'n_otherlink', u'video_title', u'emoticons', u'emoticon_count',\n",
       "       u'mention', u'mention_count', u'hashtag', u'hashtag_count', u'mbti_ref',\n",
       "       u'mbti_ref_count', u'ennea', u'ennea_count', u'bracket',\n",
       "       u'bracket_count', u'dots_count', u'n_char', u'n_word'],\n",
       "      dtype='object')"
      ]
     },
     "execution_count": 177,
     "metadata": {},
     "output_type": "execute_result"
    }
   ],
   "source": [
    "mbtilist.columns"
   ]
  },
  {
   "cell_type": "code",
   "execution_count": 211,
   "metadata": {},
   "outputs": [
    {
     "data": {
      "text/html": [
       "<div>\n",
       "<style>\n",
       "    .dataframe thead tr:only-child th {\n",
       "        text-align: right;\n",
       "    }\n",
       "\n",
       "    .dataframe thead th {\n",
       "        text-align: left;\n",
       "    }\n",
       "\n",
       "    .dataframe tbody tr th {\n",
       "        vertical-align: top;\n",
       "    }\n",
       "</style>\n",
       "<table border=\"1\" class=\"dataframe\">\n",
       "  <thead>\n",
       "    <tr style=\"text-align: right;\">\n",
       "      <th></th>\n",
       "      <th>words_only</th>\n",
       "      <th>image</th>\n",
       "      <th>video_link</th>\n",
       "      <th>otherlink</th>\n",
       "      <th>n_video</th>\n",
       "      <th>n_links</th>\n",
       "      <th>n_image</th>\n",
       "      <th>n_otherlink</th>\n",
       "      <th>video_title</th>\n",
       "      <th>emoticons</th>\n",
       "      <th>...</th>\n",
       "      <th>bracket_count</th>\n",
       "      <th>dots_count</th>\n",
       "      <th>n_char</th>\n",
       "      <th>n_word</th>\n",
       "      <th>mbti_ref_most</th>\n",
       "      <th>action</th>\n",
       "      <th>n_action</th>\n",
       "      <th>caps</th>\n",
       "      <th>n_caps</th>\n",
       "      <th>n_caps_char</th>\n",
       "    </tr>\n",
       "  </thead>\n",
       "  <tbody>\n",
       "    <tr>\n",
       "      <th>0</th>\n",
       "      <td>[, , enfp and intj moments sportscenter not to...</td>\n",
       "      <td>[http://41.media.tumblr.com/tumblr_lfouy03PMA1...</td>\n",
       "      <td>[http://www.youtube.com/watch?v=qsXHcwe3krw, h...</td>\n",
       "      <td>[]</td>\n",
       "      <td>17</td>\n",
       "      <td>24</td>\n",
       "      <td>7</td>\n",
       "      <td>0</td>\n",
       "      <td>[FLYING IN MY PJs - [Living In Alaska 256], EN...</td>\n",
       "      <td>[:cool:, :sad:, :proud:]</td>\n",
       "      <td>...</td>\n",
       "      <td>0</td>\n",
       "      <td>14</td>\n",
       "      <td>3242</td>\n",
       "      <td>581</td>\n",
       "      <td>ENFP</td>\n",
       "      <td>[]</td>\n",
       "      <td>0</td>\n",
       "      <td>[]</td>\n",
       "      <td>0</td>\n",
       "      <td>0</td>\n",
       "    </tr>\n",
       "    <tr>\n",
       "      <th>1</th>\n",
       "      <td>[I'm finding the lack of me in these posts ver...</td>\n",
       "      <td>[http://img188.imageshack.us/img188/6422/6020d...</td>\n",
       "      <td>[http://www.youtube.com/watch?v=j5W73HaVQBg]</td>\n",
       "      <td>[]</td>\n",
       "      <td>1</td>\n",
       "      <td>10</td>\n",
       "      <td>9</td>\n",
       "      <td>0</td>\n",
       "      <td>[Jermaine Dupri - Welcome To Atlanta ft. Ludac...</td>\n",
       "      <td>[]</td>\n",
       "      <td>...</td>\n",
       "      <td>0</td>\n",
       "      <td>19</td>\n",
       "      <td>6281</td>\n",
       "      <td>1210</td>\n",
       "      <td>ENTP</td>\n",
       "      <td>[*ENTP Grin*, *Checks list*]</td>\n",
       "      <td>2</td>\n",
       "      <td>[EXTJ, TBH, ANTP, MBP, EXFP]</td>\n",
       "      <td>5</td>\n",
       "      <td>18</td>\n",
       "    </tr>\n",
       "    <tr>\n",
       "      <th>2</th>\n",
       "      <td>[Good one _____, Of course, to which I say I k...</td>\n",
       "      <td>[]</td>\n",
       "      <td>[https://www.youtube.com/watch?v=fHiGbolFFGw, ...</td>\n",
       "      <td>[https://www.tumblr.com/blog/-alexxxandra-, ht...</td>\n",
       "      <td>3</td>\n",
       "      <td>5</td>\n",
       "      <td>0</td>\n",
       "      <td>2</td>\n",
       "      <td>[Radiohead - Paranoid Android, Океан Ельзи - С...</td>\n",
       "      <td>[]</td>\n",
       "      <td>...</td>\n",
       "      <td>0</td>\n",
       "      <td>13</td>\n",
       "      <td>4882</td>\n",
       "      <td>880</td>\n",
       "      <td>INTJ</td>\n",
       "      <td>[]</td>\n",
       "      <td>0</td>\n",
       "      <td>[GOOD]</td>\n",
       "      <td>1</td>\n",
       "      <td>4</td>\n",
       "    </tr>\n",
       "    <tr>\n",
       "      <th>3</th>\n",
       "      <td>[Dear INTP, I enjoyed our conversation the oth...</td>\n",
       "      <td>[]</td>\n",
       "      <td>[https://www.youtube.com/watch?v=uelHwf8o7_U, ...</td>\n",
       "      <td>[]</td>\n",
       "      <td>2</td>\n",
       "      <td>2</td>\n",
       "      <td>0</td>\n",
       "      <td>0</td>\n",
       "      <td>[Eminem - Love The Way You Lie ft. Rihanna, Ro...</td>\n",
       "      <td>[]</td>\n",
       "      <td>...</td>\n",
       "      <td>1</td>\n",
       "      <td>26</td>\n",
       "      <td>5997</td>\n",
       "      <td>1111</td>\n",
       "      <td>ESFJ</td>\n",
       "      <td>[]</td>\n",
       "      <td>0</td>\n",
       "      <td>[ALL, EDIT, WOW, BTI, BTI, WOW]</td>\n",
       "      <td>6</td>\n",
       "      <td>19</td>\n",
       "    </tr>\n",
       "    <tr>\n",
       "      <th>4</th>\n",
       "      <td>[You're fired., That's another silly misconcep...</td>\n",
       "      <td>[https://encrypted-tbn2.gstatic.com/images?q=t...</td>\n",
       "      <td>[https://www.youtube.com/watch?v=Xh0vA6_8mv8, ...</td>\n",
       "      <td>[]</td>\n",
       "      <td>3</td>\n",
       "      <td>6</td>\n",
       "      <td>3</td>\n",
       "      <td>0</td>\n",
       "      <td>[Yung Gud - Hello (Ft. Yemi), Verbatim: What I...</td>\n",
       "      <td>[:laughing:]</td>\n",
       "      <td>...</td>\n",
       "      <td>0</td>\n",
       "      <td>21</td>\n",
       "      <td>5560</td>\n",
       "      <td>1010</td>\n",
       "      <td>ENTJ</td>\n",
       "      <td>[]</td>\n",
       "      <td>0</td>\n",
       "      <td>[REALLY, DEAD, BTIPC, LOL, VODKA, REEEEEEAAALLLY]</td>\n",
       "      <td>6</td>\n",
       "      <td>37</td>\n",
       "    </tr>\n",
       "    <tr>\n",
       "      <th>5</th>\n",
       "      <td>[18/37 @.@, Science is not perfect. No scienti...</td>\n",
       "      <td>[]</td>\n",
       "      <td>[]</td>\n",
       "      <td>[http://phantomshine.blogspot.com/2012/05/writ...</td>\n",
       "      <td>0</td>\n",
       "      <td>1</td>\n",
       "      <td>0</td>\n",
       "      <td>1</td>\n",
       "      <td>[]</td>\n",
       "      <td>[]</td>\n",
       "      <td>...</td>\n",
       "      <td>0</td>\n",
       "      <td>34</td>\n",
       "      <td>8308</td>\n",
       "      <td>1539</td>\n",
       "      <td>INFP</td>\n",
       "      <td>[]</td>\n",
       "      <td>0</td>\n",
       "      <td>[]</td>\n",
       "      <td>0</td>\n",
       "      <td>0</td>\n",
       "    </tr>\n",
       "    <tr>\n",
       "      <th>6</th>\n",
       "      <td>[No, I can't draw on my own nails (haha). Thos...</td>\n",
       "      <td>[]</td>\n",
       "      <td>[https://www.youtube.com/watch?v=tuunqfdz388]</td>\n",
       "      <td>[https://thoughtcatalog.com/heidi-priebe/2015/...</td>\n",
       "      <td>1</td>\n",
       "      <td>2</td>\n",
       "      <td>0</td>\n",
       "      <td>1</td>\n",
       "      <td>[Kelly Clarkson - Piece By Piece (American Ido...</td>\n",
       "      <td>[:tongue:, :proud:, :tongue:, :crying:, :blush...</td>\n",
       "      <td>...</td>\n",
       "      <td>0</td>\n",
       "      <td>31</td>\n",
       "      <td>7570</td>\n",
       "      <td>1376</td>\n",
       "      <td>INFJ</td>\n",
       "      <td>[*Speaking from a bomb shelter*]</td>\n",
       "      <td>1</td>\n",
       "      <td>[POV, LOL, BBC, OMG, BTI, BTI, EVERY, BTI]</td>\n",
       "      <td>8</td>\n",
       "      <td>26</td>\n",
       "    </tr>\n",
       "    <tr>\n",
       "      <th>7</th>\n",
       "      <td>[I tend to build up a collection of things on ...</td>\n",
       "      <td>[]</td>\n",
       "      <td>[https://www.youtube.com/watch?v=e4dT8FJ2GE0]</td>\n",
       "      <td>[]</td>\n",
       "      <td>1</td>\n",
       "      <td>1</td>\n",
       "      <td>0</td>\n",
       "      <td>0</td>\n",
       "      <td>[Árstíðir - Heyr himna smiður (Icelandic hymn)...</td>\n",
       "      <td>[]</td>\n",
       "      <td>...</td>\n",
       "      <td>0</td>\n",
       "      <td>25</td>\n",
       "      <td>6668</td>\n",
       "      <td>1271</td>\n",
       "      <td>INTJ</td>\n",
       "      <td>[]</td>\n",
       "      <td>0</td>\n",
       "      <td>[BOA, HUGE]</td>\n",
       "      <td>2</td>\n",
       "      <td>7</td>\n",
       "    </tr>\n",
       "    <tr>\n",
       "      <th>8</th>\n",
       "      <td>['m not sure, that's a good question. The dist...</td>\n",
       "      <td>[http://i63.photobucket.com/albums/h158/trinsg...</td>\n",
       "      <td>[https://www.youtube.com/watch?v=r5If816MhoU, ...</td>\n",
       "      <td>[]</td>\n",
       "      <td>22</td>\n",
       "      <td>23</td>\n",
       "      <td>1</td>\n",
       "      <td>0</td>\n",
       "      <td>[Janis Joplin - Ball and Chain (sensational pe...</td>\n",
       "      <td>[]</td>\n",
       "      <td>...</td>\n",
       "      <td>0</td>\n",
       "      <td>17</td>\n",
       "      <td>4119</td>\n",
       "      <td>764</td>\n",
       "      <td>NA</td>\n",
       "      <td>[]</td>\n",
       "      <td>0</td>\n",
       "      <td>[OCD, WAY, LONG, AIC]</td>\n",
       "      <td>4</td>\n",
       "      <td>13</td>\n",
       "    </tr>\n",
       "    <tr>\n",
       "      <th>9</th>\n",
       "      <td>[, I'm in this position where I have to actual...</td>\n",
       "      <td>[]</td>\n",
       "      <td>[https://www.youtube.com/watch?v=w8-egj0y8Qs, ...</td>\n",
       "      <td>[]</td>\n",
       "      <td>7</td>\n",
       "      <td>7</td>\n",
       "      <td>0</td>\n",
       "      <td>0</td>\n",
       "      <td>[]</td>\n",
       "      <td>[:mellow:, :kitteh:]</td>\n",
       "      <td>...</td>\n",
       "      <td>0</td>\n",
       "      <td>24</td>\n",
       "      <td>7094</td>\n",
       "      <td>1275</td>\n",
       "      <td>INTP</td>\n",
       "      <td>[]</td>\n",
       "      <td>0</td>\n",
       "      <td>[WHAT, BTI]</td>\n",
       "      <td>2</td>\n",
       "      <td>7</td>\n",
       "    </tr>\n",
       "  </tbody>\n",
       "</table>\n",
       "<p>10 rows × 28 columns</p>\n",
       "</div>"
      ],
      "text/plain": [
       "                                          words_only  \\\n",
       "0  [, , enfp and intj moments sportscenter not to...   \n",
       "1  [I'm finding the lack of me in these posts ver...   \n",
       "2  [Good one _____, Of course, to which I say I k...   \n",
       "3  [Dear INTP, I enjoyed our conversation the oth...   \n",
       "4  [You're fired., That's another silly misconcep...   \n",
       "5  [18/37 @.@, Science is not perfect. No scienti...   \n",
       "6  [No, I can't draw on my own nails (haha). Thos...   \n",
       "7  [I tend to build up a collection of things on ...   \n",
       "8  ['m not sure, that's a good question. The dist...   \n",
       "9  [, I'm in this position where I have to actual...   \n",
       "\n",
       "                                               image  \\\n",
       "0  [http://41.media.tumblr.com/tumblr_lfouy03PMA1...   \n",
       "1  [http://img188.imageshack.us/img188/6422/6020d...   \n",
       "2                                                 []   \n",
       "3                                                 []   \n",
       "4  [https://encrypted-tbn2.gstatic.com/images?q=t...   \n",
       "5                                                 []   \n",
       "6                                                 []   \n",
       "7                                                 []   \n",
       "8  [http://i63.photobucket.com/albums/h158/trinsg...   \n",
       "9                                                 []   \n",
       "\n",
       "                                          video_link  \\\n",
       "0  [http://www.youtube.com/watch?v=qsXHcwe3krw, h...   \n",
       "1       [http://www.youtube.com/watch?v=j5W73HaVQBg]   \n",
       "2  [https://www.youtube.com/watch?v=fHiGbolFFGw, ...   \n",
       "3  [https://www.youtube.com/watch?v=uelHwf8o7_U, ...   \n",
       "4  [https://www.youtube.com/watch?v=Xh0vA6_8mv8, ...   \n",
       "5                                                 []   \n",
       "6      [https://www.youtube.com/watch?v=tuunqfdz388]   \n",
       "7      [https://www.youtube.com/watch?v=e4dT8FJ2GE0]   \n",
       "8  [https://www.youtube.com/watch?v=r5If816MhoU, ...   \n",
       "9  [https://www.youtube.com/watch?v=w8-egj0y8Qs, ...   \n",
       "\n",
       "                                           otherlink  n_video  n_links  \\\n",
       "0                                                 []       17       24   \n",
       "1                                                 []        1       10   \n",
       "2  [https://www.tumblr.com/blog/-alexxxandra-, ht...        3        5   \n",
       "3                                                 []        2        2   \n",
       "4                                                 []        3        6   \n",
       "5  [http://phantomshine.blogspot.com/2012/05/writ...        0        1   \n",
       "6  [https://thoughtcatalog.com/heidi-priebe/2015/...        1        2   \n",
       "7                                                 []        1        1   \n",
       "8                                                 []       22       23   \n",
       "9                                                 []        7        7   \n",
       "\n",
       "   n_image  n_otherlink                                        video_title  \\\n",
       "0        7            0  [FLYING IN MY PJs - [Living In Alaska 256], EN...   \n",
       "1        9            0  [Jermaine Dupri - Welcome To Atlanta ft. Ludac...   \n",
       "2        0            2  [Radiohead - Paranoid Android, Океан Ельзи - С...   \n",
       "3        0            0  [Eminem - Love The Way You Lie ft. Rihanna, Ro...   \n",
       "4        3            0  [Yung Gud - Hello (Ft. Yemi), Verbatim: What I...   \n",
       "5        0            1                                                 []   \n",
       "6        0            1  [Kelly Clarkson - Piece By Piece (American Ido...   \n",
       "7        0            0  [Árstíðir - Heyr himna smiður (Icelandic hymn)...   \n",
       "8        1            0  [Janis Joplin - Ball and Chain (sensational pe...   \n",
       "9        0            0                                                 []   \n",
       "\n",
       "                                           emoticons     ...       \\\n",
       "0                           [:cool:, :sad:, :proud:]     ...        \n",
       "1                                                 []     ...        \n",
       "2                                                 []     ...        \n",
       "3                                                 []     ...        \n",
       "4                                       [:laughing:]     ...        \n",
       "5                                                 []     ...        \n",
       "6  [:tongue:, :proud:, :tongue:, :crying:, :blush...     ...        \n",
       "7                                                 []     ...        \n",
       "8                                                 []     ...        \n",
       "9                               [:mellow:, :kitteh:]     ...        \n",
       "\n",
       "   bracket_count  dots_count n_char  n_word mbti_ref_most  \\\n",
       "0              0          14   3242     581          ENFP   \n",
       "1              0          19   6281    1210          ENTP   \n",
       "2              0          13   4882     880          INTJ   \n",
       "3              1          26   5997    1111          ESFJ   \n",
       "4              0          21   5560    1010          ENTJ   \n",
       "5              0          34   8308    1539          INFP   \n",
       "6              0          31   7570    1376          INFJ   \n",
       "7              0          25   6668    1271          INTJ   \n",
       "8              0          17   4119     764            NA   \n",
       "9              0          24   7094    1275          INTP   \n",
       "\n",
       "                             action n_action  \\\n",
       "0                                []        0   \n",
       "1      [*ENTP Grin*, *Checks list*]        2   \n",
       "2                                []        0   \n",
       "3                                []        0   \n",
       "4                                []        0   \n",
       "5                                []        0   \n",
       "6  [*Speaking from a bomb shelter*]        1   \n",
       "7                                []        0   \n",
       "8                                []        0   \n",
       "9                                []        0   \n",
       "\n",
       "                                                caps  n_caps  n_caps_char  \n",
       "0                                                 []       0            0  \n",
       "1                       [EXTJ, TBH, ANTP, MBP, EXFP]       5           18  \n",
       "2                                             [GOOD]       1            4  \n",
       "3                    [ALL, EDIT, WOW, BTI, BTI, WOW]       6           19  \n",
       "4  [REALLY, DEAD, BTIPC, LOL, VODKA, REEEEEEAAALLLY]       6           37  \n",
       "5                                                 []       0            0  \n",
       "6         [POV, LOL, BBC, OMG, BTI, BTI, EVERY, BTI]       8           26  \n",
       "7                                        [BOA, HUGE]       2            7  \n",
       "8                              [OCD, WAY, LONG, AIC]       4           13  \n",
       "9                                        [WHAT, BTI]       2            7  \n",
       "\n",
       "[10 rows x 28 columns]"
      ]
     },
     "execution_count": 211,
     "metadata": {},
     "output_type": "execute_result"
    }
   ],
   "source": [
    "mbtilist.head(10)"
   ]
  },
  {
   "cell_type": "code",
   "execution_count": 186,
   "metadata": {
    "collapsed": true,
    "jupyter": {
     "outputs_hidden": true
    }
   },
   "outputs": [],
   "source": [
    "#Remove the following: post_list, weblink, weblink1, mention, bracket\n",
    "mbtilist = mbtilist.drop(['post_list','weblink','weblink1','mention','bracket'], axis=1)"
   ]
  },
  {
   "cell_type": "code",
   "execution_count": 212,
   "metadata": {
    "collapsed": true,
    "jupyter": {
     "outputs_hidden": true
    }
   },
   "outputs": [],
   "source": [
    "mbtilist = mbtilist.drop(['action','caps'], axis=1)"
   ]
  },
  {
   "cell_type": "code",
   "execution_count": 213,
   "metadata": {
    "collapsed": true,
    "jupyter": {
     "outputs_hidden": true
    }
   },
   "outputs": [],
   "source": [
    "#Add in ratio, it will be interesting\n",
    "mbtilist['word_cap_ratio'] = mbtilist['n_caps'].astype(float) / mbtilist['n_word']\n",
    "mbtilist['char_cap_ratio'] = mbtilist['n_caps_char'].astype(float) / mbtilist['n_char']"
   ]
  },
  {
   "cell_type": "code",
   "execution_count": 214,
   "metadata": {},
   "outputs": [
    {
     "data": {
      "text/html": [
       "<div>\n",
       "<style>\n",
       "    .dataframe thead tr:only-child th {\n",
       "        text-align: right;\n",
       "    }\n",
       "\n",
       "    .dataframe thead th {\n",
       "        text-align: left;\n",
       "    }\n",
       "\n",
       "    .dataframe tbody tr th {\n",
       "        vertical-align: top;\n",
       "    }\n",
       "</style>\n",
       "<table border=\"1\" class=\"dataframe\">\n",
       "  <thead>\n",
       "    <tr style=\"text-align: right;\">\n",
       "      <th></th>\n",
       "      <th>words_only</th>\n",
       "      <th>image</th>\n",
       "      <th>video_link</th>\n",
       "      <th>otherlink</th>\n",
       "      <th>n_video</th>\n",
       "      <th>n_links</th>\n",
       "      <th>n_image</th>\n",
       "      <th>n_otherlink</th>\n",
       "      <th>video_title</th>\n",
       "      <th>emoticons</th>\n",
       "      <th>...</th>\n",
       "      <th>bracket_count</th>\n",
       "      <th>dots_count</th>\n",
       "      <th>n_char</th>\n",
       "      <th>n_word</th>\n",
       "      <th>mbti_ref_most</th>\n",
       "      <th>n_action</th>\n",
       "      <th>n_caps</th>\n",
       "      <th>n_caps_char</th>\n",
       "      <th>word_cap_ratio</th>\n",
       "      <th>char_cap_ratio</th>\n",
       "    </tr>\n",
       "  </thead>\n",
       "  <tbody>\n",
       "    <tr>\n",
       "      <th>0</th>\n",
       "      <td>[, , enfp and intj moments sportscenter not to...</td>\n",
       "      <td>[http://41.media.tumblr.com/tumblr_lfouy03PMA1...</td>\n",
       "      <td>[http://www.youtube.com/watch?v=qsXHcwe3krw, h...</td>\n",
       "      <td>[]</td>\n",
       "      <td>17</td>\n",
       "      <td>24</td>\n",
       "      <td>7</td>\n",
       "      <td>0</td>\n",
       "      <td>[FLYING IN MY PJs - [Living In Alaska 256], EN...</td>\n",
       "      <td>[:cool:, :sad:, :proud:]</td>\n",
       "      <td>...</td>\n",
       "      <td>0</td>\n",
       "      <td>14</td>\n",
       "      <td>3242</td>\n",
       "      <td>581</td>\n",
       "      <td>ENFP</td>\n",
       "      <td>0</td>\n",
       "      <td>0</td>\n",
       "      <td>0</td>\n",
       "      <td>0.000000</td>\n",
       "      <td>0.000000</td>\n",
       "    </tr>\n",
       "    <tr>\n",
       "      <th>1</th>\n",
       "      <td>[I'm finding the lack of me in these posts ver...</td>\n",
       "      <td>[http://img188.imageshack.us/img188/6422/6020d...</td>\n",
       "      <td>[http://www.youtube.com/watch?v=j5W73HaVQBg]</td>\n",
       "      <td>[]</td>\n",
       "      <td>1</td>\n",
       "      <td>10</td>\n",
       "      <td>9</td>\n",
       "      <td>0</td>\n",
       "      <td>[Jermaine Dupri - Welcome To Atlanta ft. Ludac...</td>\n",
       "      <td>[]</td>\n",
       "      <td>...</td>\n",
       "      <td>0</td>\n",
       "      <td>19</td>\n",
       "      <td>6281</td>\n",
       "      <td>1210</td>\n",
       "      <td>ENTP</td>\n",
       "      <td>2</td>\n",
       "      <td>5</td>\n",
       "      <td>18</td>\n",
       "      <td>0.004132</td>\n",
       "      <td>0.002866</td>\n",
       "    </tr>\n",
       "    <tr>\n",
       "      <th>2</th>\n",
       "      <td>[Good one _____, Of course, to which I say I k...</td>\n",
       "      <td>[]</td>\n",
       "      <td>[https://www.youtube.com/watch?v=fHiGbolFFGw, ...</td>\n",
       "      <td>[https://www.tumblr.com/blog/-alexxxandra-, ht...</td>\n",
       "      <td>3</td>\n",
       "      <td>5</td>\n",
       "      <td>0</td>\n",
       "      <td>2</td>\n",
       "      <td>[Radiohead - Paranoid Android, Океан Ельзи - С...</td>\n",
       "      <td>[]</td>\n",
       "      <td>...</td>\n",
       "      <td>0</td>\n",
       "      <td>13</td>\n",
       "      <td>4882</td>\n",
       "      <td>880</td>\n",
       "      <td>INTJ</td>\n",
       "      <td>0</td>\n",
       "      <td>1</td>\n",
       "      <td>4</td>\n",
       "      <td>0.001136</td>\n",
       "      <td>0.000819</td>\n",
       "    </tr>\n",
       "    <tr>\n",
       "      <th>3</th>\n",
       "      <td>[Dear INTP, I enjoyed our conversation the oth...</td>\n",
       "      <td>[]</td>\n",
       "      <td>[https://www.youtube.com/watch?v=uelHwf8o7_U, ...</td>\n",
       "      <td>[]</td>\n",
       "      <td>2</td>\n",
       "      <td>2</td>\n",
       "      <td>0</td>\n",
       "      <td>0</td>\n",
       "      <td>[Eminem - Love The Way You Lie ft. Rihanna, Ro...</td>\n",
       "      <td>[]</td>\n",
       "      <td>...</td>\n",
       "      <td>1</td>\n",
       "      <td>26</td>\n",
       "      <td>5997</td>\n",
       "      <td>1111</td>\n",
       "      <td>ESFJ</td>\n",
       "      <td>0</td>\n",
       "      <td>6</td>\n",
       "      <td>19</td>\n",
       "      <td>0.005401</td>\n",
       "      <td>0.003168</td>\n",
       "    </tr>\n",
       "    <tr>\n",
       "      <th>4</th>\n",
       "      <td>[You're fired., That's another silly misconcep...</td>\n",
       "      <td>[https://encrypted-tbn2.gstatic.com/images?q=t...</td>\n",
       "      <td>[https://www.youtube.com/watch?v=Xh0vA6_8mv8, ...</td>\n",
       "      <td>[]</td>\n",
       "      <td>3</td>\n",
       "      <td>6</td>\n",
       "      <td>3</td>\n",
       "      <td>0</td>\n",
       "      <td>[Yung Gud - Hello (Ft. Yemi), Verbatim: What I...</td>\n",
       "      <td>[:laughing:]</td>\n",
       "      <td>...</td>\n",
       "      <td>0</td>\n",
       "      <td>21</td>\n",
       "      <td>5560</td>\n",
       "      <td>1010</td>\n",
       "      <td>ENTJ</td>\n",
       "      <td>0</td>\n",
       "      <td>6</td>\n",
       "      <td>37</td>\n",
       "      <td>0.005941</td>\n",
       "      <td>0.006655</td>\n",
       "    </tr>\n",
       "  </tbody>\n",
       "</table>\n",
       "<p>5 rows × 28 columns</p>\n",
       "</div>"
      ],
      "text/plain": [
       "                                          words_only  \\\n",
       "0  [, , enfp and intj moments sportscenter not to...   \n",
       "1  [I'm finding the lack of me in these posts ver...   \n",
       "2  [Good one _____, Of course, to which I say I k...   \n",
       "3  [Dear INTP, I enjoyed our conversation the oth...   \n",
       "4  [You're fired., That's another silly misconcep...   \n",
       "\n",
       "                                               image  \\\n",
       "0  [http://41.media.tumblr.com/tumblr_lfouy03PMA1...   \n",
       "1  [http://img188.imageshack.us/img188/6422/6020d...   \n",
       "2                                                 []   \n",
       "3                                                 []   \n",
       "4  [https://encrypted-tbn2.gstatic.com/images?q=t...   \n",
       "\n",
       "                                          video_link  \\\n",
       "0  [http://www.youtube.com/watch?v=qsXHcwe3krw, h...   \n",
       "1       [http://www.youtube.com/watch?v=j5W73HaVQBg]   \n",
       "2  [https://www.youtube.com/watch?v=fHiGbolFFGw, ...   \n",
       "3  [https://www.youtube.com/watch?v=uelHwf8o7_U, ...   \n",
       "4  [https://www.youtube.com/watch?v=Xh0vA6_8mv8, ...   \n",
       "\n",
       "                                           otherlink  n_video  n_links  \\\n",
       "0                                                 []       17       24   \n",
       "1                                                 []        1       10   \n",
       "2  [https://www.tumblr.com/blog/-alexxxandra-, ht...        3        5   \n",
       "3                                                 []        2        2   \n",
       "4                                                 []        3        6   \n",
       "\n",
       "   n_image  n_otherlink                                        video_title  \\\n",
       "0        7            0  [FLYING IN MY PJs - [Living In Alaska 256], EN...   \n",
       "1        9            0  [Jermaine Dupri - Welcome To Atlanta ft. Ludac...   \n",
       "2        0            2  [Radiohead - Paranoid Android, Океан Ельзи - С...   \n",
       "3        0            0  [Eminem - Love The Way You Lie ft. Rihanna, Ro...   \n",
       "4        3            0  [Yung Gud - Hello (Ft. Yemi), Verbatim: What I...   \n",
       "\n",
       "                  emoticons       ...        bracket_count  dots_count n_char  \\\n",
       "0  [:cool:, :sad:, :proud:]       ...                    0          14   3242   \n",
       "1                        []       ...                    0          19   6281   \n",
       "2                        []       ...                    0          13   4882   \n",
       "3                        []       ...                    1          26   5997   \n",
       "4              [:laughing:]       ...                    0          21   5560   \n",
       "\n",
       "   n_word mbti_ref_most  n_action n_caps  n_caps_char  word_cap_ratio  \\\n",
       "0     581          ENFP         0      0            0        0.000000   \n",
       "1    1210          ENTP         2      5           18        0.004132   \n",
       "2     880          INTJ         0      1            4        0.001136   \n",
       "3    1111          ESFJ         0      6           19        0.005401   \n",
       "4    1010          ENTJ         0      6           37        0.005941   \n",
       "\n",
       "   char_cap_ratio  \n",
       "0        0.000000  \n",
       "1        0.002866  \n",
       "2        0.000819  \n",
       "3        0.003168  \n",
       "4        0.006655  \n",
       "\n",
       "[5 rows x 28 columns]"
      ]
     },
     "execution_count": 214,
     "metadata": {},
     "output_type": "execute_result"
    }
   ],
   "source": [
    "mbtilist.head()"
   ]
  },
  {
   "cell_type": "code",
   "execution_count": 215,
   "metadata": {},
   "outputs": [
    {
     "data": {
      "text/html": [
       "<div>\n",
       "<style>\n",
       "    .dataframe thead tr:only-child th {\n",
       "        text-align: right;\n",
       "    }\n",
       "\n",
       "    .dataframe thead th {\n",
       "        text-align: left;\n",
       "    }\n",
       "\n",
       "    .dataframe tbody tr th {\n",
       "        vertical-align: top;\n",
       "    }\n",
       "</style>\n",
       "<table border=\"1\" class=\"dataframe\">\n",
       "  <thead>\n",
       "    <tr style=\"text-align: right;\">\n",
       "      <th></th>\n",
       "      <th>type</th>\n",
       "      <th>words_only</th>\n",
       "      <th>image</th>\n",
       "      <th>video_link</th>\n",
       "      <th>otherlink</th>\n",
       "      <th>n_video</th>\n",
       "      <th>n_links</th>\n",
       "      <th>n_image</th>\n",
       "      <th>n_otherlink</th>\n",
       "      <th>video_title</th>\n",
       "      <th>...</th>\n",
       "      <th>bracket_count</th>\n",
       "      <th>dots_count</th>\n",
       "      <th>n_char</th>\n",
       "      <th>n_word</th>\n",
       "      <th>mbti_ref_most</th>\n",
       "      <th>n_action</th>\n",
       "      <th>n_caps</th>\n",
       "      <th>n_caps_char</th>\n",
       "      <th>word_cap_ratio</th>\n",
       "      <th>char_cap_ratio</th>\n",
       "    </tr>\n",
       "  </thead>\n",
       "  <tbody>\n",
       "    <tr>\n",
       "      <th>0</th>\n",
       "      <td>INFJ</td>\n",
       "      <td>[, , enfp and intj moments sportscenter not to...</td>\n",
       "      <td>[http://41.media.tumblr.com/tumblr_lfouy03PMA1...</td>\n",
       "      <td>[http://www.youtube.com/watch?v=qsXHcwe3krw, h...</td>\n",
       "      <td>[]</td>\n",
       "      <td>17</td>\n",
       "      <td>24</td>\n",
       "      <td>7</td>\n",
       "      <td>0</td>\n",
       "      <td>[FLYING IN MY PJs - [Living In Alaska 256], EN...</td>\n",
       "      <td>...</td>\n",
       "      <td>0</td>\n",
       "      <td>14</td>\n",
       "      <td>3242</td>\n",
       "      <td>581</td>\n",
       "      <td>ENFP</td>\n",
       "      <td>0</td>\n",
       "      <td>0</td>\n",
       "      <td>0</td>\n",
       "      <td>0.000000</td>\n",
       "      <td>0.000000</td>\n",
       "    </tr>\n",
       "    <tr>\n",
       "      <th>1</th>\n",
       "      <td>ENTP</td>\n",
       "      <td>[I'm finding the lack of me in these posts ver...</td>\n",
       "      <td>[http://img188.imageshack.us/img188/6422/6020d...</td>\n",
       "      <td>[http://www.youtube.com/watch?v=j5W73HaVQBg]</td>\n",
       "      <td>[]</td>\n",
       "      <td>1</td>\n",
       "      <td>10</td>\n",
       "      <td>9</td>\n",
       "      <td>0</td>\n",
       "      <td>[Jermaine Dupri - Welcome To Atlanta ft. Ludac...</td>\n",
       "      <td>...</td>\n",
       "      <td>0</td>\n",
       "      <td>19</td>\n",
       "      <td>6281</td>\n",
       "      <td>1210</td>\n",
       "      <td>ENTP</td>\n",
       "      <td>2</td>\n",
       "      <td>5</td>\n",
       "      <td>18</td>\n",
       "      <td>0.004132</td>\n",
       "      <td>0.002866</td>\n",
       "    </tr>\n",
       "    <tr>\n",
       "      <th>2</th>\n",
       "      <td>INTP</td>\n",
       "      <td>[Good one _____, Of course, to which I say I k...</td>\n",
       "      <td>[]</td>\n",
       "      <td>[https://www.youtube.com/watch?v=fHiGbolFFGw, ...</td>\n",
       "      <td>[https://www.tumblr.com/blog/-alexxxandra-, ht...</td>\n",
       "      <td>3</td>\n",
       "      <td>5</td>\n",
       "      <td>0</td>\n",
       "      <td>2</td>\n",
       "      <td>[Radiohead - Paranoid Android, Океан Ельзи - С...</td>\n",
       "      <td>...</td>\n",
       "      <td>0</td>\n",
       "      <td>13</td>\n",
       "      <td>4882</td>\n",
       "      <td>880</td>\n",
       "      <td>INTJ</td>\n",
       "      <td>0</td>\n",
       "      <td>1</td>\n",
       "      <td>4</td>\n",
       "      <td>0.001136</td>\n",
       "      <td>0.000819</td>\n",
       "    </tr>\n",
       "    <tr>\n",
       "      <th>3</th>\n",
       "      <td>INTJ</td>\n",
       "      <td>[Dear INTP, I enjoyed our conversation the oth...</td>\n",
       "      <td>[]</td>\n",
       "      <td>[https://www.youtube.com/watch?v=uelHwf8o7_U, ...</td>\n",
       "      <td>[]</td>\n",
       "      <td>2</td>\n",
       "      <td>2</td>\n",
       "      <td>0</td>\n",
       "      <td>0</td>\n",
       "      <td>[Eminem - Love The Way You Lie ft. Rihanna, Ro...</td>\n",
       "      <td>...</td>\n",
       "      <td>1</td>\n",
       "      <td>26</td>\n",
       "      <td>5997</td>\n",
       "      <td>1111</td>\n",
       "      <td>ESFJ</td>\n",
       "      <td>0</td>\n",
       "      <td>6</td>\n",
       "      <td>19</td>\n",
       "      <td>0.005401</td>\n",
       "      <td>0.003168</td>\n",
       "    </tr>\n",
       "    <tr>\n",
       "      <th>4</th>\n",
       "      <td>ENTJ</td>\n",
       "      <td>[You're fired., That's another silly misconcep...</td>\n",
       "      <td>[https://encrypted-tbn2.gstatic.com/images?q=t...</td>\n",
       "      <td>[https://www.youtube.com/watch?v=Xh0vA6_8mv8, ...</td>\n",
       "      <td>[]</td>\n",
       "      <td>3</td>\n",
       "      <td>6</td>\n",
       "      <td>3</td>\n",
       "      <td>0</td>\n",
       "      <td>[Yung Gud - Hello (Ft. Yemi), Verbatim: What I...</td>\n",
       "      <td>...</td>\n",
       "      <td>0</td>\n",
       "      <td>21</td>\n",
       "      <td>5560</td>\n",
       "      <td>1010</td>\n",
       "      <td>ENTJ</td>\n",
       "      <td>0</td>\n",
       "      <td>6</td>\n",
       "      <td>37</td>\n",
       "      <td>0.005941</td>\n",
       "      <td>0.006655</td>\n",
       "    </tr>\n",
       "  </tbody>\n",
       "</table>\n",
       "<p>5 rows × 29 columns</p>\n",
       "</div>"
      ],
      "text/plain": [
       "   type                                         words_only  \\\n",
       "0  INFJ  [, , enfp and intj moments sportscenter not to...   \n",
       "1  ENTP  [I'm finding the lack of me in these posts ver...   \n",
       "2  INTP  [Good one _____, Of course, to which I say I k...   \n",
       "3  INTJ  [Dear INTP, I enjoyed our conversation the oth...   \n",
       "4  ENTJ  [You're fired., That's another silly misconcep...   \n",
       "\n",
       "                                               image  \\\n",
       "0  [http://41.media.tumblr.com/tumblr_lfouy03PMA1...   \n",
       "1  [http://img188.imageshack.us/img188/6422/6020d...   \n",
       "2                                                 []   \n",
       "3                                                 []   \n",
       "4  [https://encrypted-tbn2.gstatic.com/images?q=t...   \n",
       "\n",
       "                                          video_link  \\\n",
       "0  [http://www.youtube.com/watch?v=qsXHcwe3krw, h...   \n",
       "1       [http://www.youtube.com/watch?v=j5W73HaVQBg]   \n",
       "2  [https://www.youtube.com/watch?v=fHiGbolFFGw, ...   \n",
       "3  [https://www.youtube.com/watch?v=uelHwf8o7_U, ...   \n",
       "4  [https://www.youtube.com/watch?v=Xh0vA6_8mv8, ...   \n",
       "\n",
       "                                           otherlink  n_video  n_links  \\\n",
       "0                                                 []       17       24   \n",
       "1                                                 []        1       10   \n",
       "2  [https://www.tumblr.com/blog/-alexxxandra-, ht...        3        5   \n",
       "3                                                 []        2        2   \n",
       "4                                                 []        3        6   \n",
       "\n",
       "   n_image  n_otherlink                                        video_title  \\\n",
       "0        7            0  [FLYING IN MY PJs - [Living In Alaska 256], EN...   \n",
       "1        9            0  [Jermaine Dupri - Welcome To Atlanta ft. Ludac...   \n",
       "2        0            2  [Radiohead - Paranoid Android, Океан Ельзи - С...   \n",
       "3        0            0  [Eminem - Love The Way You Lie ft. Rihanna, Ro...   \n",
       "4        3            0  [Yung Gud - Hello (Ft. Yemi), Verbatim: What I...   \n",
       "\n",
       "        ...       bracket_count  dots_count  n_char n_word  mbti_ref_most  \\\n",
       "0       ...                   0          14    3242    581           ENFP   \n",
       "1       ...                   0          19    6281   1210           ENTP   \n",
       "2       ...                   0          13    4882    880           INTJ   \n",
       "3       ...                   1          26    5997   1111           ESFJ   \n",
       "4       ...                   0          21    5560   1010           ENTJ   \n",
       "\n",
       "  n_action  n_caps n_caps_char  word_cap_ratio  char_cap_ratio  \n",
       "0        0       0           0        0.000000        0.000000  \n",
       "1        2       5          18        0.004132        0.002866  \n",
       "2        0       1           4        0.001136        0.000819  \n",
       "3        0       6          19        0.005401        0.003168  \n",
       "4        0       6          37        0.005941        0.006655  \n",
       "\n",
       "[5 rows x 29 columns]"
      ]
     },
     "execution_count": 215,
     "metadata": {},
     "output_type": "execute_result"
    }
   ],
   "source": [
    "#Sigh why did I separate the y and X so early\n",
    "#Lemme put them back\n",
    "mbti_ver1 = pd.concat([mbti['type'], mbtilist], axis=1)\n",
    "mbti_ver1.head()"
   ]
  },
  {
   "cell_type": "code",
   "execution_count": 216,
   "metadata": {
    "collapsed": true,
    "jupyter": {
     "outputs_hidden": true
    }
   },
   "outputs": [],
   "source": [
    "#Pickle time!\n",
    "\n",
    "mbti_ver1.to_pickle('mbti_ver1.pickle')"
   ]
  },
  {
   "cell_type": "code",
   "execution_count": null,
   "metadata": {
    "collapsed": true,
    "jupyter": {
     "outputs_hidden": true
    }
   },
   "outputs": [],
   "source": []
  },
  {
   "cell_type": "markdown",
   "metadata": {},
   "source": [
    "Future feature releases:\n",
    "\n",
    "- Type of videos\n",
    "- Type of image (eg. Dog, cat, meme etc)\n",
    "- Basic post analysis (No. words per post, no. words per sentence)\n",
    "- General sentiment analysis\n",
    "- English grade level (if I can find it!)\n",
    "- idk what else can I do pls help thank you guys"
   ]
  },
  {
   "cell_type": "code",
   "execution_count": 64,
   "metadata": {},
   "outputs": [
    {
     "name": "stdout",
     "output_type": "stream",
     "text": [
      "a\n"
     ]
    }
   ],
   "source": [
    "a = ['a','a','b','c','d','a','b']\n",
    "print max(a, key=a.count)"
   ]
  },
  {
   "cell_type": "markdown",
   "metadata": {},
   "source": [
    "#### Approach\n",
    "\n",
    "Classification of either:\n",
    "- All 16 types\n",
    "- Each of the 4 personality axes\n",
    "\n",
    "Use what kind of model yet idk but will need to try yupp"
   ]
  },
  {
   "cell_type": "markdown",
   "metadata": {},
   "source": [
    "## Ok enough on posts for now, how about the types?"
   ]
  },
  {
   "cell_type": "code",
   "execution_count": 3,
   "metadata": {
    "collapsed": true,
    "jupyter": {
     "outputs_hidden": true
    }
   },
   "outputs": [],
   "source": [
    "mbtitypes_all = mbti[['type']]"
   ]
  },
  {
   "cell_type": "code",
   "execution_count": 4,
   "metadata": {},
   "outputs": [
    {
     "data": {
      "text/html": [
       "<div>\n",
       "<style scoped>\n",
       "    .dataframe tbody tr th:only-of-type {\n",
       "        vertical-align: middle;\n",
       "    }\n",
       "\n",
       "    .dataframe tbody tr th {\n",
       "        vertical-align: top;\n",
       "    }\n",
       "\n",
       "    .dataframe thead th {\n",
       "        text-align: right;\n",
       "    }\n",
       "</style>\n",
       "<table border=\"1\" class=\"dataframe\">\n",
       "  <thead>\n",
       "    <tr style=\"text-align: right;\">\n",
       "      <th></th>\n",
       "      <th>type</th>\n",
       "    </tr>\n",
       "  </thead>\n",
       "  <tbody>\n",
       "    <tr>\n",
       "      <th>0</th>\n",
       "      <td>INFJ</td>\n",
       "    </tr>\n",
       "    <tr>\n",
       "      <th>1</th>\n",
       "      <td>ENTP</td>\n",
       "    </tr>\n",
       "    <tr>\n",
       "      <th>2</th>\n",
       "      <td>INTP</td>\n",
       "    </tr>\n",
       "    <tr>\n",
       "      <th>3</th>\n",
       "      <td>INTJ</td>\n",
       "    </tr>\n",
       "    <tr>\n",
       "      <th>4</th>\n",
       "      <td>ENTJ</td>\n",
       "    </tr>\n",
       "  </tbody>\n",
       "</table>\n",
       "</div>"
      ],
      "text/plain": [
       "   type\n",
       "0  INFJ\n",
       "1  ENTP\n",
       "2  INTP\n",
       "3  INTJ\n",
       "4  ENTJ"
      ]
     },
     "execution_count": 4,
     "metadata": {},
     "output_type": "execute_result"
    }
   ],
   "source": [
    "mbtitypes_all.head()"
   ]
  },
  {
   "cell_type": "code",
   "execution_count": 5,
   "metadata": {},
   "outputs": [
    {
     "data": {
      "text/plain": [
       "INFP    1832\n",
       "INFJ    1470\n",
       "INTP    1304\n",
       "INTJ    1091\n",
       "ENTP     685\n",
       "ENFP     675\n",
       "ISTP     337\n",
       "ISFP     271\n",
       "ENTJ     231\n",
       "ISTJ     205\n",
       "ENFJ     190\n",
       "ISFJ     166\n",
       "ESTP      89\n",
       "ESFP      48\n",
       "ESFJ      42\n",
       "ESTJ      39\n",
       "Name: type, dtype: int64"
      ]
     },
     "execution_count": 5,
     "metadata": {},
     "output_type": "execute_result"
    }
   ],
   "source": [
    "mbtitypes_all['type'].value_counts()"
   ]
  },
  {
   "cell_type": "code",
   "execution_count": 6,
   "metadata": {},
   "outputs": [
    {
     "data": {
      "text/plain": [
       "<Container object of 16 artists>"
      ]
     },
     "execution_count": 6,
     "metadata": {},
     "output_type": "execute_result"
    },
    {
     "data": {
      "image/png": "[encoded data removed]",
      "text/plain": [
       "<matplotlib.figure.Figure at 0xef29d68>"
      ]
     },
     "metadata": {
      "image/png": {
       "height": 353,
       "width": 709
      }
     },
     "output_type": "display_data"
    }
   ],
   "source": [
    "#Cast it here\n",
    "mbtitypes = mbtitypes_all['type'].value_counts()\n",
    "plt.figure(figsize=(12,6))\n",
    "plt.bar(mbtitypes.index, mbtitypes)"
   ]
  },
  {
   "cell_type": "code",
   "execution_count": 7,
   "metadata": {},
   "outputs": [
    {
     "data": {
      "text/html": [
       "<div>\n",
       "<style scoped>\n",
       "    .dataframe tbody tr th:only-of-type {\n",
       "        vertical-align: middle;\n",
       "    }\n",
       "\n",
       "    .dataframe tbody tr th {\n",
       "        vertical-align: top;\n",
       "    }\n",
       "\n",
       "    .dataframe thead th {\n",
       "        text-align: right;\n",
       "    }\n",
       "</style>\n",
       "<table border=\"1\" class=\"dataframe\">\n",
       "  <thead>\n",
       "    <tr style=\"text-align: right;\">\n",
       "      <th></th>\n",
       "      <th>percentage</th>\n",
       "    </tr>\n",
       "  </thead>\n",
       "  <tbody>\n",
       "    <tr>\n",
       "      <th>ISFJ</th>\n",
       "      <td>13.8</td>\n",
       "    </tr>\n",
       "    <tr>\n",
       "      <th>ESFJ</th>\n",
       "      <td>12.3</td>\n",
       "    </tr>\n",
       "    <tr>\n",
       "      <th>ISTJ</th>\n",
       "      <td>11.6</td>\n",
       "    </tr>\n",
       "    <tr>\n",
       "      <th>ISFP</th>\n",
       "      <td>8.8</td>\n",
       "    </tr>\n",
       "    <tr>\n",
       "      <th>ESTJ</th>\n",
       "      <td>8.7</td>\n",
       "    </tr>\n",
       "    <tr>\n",
       "      <th>ESFP</th>\n",
       "      <td>8.5</td>\n",
       "    </tr>\n",
       "    <tr>\n",
       "      <th>ENFP</th>\n",
       "      <td>8.1</td>\n",
       "    </tr>\n",
       "    <tr>\n",
       "      <th>ISTP</th>\n",
       "      <td>5.4</td>\n",
       "    </tr>\n",
       "    <tr>\n",
       "      <th>INFP</th>\n",
       "      <td>4.4</td>\n",
       "    </tr>\n",
       "    <tr>\n",
       "      <th>ESTP</th>\n",
       "      <td>4.3</td>\n",
       "    </tr>\n",
       "    <tr>\n",
       "      <th>INTP</th>\n",
       "      <td>3.3</td>\n",
       "    </tr>\n",
       "    <tr>\n",
       "      <th>ENTP</th>\n",
       "      <td>3.2</td>\n",
       "    </tr>\n",
       "    <tr>\n",
       "      <th>ENFJ</th>\n",
       "      <td>2.5</td>\n",
       "    </tr>\n",
       "    <tr>\n",
       "      <th>INTJ</th>\n",
       "      <td>2.1</td>\n",
       "    </tr>\n",
       "    <tr>\n",
       "      <th>ENTJ</th>\n",
       "      <td>1.8</td>\n",
       "    </tr>\n",
       "    <tr>\n",
       "      <th>INFJ</th>\n",
       "      <td>1.5</td>\n",
       "    </tr>\n",
       "  </tbody>\n",
       "</table>\n",
       "</div>"
      ],
      "text/plain": [
       "      percentage\n",
       "ISFJ        13.8\n",
       "ESFJ        12.3\n",
       "ISTJ        11.6\n",
       "ISFP         8.8\n",
       "ESTJ         8.7\n",
       "ESFP         8.5\n",
       "ENFP         8.1\n",
       "ISTP         5.4\n",
       "INFP         4.4\n",
       "ESTP         4.3\n",
       "INTP         3.3\n",
       "ENTP         3.2\n",
       "ENFJ         2.5\n",
       "INTJ         2.1\n",
       "ENTJ         1.8\n",
       "INFJ         1.5"
      ]
     },
     "execution_count": 7,
     "metadata": {},
     "output_type": "execute_result"
    }
   ],
   "source": [
    "#Representation compared to general population\n",
    "#Here's a dictionary. Good luck to me.\n",
    "#Source: https://www.careerplanner.com/MB2/TypeInPopulation.cfm\n",
    "\n",
    "mbtipopdict = {'ISFJ':13.8, 'ESFJ':12.3, 'ISTJ':11.6, 'ISFP':8.8, 'ESTJ':8.7,'ESFP':8.5,'ENFP':8.1,'ISTP':5.4,'INFP':4.4,\n",
    "              'ESTP':4.3,'INTP':3.3,'ENTP':3.2,'ENFJ':2.5,'INTJ':2.1,'ENTJ':1.8,'INFJ':1.5}\n",
    "mbtipopdf = pd.DataFrame(data=mbtipopdict.values(), index=mbtipopdict.keys(), columns=['percentage'])\n",
    "mbtipopdf.sort_values('percentage', ascending=False)"
   ]
  },
  {
   "cell_type": "code",
   "execution_count": 8,
   "metadata": {
    "collapsed": true,
    "jupyter": {
     "outputs_hidden": true
    }
   },
   "outputs": [],
   "source": [
    "mbtipopdf = mbtipopdf.join(mbtitypes)"
   ]
  },
  {
   "cell_type": "code",
   "execution_count": 9,
   "metadata": {},
   "outputs": [
    {
     "data": {
      "text/html": [
       "<div>\n",
       "<style scoped>\n",
       "    .dataframe tbody tr th:only-of-type {\n",
       "        vertical-align: middle;\n",
       "    }\n",
       "\n",
       "    .dataframe tbody tr th {\n",
       "        vertical-align: top;\n",
       "    }\n",
       "\n",
       "    .dataframe thead th {\n",
       "        text-align: right;\n",
       "    }\n",
       "</style>\n",
       "<table border=\"1\" class=\"dataframe\">\n",
       "  <thead>\n",
       "    <tr style=\"text-align: right;\">\n",
       "      <th></th>\n",
       "      <th>percentage</th>\n",
       "      <th>type</th>\n",
       "      <th>perc_scale</th>\n",
       "    </tr>\n",
       "  </thead>\n",
       "  <tbody>\n",
       "    <tr>\n",
       "      <th>ENFJ</th>\n",
       "      <td>2.5</td>\n",
       "      <td>190</td>\n",
       "      <td>215.0</td>\n",
       "    </tr>\n",
       "    <tr>\n",
       "      <th>ESFP</th>\n",
       "      <td>8.5</td>\n",
       "      <td>48</td>\n",
       "      <td>731.0</td>\n",
       "    </tr>\n",
       "    <tr>\n",
       "      <th>INFJ</th>\n",
       "      <td>1.5</td>\n",
       "      <td>1470</td>\n",
       "      <td>129.0</td>\n",
       "    </tr>\n",
       "    <tr>\n",
       "      <th>ISTJ</th>\n",
       "      <td>11.6</td>\n",
       "      <td>205</td>\n",
       "      <td>997.6</td>\n",
       "    </tr>\n",
       "    <tr>\n",
       "      <th>ENTJ</th>\n",
       "      <td>1.8</td>\n",
       "      <td>231</td>\n",
       "      <td>154.8</td>\n",
       "    </tr>\n",
       "  </tbody>\n",
       "</table>\n",
       "</div>"
      ],
      "text/plain": [
       "      percentage  type  perc_scale\n",
       "ENFJ         2.5   190       215.0\n",
       "ESFP         8.5    48       731.0\n",
       "INFJ         1.5  1470       129.0\n",
       "ISTJ        11.6   205       997.6\n",
       "ENTJ         1.8   231       154.8"
      ]
     },
     "execution_count": 9,
     "metadata": {},
     "output_type": "execute_result"
    }
   ],
   "source": [
    "mbtipopdf['perc_scale'] = mbtipopdf['percentage'] * (mbti.shape[0]/100)\n",
    "mbtipopdf.head()"
   ]
  },
  {
   "cell_type": "code",
   "execution_count": 10,
   "metadata": {
    "collapsed": true,
    "jupyter": {
     "outputs_hidden": true
    }
   },
   "outputs": [],
   "source": [
    "mbtipopdf = mbtipopdf.sort_values('type', ascending=False).reset_index()\n",
    "mbtipopdf.rename(columns={'index':'MBTI'}, inplace=True)"
   ]
  },
  {
   "cell_type": "code",
   "execution_count": 11,
   "metadata": {},
   "outputs": [
    {
     "data": {
      "text/html": [
       "<div>\n",
       "<style scoped>\n",
       "    .dataframe tbody tr th:only-of-type {\n",
       "        vertical-align: middle;\n",
       "    }\n",
       "\n",
       "    .dataframe tbody tr th {\n",
       "        vertical-align: top;\n",
       "    }\n",
       "\n",
       "    .dataframe thead th {\n",
       "        text-align: right;\n",
       "    }\n",
       "</style>\n",
       "<table border=\"1\" class=\"dataframe\">\n",
       "  <thead>\n",
       "    <tr style=\"text-align: right;\">\n",
       "      <th></th>\n",
       "      <th>MBTI</th>\n",
       "      <th>percentage</th>\n",
       "      <th>type</th>\n",
       "      <th>perc_scale</th>\n",
       "    </tr>\n",
       "  </thead>\n",
       "  <tbody>\n",
       "    <tr>\n",
       "      <th>0</th>\n",
       "      <td>INFP</td>\n",
       "      <td>4.4</td>\n",
       "      <td>1832</td>\n",
       "      <td>378.4</td>\n",
       "    </tr>\n",
       "    <tr>\n",
       "      <th>1</th>\n",
       "      <td>INFJ</td>\n",
       "      <td>1.5</td>\n",
       "      <td>1470</td>\n",
       "      <td>129.0</td>\n",
       "    </tr>\n",
       "    <tr>\n",
       "      <th>2</th>\n",
       "      <td>INTP</td>\n",
       "      <td>3.3</td>\n",
       "      <td>1304</td>\n",
       "      <td>283.8</td>\n",
       "    </tr>\n",
       "    <tr>\n",
       "      <th>3</th>\n",
       "      <td>INTJ</td>\n",
       "      <td>2.1</td>\n",
       "      <td>1091</td>\n",
       "      <td>180.6</td>\n",
       "    </tr>\n",
       "    <tr>\n",
       "      <th>4</th>\n",
       "      <td>ENTP</td>\n",
       "      <td>3.2</td>\n",
       "      <td>685</td>\n",
       "      <td>275.2</td>\n",
       "    </tr>\n",
       "    <tr>\n",
       "      <th>5</th>\n",
       "      <td>ENFP</td>\n",
       "      <td>8.1</td>\n",
       "      <td>675</td>\n",
       "      <td>696.6</td>\n",
       "    </tr>\n",
       "    <tr>\n",
       "      <th>6</th>\n",
       "      <td>ISTP</td>\n",
       "      <td>5.4</td>\n",
       "      <td>337</td>\n",
       "      <td>464.4</td>\n",
       "    </tr>\n",
       "    <tr>\n",
       "      <th>7</th>\n",
       "      <td>ISFP</td>\n",
       "      <td>8.8</td>\n",
       "      <td>271</td>\n",
       "      <td>756.8</td>\n",
       "    </tr>\n",
       "    <tr>\n",
       "      <th>8</th>\n",
       "      <td>ENTJ</td>\n",
       "      <td>1.8</td>\n",
       "      <td>231</td>\n",
       "      <td>154.8</td>\n",
       "    </tr>\n",
       "    <tr>\n",
       "      <th>9</th>\n",
       "      <td>ISTJ</td>\n",
       "      <td>11.6</td>\n",
       "      <td>205</td>\n",
       "      <td>997.6</td>\n",
       "    </tr>\n",
       "    <tr>\n",
       "      <th>10</th>\n",
       "      <td>ENFJ</td>\n",
       "      <td>2.5</td>\n",
       "      <td>190</td>\n",
       "      <td>215.0</td>\n",
       "    </tr>\n",
       "    <tr>\n",
       "      <th>11</th>\n",
       "      <td>ISFJ</td>\n",
       "      <td>13.8</td>\n",
       "      <td>166</td>\n",
       "      <td>1186.8</td>\n",
       "    </tr>\n",
       "    <tr>\n",
       "      <th>12</th>\n",
       "      <td>ESTP</td>\n",
       "      <td>4.3</td>\n",
       "      <td>89</td>\n",
       "      <td>369.8</td>\n",
       "    </tr>\n",
       "    <tr>\n",
       "      <th>13</th>\n",
       "      <td>ESFP</td>\n",
       "      <td>8.5</td>\n",
       "      <td>48</td>\n",
       "      <td>731.0</td>\n",
       "    </tr>\n",
       "    <tr>\n",
       "      <th>14</th>\n",
       "      <td>ESFJ</td>\n",
       "      <td>12.3</td>\n",
       "      <td>42</td>\n",
       "      <td>1057.8</td>\n",
       "    </tr>\n",
       "    <tr>\n",
       "      <th>15</th>\n",
       "      <td>ESTJ</td>\n",
       "      <td>8.7</td>\n",
       "      <td>39</td>\n",
       "      <td>748.2</td>\n",
       "    </tr>\n",
       "  </tbody>\n",
       "</table>\n",
       "</div>"
      ],
      "text/plain": [
       "    MBTI  percentage  type  perc_scale\n",
       "0   INFP         4.4  1832       378.4\n",
       "1   INFJ         1.5  1470       129.0\n",
       "2   INTP         3.3  1304       283.8\n",
       "3   INTJ         2.1  1091       180.6\n",
       "4   ENTP         3.2   685       275.2\n",
       "5   ENFP         8.1   675       696.6\n",
       "6   ISTP         5.4   337       464.4\n",
       "7   ISFP         8.8   271       756.8\n",
       "8   ENTJ         1.8   231       154.8\n",
       "9   ISTJ        11.6   205       997.6\n",
       "10  ENFJ         2.5   190       215.0\n",
       "11  ISFJ        13.8   166      1186.8\n",
       "12  ESTP         4.3    89       369.8\n",
       "13  ESFP         8.5    48       731.0\n",
       "14  ESFJ        12.3    42      1057.8\n",
       "15  ESTJ         8.7    39       748.2"
      ]
     },
     "execution_count": 11,
     "metadata": {},
     "output_type": "execute_result"
    }
   ],
   "source": [
    "mbtipopdf"
   ]
  },
  {
   "cell_type": "code",
   "execution_count": 12,
   "metadata": {},
   "outputs": [
    {
     "data": {
      "text/plain": [
       "[Text(0,0,u'INFP'),\n",
       " Text(0,0,u'INFJ'),\n",
       " Text(0,0,u'INTP'),\n",
       " Text(0,0,u'INTJ'),\n",
       " Text(0,0,u'ENTP'),\n",
       " Text(0,0,u'ENFP'),\n",
       " Text(0,0,u'ISTP'),\n",
       " Text(0,0,u'ISFP'),\n",
       " Text(0,0,u'ENTJ'),\n",
       " Text(0,0,u'ISTJ'),\n",
       " Text(0,0,u'ENFJ'),\n",
       " Text(0,0,u'ISFJ'),\n",
       " Text(0,0,u'ESTP'),\n",
       " Text(0,0,u'ESFP'),\n",
       " Text(0,0,u'ESFJ'),\n",
       " Text(0,0,u'ESTJ')]"
      ]
     },
     "execution_count": 12,
     "metadata": {},
     "output_type": "execute_result"
    },
    {
     "data": {
      "image/png": "[encoded data removed]",
      "text/plain": [
       "<matplotlib.figure.Figure at 0x198370b8>"
      ]
     },
     "metadata": {
      "image/png": {
       "height": 382,
       "width": 709
      }
     },
     "output_type": "display_data"
    }
   ],
   "source": [
    "plt.figure(figsize=(12,6))\n",
    "plt.bar(mbtipopdf.index, mbtipopdf['type'], color='yellow')\n",
    "plt.bar(mbtipopdf.index, mbtipopdf['perc_scale'], color='red', alpha=0.3)\n",
    "plt.xlabel('MBTI')\n",
    "plt.title('Proportion of MBTI types in forum in comparison to general population representation')\n",
    "ax = plt.gca() # grab the current axis\n",
    "ax.set_xticks(mbtipopdf.index) # choose which x locations to have ticks\n",
    "ax.set_xticklabels(mbtipopdf['MBTI']) # set the labels to display at those ticks"
   ]
  },
  {
   "cell_type": "markdown",
   "metadata": {},
   "source": [
    "Time to unleash imblearn!"
   ]
  },
  {
   "cell_type": "code",
   "execution_count": null,
   "metadata": {
    "collapsed": true,
    "jupyter": {
     "outputs_hidden": true
    }
   },
   "outputs": [],
   "source": []
  },
  {
   "cell_type": "markdown",
   "metadata": {},
   "source": [
    "View each type individually"
   ]
  },
  {
   "cell_type": "code",
   "execution_count": 16,
   "metadata": {},
   "outputs": [
    {
     "data": {
      "text/html": [
       "<div>\n",
       "<style scoped>\n",
       "    .dataframe tbody tr th:only-of-type {\n",
       "        vertical-align: middle;\n",
       "    }\n",
       "\n",
       "    .dataframe tbody tr th {\n",
       "        vertical-align: top;\n",
       "    }\n",
       "\n",
       "    .dataframe thead th {\n",
       "        text-align: right;\n",
       "    }\n",
       "</style>\n",
       "<table border=\"1\" class=\"dataframe\">\n",
       "  <thead>\n",
       "    <tr style=\"text-align: right;\">\n",
       "      <th></th>\n",
       "      <th>type</th>\n",
       "      <th>is_E</th>\n",
       "      <th>is_S</th>\n",
       "      <th>is_T</th>\n",
       "      <th>is_J</th>\n",
       "    </tr>\n",
       "  </thead>\n",
       "  <tbody>\n",
       "    <tr>\n",
       "      <th>0</th>\n",
       "      <td>INFJ</td>\n",
       "      <td>0</td>\n",
       "      <td>0</td>\n",
       "      <td>0</td>\n",
       "      <td>1</td>\n",
       "    </tr>\n",
       "    <tr>\n",
       "      <th>1</th>\n",
       "      <td>ENTP</td>\n",
       "      <td>1</td>\n",
       "      <td>0</td>\n",
       "      <td>1</td>\n",
       "      <td>0</td>\n",
       "    </tr>\n",
       "    <tr>\n",
       "      <th>2</th>\n",
       "      <td>INTP</td>\n",
       "      <td>0</td>\n",
       "      <td>0</td>\n",
       "      <td>1</td>\n",
       "      <td>0</td>\n",
       "    </tr>\n",
       "    <tr>\n",
       "      <th>3</th>\n",
       "      <td>INTJ</td>\n",
       "      <td>0</td>\n",
       "      <td>0</td>\n",
       "      <td>1</td>\n",
       "      <td>1</td>\n",
       "    </tr>\n",
       "    <tr>\n",
       "      <th>4</th>\n",
       "      <td>ENTJ</td>\n",
       "      <td>1</td>\n",
       "      <td>0</td>\n",
       "      <td>1</td>\n",
       "      <td>1</td>\n",
       "    </tr>\n",
       "  </tbody>\n",
       "</table>\n",
       "</div>"
      ],
      "text/plain": [
       "   type  is_E  is_S  is_T  is_J\n",
       "0  INFJ     0     0     0     1\n",
       "1  ENTP     1     0     1     0\n",
       "2  INTP     0     0     1     0\n",
       "3  INTJ     0     0     1     1\n",
       "4  ENTJ     1     0     1     1"
      ]
     },
     "execution_count": 16,
     "metadata": {},
     "output_type": "execute_result"
    }
   ],
   "source": [
    "mbtitypes_all['is_E'] = mbtitypes_all['type'].apply(lambda x: 1 if x[0] == 'E' else 0)\n",
    "mbtitypes_all['is_S'] = mbtitypes_all['type'].apply(lambda x: 1 if x[1] == 'S' else 0)\n",
    "mbtitypes_all['is_T'] = mbtitypes_all['type'].apply(lambda x: 1 if x[2] == 'T' else 0)\n",
    "mbtitypes_all['is_J'] = mbtitypes_all['type'].apply(lambda x: 1 if x[3] == 'J' else 0)\n",
    "mbtitypes_all.columns = ['type','is_E','is_S','is_T','is_J']\n",
    "mbtitypes_all.head()"
   ]
  },
  {
   "cell_type": "code",
   "execution_count": 21,
   "metadata": {},
   "outputs": [
    {
     "data": {
      "text/plain": [
       "is_E    1999\n",
       "is_S    1197\n",
       "is_T    3981\n",
       "is_J    3434\n",
       "dtype: int64"
      ]
     },
     "execution_count": 21,
     "metadata": {},
     "output_type": "execute_result"
    }
   ],
   "source": [
    "ESTJstat = mbtitypes_all.iloc[:,1:].apply(np.sum, axis=0)\n",
    "ESTJstat"
   ]
  },
  {
   "cell_type": "code",
   "execution_count": 25,
   "metadata": {},
   "outputs": [
    {
     "data": {
      "text/plain": [
       "([<matplotlib.patches.Wedge at 0x1646ccc0>,\n",
       "  <matplotlib.patches.Wedge at 0x1647c1d0>],\n",
       " [Text(0.353528,1.04164,u'J: 39%'), Text(-0.353528,-1.04164,u'P: 60%')])"
      ]
     },
     "execution_count": 25,
     "metadata": {},
     "output_type": "execute_result"
    },
    {
     "data": {
      "image/png": "[encoded data removed]",
      "text/plain": [
       "<matplotlib.figure.Figure at 0x19bbf438>"
      ]
     },
     "metadata": {
      "image/png": {
       "height": 340,
       "width": 368
      }
     },
     "output_type": "display_data"
    }
   ],
   "source": [
    "def labie(ind, lab):\n",
    "    totalno = mbti.shape[0]\n",
    "    newlab = []\n",
    "    one = ESTJstat[ind]\n",
    "    two = totalno - one\n",
    "    newlab.append(lab[0]+\": \"+str(int((one/float(totalno))*100))+'%')\n",
    "    newlab.append(lab[1]+\": \"+str(int((two/float(totalno))*100))+'%')\n",
    "    return newlab\n",
    "    \n",
    "ESTJstat[0]\n",
    "plt.figure(figsize=(6,6))\n",
    "plt.subplot(221)\n",
    "plt.pie([ESTJstat[0], totalno-ESTJstat[0]], labels=labie(0,['E','I']))\n",
    "plt.subplot(222)\n",
    "plt.pie([ESTJstat[1], totalno-ESTJstat[1]], labels=labie(1,['S','N']))\n",
    "plt.subplot(223)\n",
    "plt.pie([ESTJstat[2], totalno-ESTJstat[2]], labels=labie(2,['T','F']))\n",
    "plt.subplot(224)\n",
    "plt.pie([ESTJstat[3], totalno-ESTJstat[3]], labels=labie(3,['J','P']))"
   ]
  },
  {
   "cell_type": "code",
   "execution_count": 30,
   "metadata": {},
   "outputs": [
    {
     "data": {
      "text/plain": [
       "<matplotlib.axes._subplots.AxesSubplot at 0x196b3080>"
      ]
     },
     "execution_count": 30,
     "metadata": {},
     "output_type": "execute_result"
    },
    {
     "data": {
      "image/png": "[encoded data removed]",
      "text/plain": [
       "<matplotlib.figure.Figure at 0x197d6a58>"
      ]
     },
     "metadata": {
      "image/png": {
       "height": 248,
       "width": 340
      }
     },
     "output_type": "display_data"
    }
   ],
   "source": [
    "sns.heatmap(mbtitypes_all[['is_E','is_S','is_T','is_J']].corr(), annot=True)"
   ]
  },
  {
   "cell_type": "code",
   "execution_count": 42,
   "metadata": {},
   "outputs": [],
   "source": [
    "#Do ttest\n",
    "dfag = pd.DataFrame(columns=['a','b','p-value'\n",
    "for a in ['is_E','is_S','is_T','is_J']:\n",
    "    for b in ['is_E','is_S','is_T','is_J']:\n",
    "        tstat, pval = stats.ttest_rel(mbtitypes_all[a], mbtitypes_all[b])\n",
    "        if a == b:\n",
    "            continue\n",
    "        dfag = dfag.append({'a':a,'b':b,'p-value':pval}, ignore_index=True)\n"
   ]
  },
  {
   "cell_type": "code",
   "execution_count": 43,
   "metadata": {},
   "outputs": [
    {
     "data": {
      "text/html": [
       "<div>\n",
       "<style>\n",
       "    .dataframe thead tr:only-child th {\n",
       "        text-align: right;\n",
       "    }\n",
       "\n",
       "    .dataframe thead th {\n",
       "        text-align: left;\n",
       "    }\n",
       "\n",
       "    .dataframe tbody tr th {\n",
       "        vertical-align: top;\n",
       "    }\n",
       "</style>\n",
       "<table border=\"1\" class=\"dataframe\">\n",
       "  <thead>\n",
       "    <tr style=\"text-align: right;\">\n",
       "      <th></th>\n",
       "      <th>a</th>\n",
       "      <th>b</th>\n",
       "      <th>p-value</th>\n",
       "    </tr>\n",
       "  </thead>\n",
       "  <tbody>\n",
       "    <tr>\n",
       "      <th>0</th>\n",
       "      <td>is_E</td>\n",
       "      <td>is_S</td>\n",
       "      <td>2.661569e-53</td>\n",
       "    </tr>\n",
       "    <tr>\n",
       "      <th>1</th>\n",
       "      <td>is_E</td>\n",
       "      <td>is_T</td>\n",
       "      <td>2.617815e-235</td>\n",
       "    </tr>\n",
       "    <tr>\n",
       "      <th>2</th>\n",
       "      <td>is_E</td>\n",
       "      <td>is_J</td>\n",
       "      <td>6.491791e-106</td>\n",
       "    </tr>\n",
       "    <tr>\n",
       "      <th>3</th>\n",
       "      <td>is_S</td>\n",
       "      <td>is_E</td>\n",
       "      <td>2.661569e-53</td>\n",
       "    </tr>\n",
       "    <tr>\n",
       "      <th>4</th>\n",
       "      <td>is_S</td>\n",
       "      <td>is_T</td>\n",
       "      <td>0.000000e+00</td>\n",
       "    </tr>\n",
       "    <tr>\n",
       "      <th>5</th>\n",
       "      <td>is_S</td>\n",
       "      <td>is_J</td>\n",
       "      <td>0.000000e+00</td>\n",
       "    </tr>\n",
       "    <tr>\n",
       "      <th>6</th>\n",
       "      <td>is_T</td>\n",
       "      <td>is_E</td>\n",
       "      <td>2.617815e-235</td>\n",
       "    </tr>\n",
       "    <tr>\n",
       "      <th>7</th>\n",
       "      <td>is_T</td>\n",
       "      <td>is_S</td>\n",
       "      <td>0.000000e+00</td>\n",
       "    </tr>\n",
       "    <tr>\n",
       "      <th>8</th>\n",
       "      <td>is_T</td>\n",
       "      <td>is_J</td>\n",
       "      <td>5.551196e-17</td>\n",
       "    </tr>\n",
       "    <tr>\n",
       "      <th>9</th>\n",
       "      <td>is_J</td>\n",
       "      <td>is_E</td>\n",
       "      <td>6.491791e-106</td>\n",
       "    </tr>\n",
       "    <tr>\n",
       "      <th>10</th>\n",
       "      <td>is_J</td>\n",
       "      <td>is_S</td>\n",
       "      <td>0.000000e+00</td>\n",
       "    </tr>\n",
       "    <tr>\n",
       "      <th>11</th>\n",
       "      <td>is_J</td>\n",
       "      <td>is_T</td>\n",
       "      <td>5.551196e-17</td>\n",
       "    </tr>\n",
       "  </tbody>\n",
       "</table>\n",
       "</div>"
      ],
      "text/plain": [
       "       a     b        p-value\n",
       "0   is_E  is_S   2.661569e-53\n",
       "1   is_E  is_T  2.617815e-235\n",
       "2   is_E  is_J  6.491791e-106\n",
       "3   is_S  is_E   2.661569e-53\n",
       "4   is_S  is_T   0.000000e+00\n",
       "5   is_S  is_J   0.000000e+00\n",
       "6   is_T  is_E  2.617815e-235\n",
       "7   is_T  is_S   0.000000e+00\n",
       "8   is_T  is_J   5.551196e-17\n",
       "9   is_J  is_E  6.491791e-106\n",
       "10  is_J  is_S   0.000000e+00\n",
       "11  is_J  is_T   5.551196e-17"
      ]
     },
     "execution_count": 43,
     "metadata": {},
     "output_type": "execute_result"
    }
   ],
   "source": [
    "dfag"
   ]
  }
 ],
 "metadata": {
  "kernelspec": {
   "display_name": "Python 3",
   "language": "python",
   "name": "python3"
  },
  "language_info": {
   "codemirror_mode": {
    "name": "ipython",
    "version": 3
   },
   "file_extension": ".py",
   "mimetype": "text/x-python",
   "name": "python",
   "nbconvert_exporter": "python",
   "pygments_lexer": "ipython3",
   "version": "3.7.4"
  }
 },
 "nbformat": 4,
 "nbformat_minor": 4
}
