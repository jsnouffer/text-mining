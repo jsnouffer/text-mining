{
 "cells": [
  {
   "cell_type": "code",
   "execution_count": 44,
   "metadata": {},
   "outputs": [],
   "source": [
    "%run imported_MBTI.py"
   ]
  },
  {
   "cell_type": "code",
   "execution_count": 45,
   "metadata": {},
   "outputs": [],
   "source": [
    "import pandas as pd\n",
    "import numpy as np\n",
    "import re\n",
    "import nltk\n",
    "from nltk.tokenize import word_tokenize\n",
    "import pickle"
   ]
  },
  {
   "cell_type": "code",
   "execution_count": 46,
   "metadata": {},
   "outputs": [
    {
     "name": "stdout",
     "output_type": "stream",
     "text": [
      "loading E\n",
      "loading S\n",
      "loading T\n",
      "loading J\n",
      "CPU times: user 26 s, sys: 3.63 s, total: 29.6 s\n",
      "Wall time: 29.6 s\n"
     ]
    }
   ],
   "source": [
    "%%time\n",
    "\n",
    "print(\"loading E\")\n",
    "with open(\"/mnt/volume_nyc3_01/models/E.p\", \"rb\") as file:\n",
    "    E = pickle.load(file)\n",
    "print(\"loading S\")\n",
    "with open(\"/mnt/volume_nyc3_01/models/S.p\", \"rb\") as file:\n",
    "    S = pickle.load(file)\n",
    "print(\"loading T\")\n",
    "with open(\"/mnt/volume_nyc3_01/models/T.p\", \"rb\") as file:\n",
    "    T = pickle.load(file)\n",
    "print(\"loading J\")\n",
    "with open(\"/mnt/volume_nyc3_01/models/J.p\", \"rb\") as file:\n",
    "    J = pickle.load(file)"
   ]
  },
  {
   "cell_type": "code",
   "execution_count": 81,
   "metadata": {},
   "outputs": [],
   "source": [
    "def more_magic(classifier):\n",
    "    typerogy = lambda x, y: y[1] if x[0]==[1] else y[0]\n",
    "    mpred = []\n",
    "    mpred_prob = []\n",
    "    mpred.append(typerogy(classifier.perform_magic(E), ['Introvert','Extrovert']))\n",
    "    mpred.append(typerogy(classifier.perform_magic(S), ['Intuitive','Sensing']))\n",
    "    mpred.append(typerogy(classifier.perform_magic(T), ['Feeling','Thinking']))\n",
    "    mpred.append(typerogy(classifier.perform_magic(J), ['Perceiving','Judging']))\n",
    "    for m in [E, S, T, J]:\n",
    "        mpred_prob.append(classifier.perform_more_magic(m))\n",
    "    tadaa = pd.DataFrame()\n",
    "    tadaa['Type'] = mpred\n",
    "    tadaa['Probability'] = mpred_prob\n",
    "    return tadaa"
   ]
  },
  {
   "cell_type": "code",
   "execution_count": 87,
   "metadata": {},
   "outputs": [],
   "source": [
    "classifier = Classifier()"
   ]
  },
  {
   "cell_type": "code",
   "execution_count": 88,
   "metadata": {},
   "outputs": [],
   "source": [
    "entry = 'How is everybody doing? DOes anyone want to hook up at my place tonight?'\n",
    "classifier.preprocess(entry, web=False)\n",
    "entry = 'You are so stupid and this does not make sense'\n",
    "classifier.preprocess(entry, web=False)"
   ]
  },
  {
   "cell_type": "code",
   "execution_count": 89,
   "metadata": {},
   "outputs": [
    {
     "data": {
      "text/html": [
       "<div>\n",
       "<style scoped>\n",
       "    .dataframe tbody tr th:only-of-type {\n",
       "        vertical-align: middle;\n",
       "    }\n",
       "\n",
       "    .dataframe tbody tr th {\n",
       "        vertical-align: top;\n",
       "    }\n",
       "\n",
       "    .dataframe thead th {\n",
       "        text-align: right;\n",
       "    }\n",
       "</style>\n",
       "<table border=\"1\" class=\"dataframe\">\n",
       "  <thead>\n",
       "    <tr style=\"text-align: right;\">\n",
       "      <th></th>\n",
       "      <th>Type</th>\n",
       "      <th>Probability</th>\n",
       "    </tr>\n",
       "  </thead>\n",
       "  <tbody>\n",
       "    <tr>\n",
       "      <td>0</td>\n",
       "      <td>Extrovert</td>\n",
       "      <td>[0.9995759193097007]</td>\n",
       "    </tr>\n",
       "    <tr>\n",
       "      <td>1</td>\n",
       "      <td>Sensing</td>\n",
       "      <td>[0.7685052249409123]</td>\n",
       "    </tr>\n",
       "    <tr>\n",
       "      <td>2</td>\n",
       "      <td>Thinking</td>\n",
       "      <td>[0.7483120781046518]</td>\n",
       "    </tr>\n",
       "    <tr>\n",
       "      <td>3</td>\n",
       "      <td>Perceiving</td>\n",
       "      <td>[0.5332887499101049]</td>\n",
       "    </tr>\n",
       "  </tbody>\n",
       "</table>\n",
       "</div>"
      ],
      "text/plain": [
       "         Type           Probability\n",
       "0   Extrovert  [0.9995759193097007]\n",
       "1     Sensing  [0.7685052249409123]\n",
       "2    Thinking  [0.7483120781046518]\n",
       "3  Perceiving  [0.5332887499101049]"
      ]
     },
     "execution_count": 89,
     "metadata": {},
     "output_type": "execute_result"
    }
   ],
   "source": [
    "more_magic(classifier)"
   ]
  }
 ],
 "metadata": {
  "kernelspec": {
   "display_name": "Python 3",
   "language": "python",
   "name": "python3"
  },
  "language_info": {
   "codemirror_mode": {
    "name": "ipython",
    "version": 3
   },
   "file_extension": ".py",
   "mimetype": "text/x-python",
   "name": "python",
   "nbconvert_exporter": "python",
   "pygments_lexer": "ipython3",
   "version": "3.7.4"
  }
 },
 "nbformat": 4,
 "nbformat_minor": 4
}
