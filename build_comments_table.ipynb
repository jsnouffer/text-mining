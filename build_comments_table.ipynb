{
 "cells": [
  {
   "cell_type": "code",
   "execution_count": 2,
   "metadata": {},
   "outputs": [],
   "source": [
    "import praw\n",
    "from elasticsearch import Elasticsearch\n",
    "from datetime import datetime\n",
    "from elasticsearch import helpers\n",
    "scan = helpers.scan\n"
   ]
  },
  {
   "cell_type": "markdown",
   "metadata": {},
   "source": [
    "## Setup Reddit API and ElasticSearch Connection"
   ]
  },
  {
   "cell_type": "code",
   "execution_count": 3,
   "metadata": {},
   "outputs": [
    {
     "name": "stdout",
     "output_type": "stream",
     "text": [
      "https://www.reddit.com/api/v1/authorize?client_id=Cz8OU1vxajnWDw&duration=permanent&redirect_uri=http%3A%2F%2Flocalhost%3A8080&response_type=code&scope=identity&state=...\n"
     ]
    },
    {
     "data": {
      "text/plain": [
       "<Elasticsearch([{'host': 'localhost', 'port': 9200}])>"
      ]
     },
     "execution_count": 3,
     "metadata": {},
     "output_type": "execute_result"
    }
   ],
   "source": [
    "reddit = praw.Reddit(client_id='Cz8OU1vxajnWDw',\n",
    "                     client_secret='5qax29ZPI2_Rdjc1TsXXEypFduk',\n",
    "                     redirect_uri='http://localhost:8080',\n",
    "                     user_agent='my user agent')\n",
    "\n",
    "print(reddit.auth.url(['identity'], '...', 'permanent'))\n",
    "\n",
    "es = Elasticsearch([{'host':'localhost','port':9200}])\n",
    "es"
   ]
  },
  {
   "cell_type": "markdown",
   "metadata": {},
   "source": [
    "## Grab comments for indexed redditors"
   ]
  },
  {
   "cell_type": "code",
   "execution_count": 4,
   "metadata": {},
   "outputs": [],
   "source": [
    "def index_comment(comment, sublisting, es, index_prefix):\n",
    "    \n",
    "    idx = index_prefix + '.' + sublisting\n",
    "    try:\n",
    "        es.indices.create(idx)\n",
    "    except:\n",
    "        pass\n",
    "    \n",
    "    doc = {}\n",
    "    doc['id'] = comment.fullname\n",
    "    doc['author'] = comment.author.name\n",
    "    doc['created_date'] = datetime.fromtimestamp(comment.created_utc).isoformat()\n",
    "    \n",
    "    if comment.approved_by:\n",
    "        doc['approver'] = comment.approved_by.name\n",
    "    else:\n",
    "        doc['approver'] = \"\"\n",
    "        \n",
    "    doc['approved_date'] = comment.approved_at_utc\n",
    "    doc['archived'] = comment.archived\n",
    "    doc['author_flair_text'] = comment.author_flair_text\n",
    "    doc['banned_date'] = comment.banned_at_utc\n",
    "    doc['banned_by'] = comment.banned_by\n",
    "    doc['text_body'] = comment.body\n",
    "    doc['text_body_html'] = comment.body_html\n",
    "    doc['controversiality'] = comment.controversiality\n",
    "    doc['distinguished'] = comment.distinguished\n",
    "    doc['up_votes'] = comment.ups\n",
    "    doc['down_votes'] = comment.downs\n",
    "    \n",
    "    if comment.edited:\n",
    "        doc['edited'] = True\n",
    "    else:\n",
    "        doc['edited'] = False\n",
    "    \n",
    "    doc['gilded'] = comment.gilded\n",
    "    doc['gildings'] = comment.gildings\n",
    "    doc['locked'] = comment.locked\n",
    "    doc['is_submitter'] = comment.is_submitter\n",
    "    doc['title'] = comment.link_title\n",
    "    doc['mod_note'] = comment.mod_note\n",
    "    doc['mod_reports'] = comment.mod_reports\n",
    "    doc['num_comments'] = comment.num_comments\n",
    "    doc['num_reports'] = comment.num_reports\n",
    "    doc['over_18'] = comment.over_18\n",
    "    doc['parent_id'] = comment.parent_id\n",
    "    doc['quarantine'] = comment.quarantine\n",
    "    doc['removal_reason'] = comment.removal_reason\n",
    "    doc['report_reasons'] = comment.report_reasons\n",
    "    doc['score'] = comment.score\n",
    "    doc['stickied'] = comment.stickied\n",
    "    doc['subreddit'] = comment.subreddit.display_name\n",
    "    doc['subreddit_category'] = comment.subreddit.advertiser_category\n",
    "    doc['total_awards_received'] = comment.total_awards_received\n",
    "    \n",
    "    es.index(index = idx, id = doc['id'], body = doc)\n",
    "    return doc\n",
    "    \n",
    "    "
   ]
  },
  {
   "cell_type": "code",
   "execution_count": null,
   "metadata": {},
   "outputs": [
    {
     "name": "stdout",
     "output_type": "stream",
     "text": [
      "{'subreddits': ['nfl'], 'name': 'DerMeisterMC', 'categories': ['Sports'], 'object_id': 't2_3ldglb25', 'trophies': ['Verified Email'], 'comments_indexed': False}\n",
      "{'subreddits': ['nfl'], 'name': 'jimmydead11', 'categories': ['Sports'], 'object_id': 't2_11vff9', 'trophies': ['Two-Year Club'], 'comments_indexed': False}\n",
      "{'subreddits': ['nfl'], 'name': 'Malourbas', 'categories': ['Sports'], 'object_id': 't2_y4p9z', 'trophies': ['Three-Year Club'], 'comments_indexed': False}\n",
      "{'subreddits': ['nfl'], 'name': 'Scarecrow_09', 'categories': ['Sports'], 'object_id': 't2_je5yx', 'trophies': ['Four-Year Club', 'Secret Santa', 'redditgifts Exchanges', 'Verified Email'], 'comments_indexed': False}\n",
      "{'subreddits': ['nfl'], 'name': 'drprun3', 'categories': ['Sports'], 'object_id': 't2_wq0ul', 'trophies': ['Three-Year Club', 'Verified Email'], 'comments_indexed': False}\n",
      "{'subreddits': ['nfl'], 'name': 'Grayfoxraiden', 'categories': ['Sports'], 'object_id': 't2_20hb1o6c', 'trophies': ['One-Year Club'], 'comments_indexed': False}\n"
     ]
    }
   ],
   "source": [
    "src_index = 'redditors'\n",
    "dest_index = 'comments'\n",
    "comment_sublistings = ['controversial', 'hot', 'new', 'top'] \n",
    "\n",
    "src_results = scan(es,         \n",
    "    query = {\n",
    "        \"query\": {\n",
    "            \"function_score\": {\n",
    "                \"query\": {\n",
    "                    \"term\": {\n",
    "                        \"comments_indexed\": {\n",
    "                            \"value\": False\n",
    "                    }\n",
    "                }\n",
    "            },\n",
    "            \"random_score\": { },\n",
    "            \"boost_mode\":\"multiply\"\n",
    "            }\n",
    "        }\n",
    "    },\n",
    "    index = src_index)\n",
    "\n",
    "for src_doc in src_results:\n",
    "    redditor = reddit.redditor(src_doc['_id'])\n",
    "    author_doc = src_doc['_source']\n",
    "    author_doc_updated: bool = False\n",
    "    \n",
    "    for sublisting in comment_sublistings:\n",
    "        try:\n",
    "            for comment in getattr(redditor.comments, sublisting)(limit = 100):\n",
    "                comment_doc = index_comment(comment, sublisting, es, dest_index)\n",
    "\n",
    "                if comment_doc['subreddit_category'] not in author_doc['categories']:\n",
    "                    author_doc['categories'].append(comment_doc['subreddit_category'])\n",
    "                    author_doc_updated = True\n",
    "\n",
    "                if comment_doc['subreddit'] not in author_doc['subreddits']:\n",
    "                    author_doc['subreddits'].append(comment_doc['subreddit'])\n",
    "                    author_doc_updated = True\n",
    "        except:\n",
    "            pass\n",
    "    \n",
    "    if author_doc_updated:\n",
    "        es.index(index = src_index, id = src_doc['_id'], body = author_doc)\n",
    "    \n",
    "    update = {\n",
    "        \"doc\": {\n",
    "              \"comments_indexed\": True\n",
    "        }\n",
    "    }\n",
    "    es.update(index = src_index, id = src_doc['_id'], body = update)"
   ]
  },
  {
   "cell_type": "code",
   "execution_count": null,
   "metadata": {},
   "outputs": [],
   "source": []
  }
 ],
 "metadata": {
  "kernelspec": {
   "display_name": "Python 3",
   "language": "python",
   "name": "python3"
  },
  "language_info": {
   "codemirror_mode": {
    "name": "ipython",
    "version": 3
   },
   "file_extension": ".py",
   "mimetype": "text/x-python",
   "name": "python",
   "nbconvert_exporter": "python",
   "pygments_lexer": "ipython3",
   "version": "3.7.4"
  }
 },
 "nbformat": 4,
 "nbformat_minor": 4
}
