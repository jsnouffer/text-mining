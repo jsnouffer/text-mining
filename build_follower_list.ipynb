{
 "cells": [
  {
   "cell_type": "code",
   "execution_count": 104,
   "metadata": {},
   "outputs": [],
   "source": [
    "from elasticsearch import Elasticsearch\n",
    "import random\n",
    "\n",
    "es = Elasticsearch([{'host':'localhost','port':9200}])\n",
    "es\n",
    "\n",
    "indx = 'redditors.followers.sample'\n",
    "\n",
    "try:\n",
    "    es.indices.create(index = indx)\n",
    "except:\n",
    "    pass"
   ]
  },
  {
   "cell_type": "code",
   "execution_count": 108,
   "metadata": {},
   "outputs": [],
   "source": [
    "results = es.search(scroll='360m', body =       \n",
    "{\n",
    "  \"query\": {\n",
    "    \"function_score\": {\n",
    "      \"query\": {\n",
    "        \"bool\": {\n",
    "          \"must\": [\n",
    "            {\n",
    "              \"bool\": {\n",
    "                \"must_not\": [\n",
    "                  {\n",
    "                    \"exists\": {\n",
    "                      \"field\": \"commenters_sampled\"\n",
    "                    }\n",
    "                  }\n",
    "                ]\n",
    "              }\n",
    "            },\n",
    "            {\n",
    "              \"exists\": {\n",
    "                \"field\": \"commenters\"\n",
    "              }\n",
    "            }\n",
    "          ]\n",
    "        }\n",
    "      },\n",
    "      \"random_score\": {\n",
    "        \"seed\": random.randint(1, 1000)\n",
    "      },\n",
    "      \"boost_mode\": \"replace\"\n",
    "    }\n",
    "  }\n",
    "}, index = 'redditors', size = 10000)"
   ]
  },
  {
   "cell_type": "code",
   "execution_count": 109,
   "metadata": {},
   "outputs": [],
   "source": [
    "for result in results['hits']['hits']:\n",
    "    commenters = result['_source']['commenters']\n",
    "    if len(commenters) >= 100 and len(commenters) <= 160:\n",
    "        for commenter in commenters:\n",
    "            doc = {}\n",
    "            doc['name'] = commenter\n",
    "            es.index(index = indx, id = commenter, body = doc)\n",
    "\n",
    "        update = {\n",
    "            \"doc\": {\n",
    "                  \"commenters_sampled\": True\n",
    "            }\n",
    "        }\n",
    "        es.update(index = 'redditors', id = result['_id'], body = update)"
   ]
  }
 ],
 "metadata": {
  "kernelspec": {
   "display_name": "Python 3",
   "language": "python",
   "name": "python3"
  },
  "language_info": {
   "codemirror_mode": {
    "name": "ipython",
    "version": 3
   },
   "file_extension": ".py",
   "mimetype": "text/x-python",
   "name": "python",
   "nbconvert_exporter": "python",
   "pygments_lexer": "ipython3",
   "version": "3.7.4"
  }
 },
 "nbformat": 4,
 "nbformat_minor": 4
}
